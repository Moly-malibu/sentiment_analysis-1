{
 "cells": [
  {
   "cell_type": "markdown",
   "metadata": {},
   "source": [
    "# Clustering Analysis\n",
    "\n",
    "\n",
    "This noteboook will do a simple clustering analysis on the data sets on file to look for patterns."
   ]
  },
  {
   "cell_type": "code",
   "execution_count": 4,
   "metadata": {},
   "outputs": [
    {
     "name": "stdout",
     "output_type": "stream",
     "text": [
      "(10000, 7)\n"
     ]
    }
   ],
   "source": [
    "# Let us import some of the twitter data into a padas notebook\n",
    "\n",
    "import sqlite3\n",
    "import pandas as pd\n",
    "\n",
    "# Choose and load the appropirate data set\n",
    "#conn = sqlite3.connect('location_based_database.db')\n",
    "conn = sqlite3.connect('keyword_based_database.db')\n",
    "\n",
    "# Make an SQLite query if needed\n",
    "#c = conn.cursor()\n",
    "#c.execute('''SELECT * FROM tweet;''')\n",
    "\n",
    "# Read into a Pandas Data Frame\n",
    "df = pd.read_sql_query(\"SELECT * FROM tweet LIMIT 10000;\",conn)\n",
    "\n",
    "print(df.shape)"
   ]
  },
  {
   "cell_type": "code",
   "execution_count": null,
   "metadata": {},
   "outputs": [],
   "source": []
  }
 ],
 "metadata": {
  "kernelspec": {
   "display_name": "Python [conda env:py35]",
   "language": "python",
   "name": "conda-env-py35-py"
  },
  "language_info": {
   "codemirror_mode": {
    "name": "ipython",
    "version": 3
   },
   "file_extension": ".py",
   "mimetype": "text/x-python",
   "name": "python",
   "nbconvert_exporter": "python",
   "pygments_lexer": "ipython3",
   "version": "3.5.5"
  }
 },
 "nbformat": 4,
 "nbformat_minor": 2
}
