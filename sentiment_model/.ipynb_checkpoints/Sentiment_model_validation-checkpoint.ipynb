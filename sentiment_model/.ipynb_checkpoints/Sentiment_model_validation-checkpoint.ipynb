{
 "cells": [
  {
   "cell_type": "code",
   "execution_count": 1,
   "metadata": {},
   "outputs": [
    {
     "name": "stdout",
     "output_type": "stream",
     "text": [
      "[nltk_data] Downloading package wordnet to /home/javier/nltk_data...\n",
      "[nltk_data]   Package wordnet is already up-to-date!\n",
      "[nltk_data] Downloading package stopwords to /home/javier/nltk_data...\n",
      "[nltk_data]   Package stopwords is already up-to-date!\n",
      "[nltk_data] Downloading package punkt to /home/javier/nltk_data...\n",
      "[nltk_data]   Package punkt is already up-to-date!\n",
      "   sentiment          id                          date query_string  \\\n",
      "0          4  2002015232  Tue Jun 02 02:51:28 PDT 2009     NO_QUERY   \n",
      "1          0  1881226044  Fri May 22 04:01:00 PDT 2009     NO_QUERY   \n",
      "2          0  2175219696  Mon Jun 15 00:23:50 PDT 2009     NO_QUERY   \n",
      "3          4  2175212637  Mon Jun 15 00:22:41 PDT 2009     NO_QUERY   \n",
      "4          4  1827582647  Sun May 17 11:01:00 PDT 2009     NO_QUERY   \n",
      "\n",
      "            user                                               text  \n",
      "0  erlendforsund  @csavage Thanks for the advice! Yes, I'm looki...  \n",
      "1    shads210309  can't play the guitar for a while, my fingers ...  \n",
      "2  literatewench  &quot;The Time Traveler's Wife&quot; trailer i...  \n",
      "3      Havoc1108  @sandymydarlin im sorry my love but im back no...  \n",
      "4  kolfriendfeed  @joedawson Good question. One I can't answer. ...  \n"
     ]
    }
   ],
   "source": [
    "import warnings\n",
    "import numpy as np\n",
    "\n",
    "warnings.filterwarnings('ignore')\n",
    "\n",
    "import pandas as pd\n",
    "import matplotlib.pyplot as plt\n",
    "import numpy as np\n",
    "from process_text import sentiment_model\n",
    "from process_text import clean_up_text\n",
    "from process_text import preprocess\n",
    "from process_text import string_cohesion\n",
    "\n",
    "\n",
    "file_name = './sentiment140/training.1600000.processed.noemoticon.csv'\n",
    "cols = ['sentiment','id','date','query_string','user','text']\n",
    "\n",
    "#data = pd.read_csv(file_name,sep=',')\n",
    "df=pd.read_csv(file_name,header=None, names=cols,encoding = \"ISO-8859-1\")\n",
    "df=df.sample(frac=1)\n",
    "df=df.reset_index(drop=True)\n",
    "\n",
    "#df_pos = df[df['sentiment']==4]\n",
    "#df_neu = df[df['sentiment']==2]\n",
    "#df_neg = df[df['sentiment']==0]\n",
    "#df.describe()\n",
    "#print(len(df_pos),len(df_neu),len(df_neg), len(df))\n",
    "\n",
    "df = df[0:20000]\n",
    "\n",
    "print(df.head())"
   ]
  },
  {
   "cell_type": "code",
   "execution_count": 2,
   "metadata": {},
   "outputs": [],
   "source": [
    "df['text']= df['text'].apply(clean_up_text)"
   ]
  },
  {
   "cell_type": "code",
   "execution_count": 3,
   "metadata": {},
   "outputs": [
    {
     "data": {
      "text/plain": [
       "(array([ 9982.,     0.,     0.,     0.,     0.,     0.,     0.,     0.,\n",
       "            0., 10018.]),\n",
       " array([0. , 0.4, 0.8, 1.2, 1.6, 2. , 2.4, 2.8, 3.2, 3.6, 4. ]),\n",
       " <a list of 10 Patch objects>)"
      ]
     },
     "execution_count": 3,
     "metadata": {},
     "output_type": "execute_result"
    },
    {
     "data": {
      "image/png": "[encoded data removed]",
      "text/plain": [
       "<Figure size 432x288 with 1 Axes>"
      ]
     },
     "metadata": {},
     "output_type": "display_data"
    }
   ],
   "source": [
    "y = df['sentiment']\n",
    "\n",
    "plt.hist(y)"
   ]
  },
  {
   "cell_type": "code",
   "execution_count": 4,
   "metadata": {},
   "outputs": [
    {
     "data": {
      "text/plain": [
       "'cant play guitar finger hu lot'"
      ]
     },
     "execution_count": 4,
     "metadata": {},
     "output_type": "execute_result"
    }
   ],
   "source": [
    "df['text'][1]"
   ]
  },
  {
   "cell_type": "code",
   "execution_count": 5,
   "metadata": {},
   "outputs": [
    {
     "name": "stdout",
     "output_type": "stream",
     "text": [
      "Loaded 3500 X 2444 document-term matrix\n",
      "number of terms:  2444\n",
      "Dictionary:  8750\n",
      "A:  (8750, 2444)\n"
     ]
    }
   ],
   "source": [
    "# Load in the sentiment models \n",
    "\n",
    "import warnings\n",
    "warnings.filterwarnings('ignore')\n",
    "\n",
    "from process_text import clean_up_text\n",
    "from process_text import string_cohesion\n",
    "from textblob import TextBlob\n",
    "import spacy\n",
    "import pickle\n",
    "from sklearn.externals import joblib\n",
    "from sklearn.feature_extraction.text import TfidfVectorizer\n",
    "\n",
    "#--------------------------------------------------------------\n",
    "# Import the custom stop words\n",
    "custom_stop_words = []\n",
    "with open( \"stopwords.txt\", \"r\" ) as fin:\n",
    "    for line in fin.readlines():\n",
    "        custom_stop_words.append( line.strip() )\n",
    "#--------------------------------------------------------------\n",
    "\n",
    "\n",
    "#--------------------------------------------------------------\n",
    "# Import the vocabulary and generate the vectorizer transformer\n",
    "#--------------------------------------------------------------\n",
    "(A,terms,dict_sample) = joblib.load( \"/home/javier/Documents/sentiment_analysis/sentiment_model/articles-raw.pkl\" )\n",
    "print( \"Loaded %d X %d document-term matrix\" % (A.shape[0], A.shape[1]) )\n",
    "print('number of terms: ',len(terms))#print(dic_sample[0:10])\n",
    "print('Dictionary: ',len(dict_sample))\n",
    "\n",
    "vectorizer = TfidfVectorizer(stop_words = custom_stop_words,min_df = 20)\n",
    "A = vectorizer.fit_transform(dict_sample)\n",
    "print('A: ', A.shape)\n",
    "#--------------------------------------------------------------\n",
    "\n",
    "\n",
    "#--------------------------------------------------------------\n",
    "# We load the trained models\n",
    "#--------------------------------------------------------------\n",
    "# The names of the files containing the weights of the model\n",
    "filename1 = 'lr_sentiment_model.sav'\n",
    "filename2 = 'nb_sentiment_model.sav'\n",
    "\n",
    "# Now we load in the trained models\n",
    "loaded_lr = pickle.load(open(filename1, 'rb'))\n",
    "loaded_nb = pickle.load(open(filename2, 'rb'))"
   ]
  },
  {
   "cell_type": "code",
   "execution_count": 16,
   "metadata": {},
   "outputs": [
    {
     "name": "stderr",
     "output_type": "stream",
     "text": [
      "100%|██████████| 20000/20000 [00:59<00:00, 337.30it/s]\n",
      "100%|██████████| 20000/20000 [00:53<00:00, 371.12it/s]\n",
      "100%|██████████| 20000/20000 [00:52<00:00, 377.38it/s]\n",
      "100%|██████████| 20000/20000 [00:54<00:00, 365.04it/s]\n"
     ]
    }
   ],
   "source": [
    "from sklearn.metrics import accuracy_score\n",
    "from tqdm import tqdm\n",
    "\n",
    "\n",
    "threshold = [0.2,0.4,0.6,0.8]\n",
    "model_accuracy = []\n",
    "model_sample_size = []\n",
    "\n",
    "\n",
    "for t in threshold:\n",
    "    \n",
    "    sentiment_pred = []\n",
    "    sentiment_prob = []\n",
    "    y = []\n",
    "    \n",
    "    for k in tqdm(range(0,len(df))):\n",
    "        # The Tweet to be analysed\n",
    "        sample_text = df['text'][k]\n",
    "\n",
    "        # The labelled sentiment of the tweet\n",
    "        true_sentiment = df['sentiment'][k]\n",
    "\n",
    "        # We map the sentiment to our values\n",
    "        if(true_sentiment==0):\n",
    "            y_true = -1\n",
    "        elif(true_sentiment==4):\n",
    "            y_true = +1\n",
    "\n",
    "        pred,prob = sentiment_model(sample_text,t,vectorizer, loaded_lr,loaded_nb)\n",
    "\n",
    "        if(pred!=0):\n",
    "            y.append(y_true)\n",
    "            sentiment_pred.append(pred)\n",
    "            sentiment_prob.append(prob)\n",
    "            \n",
    "    acc = accuracy_score(y_pred=sentiment_pred,y_true=y)    \n",
    "    model_accuracy.append(acc)\n",
    "    model_sample_size.append(len(y))"
   ]
  },
  {
   "cell_type": "code",
   "execution_count": 25,
   "metadata": {},
   "outputs": [
    {
     "data": {
      "image/png": "[encoded data removed]",
      "text/plain": [
       "<Figure size 432x288 with 1 Axes>"
      ]
     },
     "metadata": {},
     "output_type": "display_data"
    },
    {
     "data": {
      "image/png": "[encoded data removed]",
      "text/plain": [
       "<Figure size 432x288 with 1 Axes>"
      ]
     },
     "metadata": {},
     "output_type": "display_data"
    }
   ],
   "source": [
    "plt.plot(threshold,model_accuracy,'o')\n",
    "plt.title('Model Accuracy vs Threshold',size=20)\n",
    "plt.ylabel('Accuracy',size=20)\n",
    "plt.xlabel('Threshold Value',size=20)\n",
    "plt.show()\n",
    "\n",
    "\n",
    "plt.plot(threshold,model_sample_size,'o')\n",
    "plt.title('Sample Size vs Threshold',size=20)\n",
    "plt.ylabel('Sample Size',size=20)\n",
    "plt.xlabel('Threshold Value',size=20)\n",
    "plt.show()"
   ]
  },
  {
   "cell_type": "code",
   "execution_count": null,
   "metadata": {},
   "outputs": [],
   "source": []
  }
 ],
 "metadata": {
  "kernelspec": {
   "display_name": "Python [conda env:py35]",
   "language": "python",
   "name": "conda-env-py35-py"
  },
  "language_info": {
   "codemirror_mode": {
    "name": "ipython",
    "version": 3
   },
   "file_extension": ".py",
   "mimetype": "text/x-python",
   "name": "python",
   "nbconvert_exporter": "python",
   "pygments_lexer": "ipython3",
   "version": "3.5.5"
  }
 },
 "nbformat": 4,
 "nbformat_minor": 2
}
