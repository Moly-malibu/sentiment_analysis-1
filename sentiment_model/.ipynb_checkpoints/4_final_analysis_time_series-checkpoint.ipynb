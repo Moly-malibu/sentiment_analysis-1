{
 "cells": [
  {
   "cell_type": "markdown",
   "metadata": {},
   "source": [
    "# This notebook produces the sentiment bar charts \n",
    "\n",
    "\n",
    "This notebook will perform the following steps:\n",
    "\n",
    "1. Read in and process tweets\n",
    "2. convert tweets into feature vectors\n",
    "3. Converted tweets are fed into classifiers which then compute the sentiment of the tweets with probabilities\n",
    "4. A threshold is selected, and tweets with a confidence below this threshold are classified as Neutral. Above this threshold, the sentiments are classified into positive or negative tweets.\n",
    "5. All tweets are processed and the final graphs are generated\n"
   ]
  },
  {
   "cell_type": "code",
   "execution_count": 1,
   "metadata": {},
   "outputs": [
    {
     "name": "stdout",
     "output_type": "stream",
     "text": [
      "[nltk_data] Downloading package wordnet to /home/javier/nltk_data...\n",
      "[nltk_data]   Package wordnet is already up-to-date!\n",
      "[nltk_data] Downloading package stopwords to /home/javier/nltk_data...\n",
      "[nltk_data]   Package stopwords is already up-to-date!\n",
      "[nltk_data] Downloading package punkt to /home/javier/nltk_data...\n",
      "[nltk_data]   Package punkt is already up-to-date!\n"
     ]
    }
   ],
   "source": [
    "import warnings\n",
    "import numpy as np\n",
    "\n",
    "warnings.filterwarnings('ignore')\n",
    "\n",
    "import os.path\n",
    "import sqlite3\n",
    "import pandas as pd\n",
    "%matplotlib inline\n",
    "import numpy as np\n",
    "import matplotlib\n",
    "import matplotlib.pyplot as plt\n",
    "from process_text import clean_up_text\n",
    "from process_text import preprocess\n",
    "from process_text import string_cohesion\n",
    "from sklearn.feature_extraction.text import TfidfVectorizer\n",
    "\n",
    "car_company = \"Ford\"\n",
    "\n",
    "conn = sqlite3.connect('keyword_based_database.db')\n",
    "\n",
    "q_ford='''\n",
    "SELECT * FROM tweet\n",
    "WHERE LOWER(tweet_text) LIKE '%ford%'\n",
    "AND created_at LIKE '%Aug 13 %'\n",
    "AND LOWER(tweet_text) NOT LIKE '%harrison%'  \n",
    "AND LOWER(tweet_text) NOT LIKE '%doug%'\n",
    "AND LOWER(tweet_text) NOT LIKE '%tom%'\n",
    "AND LOWER(tweet_text) NOT LIKE '%henry%'\n",
    "AND LOWER(tweet_text) NOT LIKE '%government%'\n",
    "AND LOWER(tweet_text) NOT LIKE '%goverment%'\n",
    "AND LOWER(tweet_text) NOT LIKE '%tax%'\n",
    "AND LOWER(tweet_text) NOT LIKE '%toronto%'\n",
    "AND LOWER(tweet_text) NOT LIKE '%democrats%'\n",
    "AND LOWER(tweet_text) NOT LIKE '%ontario%'\n",
    "AND LOWER(tweet_text) NOT LIKE '%fordnation%'\n",
    "AND LOWER(tweet_text) NOT LIKE '%premier%'\n",
    "AND LOWER(tweet_text) NOT LIKE '%melissa%'\n",
    "'''\n",
    "\n",
    "q_toyota='''\n",
    "SELECT * FROM tweet\n",
    "WHERE LOWER(tweet_text) LIKE '%toyota%'  \n",
    "'''\n",
    "\n",
    "\n",
    "q_mercedes='''\n",
    "SELECT * FROM tweet\n",
    "WHERE LOWER(tweet_text) LIKE '%mercedes%'\n",
    "'''\n",
    "\n",
    "q_bmw='''\n",
    "SELECT * FROM tweet\n",
    "WHERE LOWER(tweet_text) LIKE '%bmw%'  \n",
    "AND LOWER(tweet_text) NOT LIKE '%police%'\n",
    "LIMIT 10000;\n",
    "'''\n",
    "\n",
    "q_porche='''\n",
    "SELECT * FROM tweet\n",
    "WHERE LOWER(tweet_text) LIKE '%porsche%'\n",
    "AND LOWER(tweet_text) NOT LIKE '%davido%'\n",
    "AND LOWER(tweet_text) NOT LIKE '%nuamah%'\n",
    "AND LOWER(tweet_text) NOT LIKE '%actor%'\n",
    "AND LOWER(tweet_text) NOT LIKE '%police%'\n",
    "'''\n",
    "\n",
    "q_tesla='''\n",
    "SELECT * FROM tweet\n",
    "WHERE LOWER(tweet_text) LIKE '%tesla%'\n",
    "AND LOWER(tweet_text) LIKE '%model%'\n",
    "AND LOWER(tweet_text) NOT LIKE '%elon%'\n",
    "AND LOWER(tweet_text) NOT LIKE '%musk%'\n",
    "AND LOWER(tweet_text) NOT LIKE '%solar roof%'\n",
    "AND LOWER(tweet_text) NOT LIKE '%stock%'\n",
    "AND LOWER(tweet_text) NOT LIKE '%production rate%'\n",
    "AND LOWER(tweet_text) NOT LIKE '%money model%'\n",
    "AND LOWER(tweet_text) NOT LIKE '%industry%'\n",
    "AND LOWER(tweet_text) NOT LIKE '%net loss%'\n",
    "AND LOWER(tweet_text) NOT LIKE '%loss%'\n",
    "AND LOWER(tweet_text) NOT LIKE '%profit%'\n",
    "AND LOWER(tweet_text) NOT LIKE '%atari%'\n",
    "AND LOWER(tweet_text) NOT LIKE '%financial%'\n",
    "AND LOWER(tweet_text) NOT LIKE '%earn%'\n",
    "AND LOWER(tweet_text) NOT LIKE '%quarterly%'\n",
    "AND LOWER(tweet_text) NOT LIKE '%record%'\n",
    "AND LOWER(tweet_text) NOT LIKE '%market%'\n",
    "AND LOWER(tweet_text) NOT LIKE '%outsell%'\n",
    "AND LOWER(tweet_text) NOT LIKE '%produce%'\n",
    "AND LOWER(tweet_text) NOT LIKE 'second-quarter'\n",
    "AND LOWER(tweet_text) NOT LIKE 'invest'\n",
    "'''\n",
    "\n",
    "q_tesla='''\n",
    "SELECT * FROM tweet\n",
    "WHERE LOWER(tweet_text) LIKE '%tesla%'\n",
    "AND LOWER(tweet_text) NOT LIKE '%solar roof%'\n",
    "AND created_at LIKE '%Aug 13%'\n",
    "'''\n",
    "\n",
    "if(car_company==\"Toyota\"):\n",
    "    q = q_toyota\n",
    "elif(car_company==\"Ford\"):\n",
    "    q= q_ford\n",
    "elif(car_company==\"Mercedes\"):\n",
    "    q=q_mercedes\n",
    "elif(car_company==\"BMW\"):\n",
    "    q=q_bmw\n",
    "elif(car_company==\"Porche\"):\n",
    "    q=q_porche\n",
    "elif(car_company==\"Tesla\"):\n",
    "    q=q_tesla\n",
    "\n",
    "\n",
    "df = pd.read_sql_query(q,conn)"
   ]
  },
  {
   "cell_type": "markdown",
   "metadata": {},
   "source": [
    "# Some simple data exploration on the filtered tweets, histograms of the tweet lengths"
   ]
  },
  {
   "cell_type": "code",
   "execution_count": 2,
   "metadata": {},
   "outputs": [
    {
     "name": "stdout",
     "output_type": "stream",
     "text": [
      "---------------------------------------------------------\n",
      "Column names: \n",
      " ['tweet_id_text', 'tweet_hashtag', 'tweet_text', 'created_at', 'geo_lat', 'geo_long', 'user_id_text'] \n",
      "\n",
      "The number of tweets:  3674 \n",
      "\n",
      "---------------------------------------------------------\n",
      "Sample Tweets: \n",
      "\n",
      "0     “Leave the gun, take the cannoli” The Godfathe...\n",
      "1     Se vende Ford F150 DC 4X2 https://t.co/0xT4ing...\n",
      "2     Chart of the day: Toyota extends lead with Hol...\n",
      "3     ‘US agenda for Iran is actually Israel’s’ \\nht...\n",
      "4     Most viewed photo gallery of the week: Ford ad...\n",
      "5     RT @Rick_Singa: @DesignationSix @PeconicLady @...\n",
      "6     RT @truthout6: @cassie_g_yo Go Cassie!!!   Her...\n",
      "7     eBay: Ford 2000 offset tractor diesel very rar...\n",
      "8     Geoff Huckle Created a new forum topic Ford Tr...\n",
      "9     .@MSR_Supercars and @Todd_Hazelwood are switch...\n",
      "10    New on eBay :  Men's Leather Shoes Formal Oxfo...\n",
      "11    Ford is deploying exoskeletons in 15 of its fa...\n",
      "12    RT @roushyates: It's double Stage wins for @Ke...\n",
      "13    Check out this incredibly rare Ford F150 Shelb...\n",
      "14    @WheresMyArk_23 @farmerpower2017 @davidhogg111...\n",
      "15    OPTIMIZING with Dr. Ken Ford: https://t.co/Wbe...\n",
      "16    RT @supercars: .@MSR_Supercars and @Todd_Hazel...\n",
      "17    algame comped it. Ford glade to water, it his ...\n",
      "18    RT @yakithouri: she looks exactly like daniel ...\n",
      "19    I liked a @YouTube video https://t.co/86aSPpGC...\n",
      "20    Chart of the day: Toyota extends lead with Hol...\n",
      "21    RT @LeslieMaggie: Ford has not proven critics ...\n",
      "22    RT @RudyGiuliani: Thank God for State Rep. La ...\n",
      "23    eBay: 2005 Ford Mustang GT 2005 Ford Mustang G...\n",
      "24    eBay: 2007 Ford Mustang Pony package ford must...\n",
      "25    eBay: 2011 Ford Mustang Mustang GT Premium Sup...\n",
      "26    @JackHam41163097 @sunlorrie Fiscally responsib...\n",
      "27    eBay: 1968 Ford Mustang 302 Auto J-code w/ AC ...\n",
      "28    RT @Rick_Singa: @DesignationSix @PeconicLady @...\n",
      "29    RT @barnfinds: Quick Attack Survivor: 1965 #Fo...\n",
      "                            ...                        \n",
      "70    @R2Roche @FPRacingSchool @Ford @FordMustang Th...\n",
      "71    And another photo, this time from the set with...\n",
      "72    @DesignationSix @AaroniousZone @FoxNews @NFL @...\n",
      "73    @therunchat Brock from Nebraska. Something ran...\n",
      "74    New on eBay US :  Rough Country - 566.20 - 6\" ...\n",
      "75    Are you trying to merge onto the superhighway ...\n",
      "76    RT @abcnews: Chart of the day: Toyota extends ...\n",
      "77    RT @ChristaDao: RCMP need help finding a truck...\n",
      "78    “And it was a most remarkable, a most moving g...\n",
      "79    RT @AmExperiencePBS: Production began on the M...\n",
      "80    RT @RealFakeRealNew: @pomsonfire @DesignationS...\n",
      "81    @DesignationSix @FoxNews @NFL @Ford @LincolnMo...\n",
      "82    RT @jgoodmanartist: Oh yes, the Ford Gt #66, I...\n",
      "83    RT @PGHCityPaper: “Antwon didn't die in vain. ...\n",
      "84    RT @A_mericanMuscle: 1965 Ford Mustang Fastbac...\n",
      "85    [Construction Alert] \\nWatch Suburban Ford of ...\n",
      "86    RT @SonofNewo: Ford Fischer embedded with his ...\n",
      "87    Summer Music Series this week featuring the Ka...\n",
      "88    @Hoopties14 Wonderful Ford in your profile pic...\n",
      "89    @DesignationSix @FoxNews @NFL @Ford @LincolnMo...\n",
      "90    RT @VonniMediaMogul: I heard the fat woman fro...\n",
      "91    RT @WarpsiwaJAV: Lilly Ford\\n🔞 #วาร์ปสิวะ #Por...\n",
      "92    RT @RudyGiuliani: Thank God for State Rep. La ...\n",
      "93    Thanks to all of our loyal Charger fans for co...\n",
      "94    RT @Foxxita: @DesignationSix @FoxNews @NFL @Fo...\n",
      "95    jaredyeldell02: THIS CBS SPORTS UPDATE IS PRES...\n",
      "96    Look forward to the day i can afford one #savi...\n",
      "97    @DesignationSix @lsmith666 @FoxNews @NFL @Ford...\n",
      "98    RT @pomsonfire: @DesignationSix @FoxNews @NFL ...\n",
      "99    Waterford Crystal Lismore 4x6 Picture Frame 10...\n",
      "Name: tweet_text, Length: 100, dtype: object\n"
     ]
    },
    {
     "data": {
      "image/png": "[encoded data removed]",
      "text/plain": [
       "<Figure size 432x288 with 1 Axes>"
      ]
     },
     "metadata": {},
     "output_type": "display_data"
    }
   ],
   "source": [
    "# Some simple Data exploration\n",
    "\n",
    "N_raw_tweets = len(df)\n",
    "\n",
    "print('---------------------------------------------------------')\n",
    "print('Column names: \\n', list(df.columns.values),\"\\n\")\n",
    "print('The number of tweets: ', N_raw_tweets,'\\n')\n",
    "print('---------------------------------------------------------')\n",
    "\n",
    "# Show the First ten items in the tweet database\n",
    "print(\"Sample Tweets: \\n\")\n",
    "print(df['tweet_text'][0:100])\n",
    "\n",
    "\n",
    "\n",
    "# A small data frame to plot the length of the tweets and plot a histogram\n",
    "df_len= df['tweet_text'].apply(len)\n",
    "plt.hist(df_len,bins=20,density=True)\n",
    "plt.ylabel('Frequency',size=15)\n",
    "plt.xlabel('Tweet Length',size=15)\n",
    "plt.savefig('tweet_length_histogram_raw.pdf',bboxes='tight')\n",
    "plt.show()"
   ]
  },
  {
   "cell_type": "markdown",
   "metadata": {},
   "source": [
    "# Having loaded in the tweets we now process each tweet text and generate a histogram of the length of the processed tweets"
   ]
  },
  {
   "cell_type": "code",
   "execution_count": 3,
   "metadata": {},
   "outputs": [
    {
     "name": "stdout",
     "output_type": "stream",
     "text": [
      "\n",
      "\n",
      "=============================================================\n",
      "The number of tweets after removing duplicates:  2374 \n",
      "\n",
      "Fraction removed:  0.354\n",
      "=============================================================\n"
     ]
    },
    {
     "data": {
      "image/png": "[encoded data removed]",
      "text/plain": [
       "<Figure size 432x288 with 1 Axes>"
      ]
     },
     "metadata": {},
     "output_type": "display_data"
    }
   ],
   "source": [
    "# Apply the 'Clean-up-text function to all tweets in the data frame'\n",
    "df['tweet_text'] = df['tweet_text'].apply(clean_up_text)\n",
    "\n",
    "\n",
    "# Remove duplicate tweets and reset the index\n",
    "df.drop_duplicates(subset='tweet_text', keep='first', inplace=True)\n",
    "df=df.reset_index(drop=True)\n",
    "\n",
    "N_processed_tweets = len(df)\n",
    "\n",
    "print('\\n')\n",
    "print('=============================================================')\n",
    "print('The number of tweets after removing duplicates: ', N_processed_tweets ,'\\n')\n",
    "print('Fraction removed: ', round(1.0-(N_processed_tweets/float(N_raw_tweets)),3) )\n",
    "print('=============================================================')\n",
    "\n",
    "# A small data frame to plot the length of the tweets\n",
    "df_len= df['tweet_text'].apply(len)\n",
    "plt.hist(df_len,bins=20,density=True)\n",
    "plt.ylabel('Frequency',size=15)\n",
    "plt.xlabel('Tweet Length',size=15)\n",
    "plt.savefig('tweet_length_histogram_processed.pdf',bboxes='tight')\n",
    "plt.show()"
   ]
  },
  {
   "cell_type": "code",
   "execution_count": 4,
   "metadata": {},
   "outputs": [
    {
     "name": "stdout",
     "output_type": "stream",
     "text": [
      "Loaded 3500 X 2444 document-term matrix\n",
      "number of terms:  2444\n",
      "Dictionary:  8750\n",
      "A:  (8750, 2444)\n"
     ]
    }
   ],
   "source": [
    "import warnings\n",
    "warnings.filterwarnings('ignore')\n",
    "\n",
    "from process_text import clean_up_text\n",
    "from process_text import string_cohesion\n",
    "from textblob import TextBlob\n",
    "import spacy\n",
    "import pickle\n",
    "from sklearn.externals import joblib\n",
    "from sklearn.feature_extraction.text import TfidfVectorizer\n",
    "\n",
    "#--------------------------------------------------------------\n",
    "# Import the custom stop words\n",
    "custom_stop_words = []\n",
    "with open( \"stopwords.txt\", \"r\" ) as fin:\n",
    "    for line in fin.readlines():\n",
    "        custom_stop_words.append( line.strip() )\n",
    "#--------------------------------------------------------------\n",
    "\n",
    "\n",
    "#--------------------------------------------------------------\n",
    "# Import the vocabulary and generate the vectorizer tranformer\n",
    "#--------------------------------------------------------------\n",
    "(A,terms,dict_sample) = joblib.load( \"/home/javier/Documents/sentiment_analysis/sentiment_model/articles-raw.pkl\" )\n",
    "print( \"Loaded %d X %d document-term matrix\" % (A.shape[0], A.shape[1]) )\n",
    "print('number of terms: ',len(terms))#print(dic_sample[0:10])\n",
    "print('Dictionary: ',len(dict_sample))\n",
    "\n",
    "vectorizer = TfidfVectorizer(stop_words = custom_stop_words,min_df = 20)\n",
    "A = vectorizer.fit_transform(dict_sample)\n",
    "print('A: ', A.shape)\n",
    "#--------------------------------------------------------------\n",
    "\n",
    "\n",
    "#--------------------------------------------------------------\n",
    "# We load the trained models\n",
    "#--------------------------------------------------------------\n",
    "# The names of the files containing the weights of the model\n",
    "filename1 = 'lr_sentiment_model.sav'\n",
    "filename2 = 'nb_sentiment_model.sav'\n",
    "\n",
    "# Now we load in the trained models\n",
    "loaded_lr = pickle.load(open(filename1, 'rb'))\n",
    "loaded_nb = pickle.load(open(filename2, 'rb'))"
   ]
  },
  {
   "cell_type": "code",
   "execution_count": 5,
   "metadata": {},
   "outputs": [],
   "source": [
    "# Here we will define the final sentiment model\n",
    "\n",
    "\n",
    "def sentiment_model(text,threshold):\n",
    "    \n",
    "    s = str(clean_up_text(text))\n",
    "    \n",
    "    X0 = vectorizer.transform([s])\n",
    "    \n",
    "    preds_nb = loaded_nb.predict(X0)\n",
    "    preds_lr = loaded_lr.predict(X0)\n",
    "    preds_blob =  TextBlob(text).sentiment.polarity\n",
    "    \n",
    "    if(preds_blob>=0.0):\n",
    "        preds_blob = +1\n",
    "    else:\n",
    "        preds_blob = -1\n",
    "        \n",
    "    indx_nb= int((preds_nb[0]+1)/2)\n",
    "    indx_lr= int((preds_lr[0]+1)/2)\n",
    "    prob_nb = abs((loaded_nb.predict_proba(X0)[0][indx_nb]-.50)*2.0*int(preds_nb[0]))\n",
    "    prob_lr = abs((loaded_lr.predict_proba(X0)[0][indx_lr]-0.50)*2.0*int(preds_lr[0]))\n",
    "    prob_blob = abs(TextBlob(sample_text).sentiment.polarity) # [-1,1]\n",
    "    \n",
    "    \n",
    "    if(prob_lr<threshold):\n",
    "        preds_lr=[0.0]\n",
    "        \n",
    "    if(prob_nb<threshold):\n",
    "        preds_nb=[0.0]\n",
    "        \n",
    "    if(prob_blob<threshold):\n",
    "        preds_blob =0.0\n",
    "        \n",
    "        \n",
    "    # choose the most likely model\n",
    "    predictions = [preds_nb[0],preds_lr[0],preds_blob]\n",
    "    predict_prob = [prob_nb,prob_lr,prob_blob]\n",
    "    \n",
    "    pred = predictions[np.argmax(predict_prob)]\n",
    "    prob = np.max(predict_prob)\n",
    "    \n",
    "    \n",
    "    return pred,prob"
   ]
  },
  {
   "cell_type": "code",
   "execution_count": 6,
   "metadata": {},
   "outputs": [
    {
     "name": "stderr",
     "output_type": "stream",
     "text": [
      "100%|██████████| 4/4 [00:24<00:00,  6.05s/it]\n"
     ]
    },
    {
     "data": {
      "image/png": "[encoded data removed]",
      "text/plain": [
       "<Figure size 432x288 with 1 Axes>"
      ]
     },
     "metadata": {},
     "output_type": "display_data"
    }
   ],
   "source": [
    "import collections\n",
    "from tqdm import tqdm\n",
    "\n",
    "thresholds = [0.1,0.2,0.3,0.4]\n",
    "sentiment_pred = []\n",
    "sentiment_prob = []\n",
    "ratio = []\n",
    "\n",
    "for threshold in tqdm(thresholds):\n",
    "    \n",
    "    sentiment_pred = []\n",
    "    sentiment_prob = []\n",
    "    \n",
    "    for k in range(0,len(df)):\n",
    "        sample_text = df['tweet_text'][k]\n",
    "        pred,prob = sentiment_model(sample_text,threshold)\n",
    "        sentiment_pred.append(pred)\n",
    "        sentiment_prob.append(prob)\n",
    "        \n",
    "    m_count= collections.Counter(sentiment_pred)\n",
    "    ratio.append(m_count[-1]/m_count[1])\n",
    "    \n",
    "plt.plot(thresholds,ratio,\"-o\")\n",
    "plt.show()"
   ]
  },
  {
   "cell_type": "code",
   "execution_count": 7,
   "metadata": {},
   "outputs": [
    {
     "data": {
      "image/png": "[encoded data removed]",
      "text/plain": [
       "<Figure size 432x288 with 1 Axes>"
      ]
     },
     "metadata": {},
     "output_type": "display_data"
    },
    {
     "data": {
      "image/png": "[encoded data removed]",
      "text/plain": [
       "<Figure size 432x288 with 1 Axes>"
      ]
     },
     "metadata": {},
     "output_type": "display_data"
    }
   ],
   "source": [
    "threshold = 0.2\n",
    "\n",
    "\n",
    "sentiment_pred = []\n",
    "sentiment_prob = []\n",
    "    \n",
    "for k in range(0,len(df)):\n",
    "    sample_text = df['tweet_text'][k]\n",
    "    pred,prob = sentiment_model(sample_text,threshold)\n",
    "    sentiment_pred.append(pred)\n",
    "    sentiment_prob.append(prob)\n",
    "\n",
    "plt.hist(sentiment_pred)\n",
    "plt.xlabel(\"Sentiments\",size=15)\n",
    "plt.show()\n",
    "\n",
    "\n",
    "plt.hist(sentiment_prob,bins=25)\n",
    "plt.xlabel(\"Sentiment Probability\",size=15)\n",
    "plt.show()"
   ]
  },
  {
   "cell_type": "markdown",
   "metadata": {},
   "source": [
    "# Having selected the appropriate threshold for neutral comments, we compute the total number of positive and negative tweets"
   ]
  },
  {
   "cell_type": "code",
   "execution_count": 8,
   "metadata": {},
   "outputs": [
    {
     "name": "stdout",
     "output_type": "stream",
     "text": [
      "Total Sample:  2374\n",
      "Neg/Pos ratio:  0.6197718631178707\n"
     ]
    },
    {
     "data": {
      "image/png": "[encoded data removed]",
      "text/plain": [
       "<Figure size 720x648 with 1 Axes>"
      ]
     },
     "metadata": {},
     "output_type": "display_data"
    }
   ],
   "source": [
    "import matplotlib.pyplot as plt\n",
    "import collections, numpy\n",
    "\n",
    "matplotlib.rcParams['figure.figsize'] = 10, 9\n",
    "matplotlib.rcParams['font.size'] = 15\n",
    "\n",
    "# Count the various sentiments\n",
    "m_count= collections.Counter(sentiment_pred)\n",
    "\n",
    "size_model=[m_count[0],m_count[1],m_count[-1]]\n",
    "\n",
    "# Compute the total numbers\n",
    "total_number = np.sum(size_model)\n",
    "\n",
    "# Compute the Percentages\n",
    "percents = (np.asarray([m_count[0],m_count[1],m_count[-1]])/total_number)*100.0\n",
    "\n",
    "print(\"Total Sample: \",total_number)\n",
    "print(\"Neg/Pos ratio: \", m_count[-1]/m_count[1])\n",
    " \n",
    "# Create a circle for the center of the plot\n",
    "my_circle=plt.Circle( (0,0), 0.6, color='white')\n",
    "\n",
    "\n",
    "# create data\n",
    "names='Neutral: '+str(int(percents[0]))+\"%\",'Positive: '+str(int(percents[1]))+\"%\", 'Negative: '+str(int(percents[2]))+\"%\"\n",
    "\n",
    "# Give color names\n",
    "plt.title(car_company,size=30)\n",
    "plt.pie(size_model, labels=names, colors=['lightgrey','green','red'])\n",
    "p=plt.gcf()\n",
    "p.gca().add_artist(my_circle)\n",
    "plt.savefig(car_company+\"_N_\"+str(total_number)+\".pdf\",bboxes=\"tight\")\n",
    "plt.show()"
   ]
  },
  {
   "cell_type": "code",
   "execution_count": null,
   "metadata": {},
   "outputs": [],
   "source": []
  }
 ],
 "metadata": {
  "kernelspec": {
   "display_name": "Python [conda env:py35]",
   "language": "python",
   "name": "conda-env-py35-py"
  },
  "language_info": {
   "codemirror_mode": {
    "name": "ipython",
    "version": 3
   },
   "file_extension": ".py",
   "mimetype": "text/x-python",
   "name": "python",
   "nbconvert_exporter": "python",
   "pygments_lexer": "ipython3",
   "version": "3.5.5"
  }
 },
 "nbformat": 4,
 "nbformat_minor": 2
}
