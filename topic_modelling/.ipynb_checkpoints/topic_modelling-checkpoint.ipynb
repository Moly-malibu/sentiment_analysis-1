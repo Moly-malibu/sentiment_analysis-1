{
 "cells": [
  {
   "cell_type": "markdown",
   "metadata": {},
   "source": [
    "# Topic Modelling\n",
    "\n",
    "This Notebook does some data exploration on the SQL database containing twitter data. The goal is to use topic modelling methods to look for common patterns and topics in the data.\n",
    "\n",
    "\n",
    "### References\n",
    "https://github.com/derekgreene/topic-model-tutorial"
   ]
  },
  {
   "cell_type": "code",
   "execution_count": 1,
   "metadata": {},
   "outputs": [],
   "source": [
    "# Let us import some of the twitter data into a padas notebook\n",
    "\n",
    "import sqlite3\n",
    "import pandas as pd\n",
    "\n",
    "\n",
    "#conn = sqlite3.connect('location_based_database.db')\n",
    "conn = sqlite3.connect('keyword_based_database.db')\n",
    "#c = conn.cursor()\n",
    "#c.execute('''SELECT * FROM tweet;''')\n",
    "\n",
    "# Read into a Pandas Data Frame\n",
    "df = pd.read_sql_query(\"SELECT * FROM tweet LIMIT 10000;\",conn)"
   ]
  },
  {
   "cell_type": "code",
   "execution_count": 2,
   "metadata": {},
   "outputs": [
    {
     "name": "stdout",
     "output_type": "stream",
     "text": [
      "Column Names:  ['tweet_id_text', 'tweet_hashtag', 'tweet_text', 'created_at', 'geo_lat', 'geo_long', 'user_id_text'] \n",
      "\n",
      "The size of the table:  10000 \n",
      "\n",
      "0    RT @loisaltermark: Munich is an amazing city f...\n",
      "1    RT @UTSLeasing: Mercedes CLA Class Coupe 180 A...\n",
      "2    Looking for Luxury Car Rental Services in #Mil...\n",
      "3    RT @UTSLeasing: Mercedes CLA Class Coupe 180 A...\n",
      "4    You could win a brand new audi A3 Sportback fo...\n",
      "5    RT @Eddystone506: Why does every Leaver know m...\n",
      "6    RT @BennyMabale: @nascar_lens I still think th...\n",
      "7    RT @dimaagkoshot: Struggles as a star kid:\\n1....\n",
      "8    Looks like @Audi already activated the #massho...\n",
      "9    First ABT R8 in the Netherlands 😍 This spec is...\n",
      "Name: tweet_text, dtype: object\n"
     ]
    }
   ],
   "source": [
    "# Some simple Data exploration\n",
    "\n",
    "print('Column Names: ', list(df.columns.values),\"\\n\")\n",
    "\n",
    "print('The size of the table: ', len(df),'\\n')\n",
    "# Show the First ten items in the database\n",
    "print(df['tweet_text'][0:10])\n",
    "\n",
    "\n",
    "# Let us make a histogram of the "
   ]
  },
  {
   "cell_type": "code",
   "execution_count": 3,
   "metadata": {},
   "outputs": [
    {
     "name": "stdout",
     "output_type": "stream",
     "text": [
      "Example:  RT @BennyMabale: @nascar_lens I still think the BMW 325IS is the coolest car on earth @E30fever @nascar_lens @Post_Bmw @BMWmistress @BMW @B… \n",
      "\n",
      "Cleaned up:  lens i still think the bmw be be the cool car on eah lens bmw\n",
      "The size of the table:  10000 \n",
      "\n",
      "The size of the table:  6454 \n",
      "\n"
     ]
    }
   ],
   "source": [
    "# Sources: https://rustyonrampage.github.io/text-mining/2017/11/23/stemming-and-lemmatization-with-python-and-nltk.html\n",
    "\n",
    "\n",
    "# Here we need to write a function that will clean up the tweet text:\n",
    "# 1. Remove urls\n",
    "# 2. Remove punctuation\n",
    "# 3. \n",
    "import nltk\n",
    "from textblob import TextBlob\n",
    "from tqdm import tqdm\n",
    "from collections import Counter \n",
    "from nltk.stem import PorterStemmer\n",
    "from nltk.stem import WordNetLemmatizer\n",
    "from nltk.corpus import wordnet\n",
    "from nltk.tokenize import sent_tokenize, word_tokenize\n",
    "import re\n",
    "\n",
    "# Only needed once\n",
    "#nltk.download('punkt')\n",
    "#nltk.download('wordnet')\n",
    "\n",
    "ps = PorterStemmer()\n",
    "wnl = WordNetLemmatizer()\n",
    "\n",
    "def get_pos( word ):\n",
    "    w_synsets = wordnet.synsets(word)\n",
    "\n",
    "    pos_counts = Counter()\n",
    "    pos_counts[\"n\"] = len(  [ item for item in w_synsets if item.pos()==\"n\"]  )\n",
    "    pos_counts[\"v\"] = len(  [ item for item in w_synsets if item.pos()==\"v\"]  )\n",
    "    pos_counts[\"a\"] = len(  [ item for item in w_synsets if item.pos()==\"a\"]  )\n",
    "    pos_counts[\"r\"] = len(  [ item for item in w_synsets if item.pos()==\"r\"]  )\n",
    "    \n",
    "    most_common_pos_list = pos_counts.most_common(3)\n",
    "    return most_common_pos_list[0][0]\n",
    "\n",
    "def clean_up_tweet(text):\n",
    "    # Remove @ from the string\n",
    "    s=re.sub(r'@[A-Za-z0-9]+','',text)    \n",
    "    \n",
    "    # Remove URLS\n",
    "    s=re.sub('https?://[A-Za-z0-9./]+','',s)\n",
    "    \n",
    "    # Set to lower case\n",
    "    s=s.lower()\n",
    "    \n",
    "    # Remove numbers\n",
    "    s= re.sub(r'[0-9]+', '', s) \n",
    "    \n",
    "    # Remove punctuation\n",
    "    s = re.sub(r'[^\\w\\s]','',s)\n",
    "    \n",
    "    # Remove underscore\n",
    "    s=s.replace(\"_\", \" \")\n",
    "    \n",
    "    # Remove RT\n",
    "    s=s.replace(\"rt\", \"\")\n",
    "    \n",
    "    # Attempt to fix the spelling of the string\n",
    "    #s=TextBlob(s).correct()\n",
    "    \n",
    "    # Tokenize the words\n",
    "    words = word_tokenize(s)\n",
    "    \n",
    "    s_stem = ''\n",
    "    for wi in words:\n",
    "        #wi = ps.stem(wi)\n",
    "        wi = wnl.lemmatize(wi,get_pos(wi))\n",
    "        s_stem += ' ' + wi\n",
    "    \n",
    "    # Attempt to correct any spelling mistakes\n",
    "    #s_stem = TextBlob(s_stem).correct()\n",
    "    \n",
    "    return s_stem\n",
    "\n",
    "text = df['tweet_text'][6]\n",
    "\n",
    "print(\"Example: \", text,'\\n')\n",
    "print(\"Cleaned up:\",clean_up_tweet(text))\n",
    "\n",
    "\n",
    "df['tweet_text'] = df['tweet_text'].apply(clean_up_tweet)\n",
    "\n",
    "print('The size of the table: ', len(df),'\\n')\n",
    "\n",
    "\n",
    "# Remove duplicate tweets and reset the index\n",
    "df.drop_duplicates(subset='tweet_text', keep='first', inplace=True)\n",
    "df=df.reset_index(drop=True)\n",
    "print('The size of the table: ', len(df),'\\n')\n",
    "\n",
    "\n"
   ]
  },
  {
   "cell_type": "code",
   "execution_count": 4,
   "metadata": {},
   "outputs": [
    {
     "name": "stdout",
     "output_type": "stream",
     "text": [
      "Read 6454 raw text documents\n"
     ]
    }
   ],
   "source": [
    "import os.path\n",
    "raw_documents = []\n",
    "snippets = []\n",
    "\n",
    "for k in range(0,len(df)):\n",
    "    text = df['tweet_text'][k]\n",
    "    raw_documents.append(text)\n",
    "    snippets.append(text)\n",
    "    #snippets.append( text[0:min(len(text),100)])\n",
    "\n",
    "print(\"Read %d raw text documents\" % len(raw_documents))"
   ]
  },
  {
   "cell_type": "code",
   "execution_count": 5,
   "metadata": {},
   "outputs": [
    {
     "name": "stdout",
     "output_type": "stream",
     "text": [
      "Stopword list has 355 entries\n",
      "Created 6454 X 432 document-term matrix\n"
     ]
    }
   ],
   "source": [
    "# Now we need to create the document term matrix\n",
    "from sklearn.feature_extraction.text import CountVectorizer\n",
    "\n",
    "# We will load in the custom stop words\n",
    "custom_stop_words = []\n",
    "with open( \"stopwords.txt\", \"r\" ) as fin:\n",
    "    for line in fin.readlines():\n",
    "        custom_stop_words.append( line.strip() )\n",
    "\n",
    "# note that we need to make it hashable\n",
    "print(\"Stopword list has %d entries\" % len(custom_stop_words) )\n",
    "\n",
    "# use a custom stopwords list, set the minimum term-document frequency to 20\n",
    "vectorizer = CountVectorizer(stop_words = custom_stop_words, min_df = 20)\n",
    "A = vectorizer.fit_transform(raw_documents)\n",
    "print( \"Created %d X %d document-term matrix\" % (A.shape[0], A.shape[1]) )"
   ]
  },
  {
   "cell_type": "code",
   "execution_count": 6,
   "metadata": {},
   "outputs": [
    {
     "name": "stdout",
     "output_type": "stream",
     "text": [
      "Vocabulary has 432 distinct terms\n"
     ]
    },
    {
     "data": {
      "text/plain": [
       "['articles-raw.pkl']"
      ]
     },
     "execution_count": 6,
     "metadata": {},
     "output_type": "execute_result"
    }
   ],
   "source": [
    "from sklearn.externals import joblib\n",
    "\n",
    "# We print out the number of features in the vocabulary\n",
    "\n",
    "terms = vectorizer.get_feature_names()\n",
    "print(\"Vocabulary has %d distinct terms\" % len(terms))\n",
    "\n",
    "# Save the vocabulary to a file\n",
    "joblib.dump((A,terms,snippets), \"articles-raw.pkl\") "
   ]
  },
  {
   "cell_type": "code",
   "execution_count": 7,
   "metadata": {},
   "outputs": [
    {
     "name": "stdout",
     "output_type": "stream",
     "text": [
      "Created 6454 X 432 TF-IDF-normalized document-term matrix\n",
      "Vocabulary has 432 distinct terms\n"
     ]
    }
   ],
   "source": [
    "from sklearn.feature_extraction.text import TfidfVectorizer\n",
    "# we can pass in the same preprocessing parameters\n",
    "vectorizer = TfidfVectorizer(stop_words=custom_stop_words, min_df = 20)\n",
    "A = vectorizer.fit_transform(raw_documents)\n",
    "print( \"Created %d X %d TF-IDF-normalized document-term matrix\" % (A.shape[0], A.shape[1]) )\n",
    "\n",
    "# extract the resulting vocabulary\n",
    "terms = vectorizer.get_feature_names()\n",
    "print(\"Vocabulary has %d distinct terms\" % len(terms))"
   ]
  },
  {
   "cell_type": "code",
   "execution_count": 8,
   "metadata": {},
   "outputs": [
    {
     "name": "stdout",
     "output_type": "stream",
     "text": [
      "01. ford (287.94)\n",
      "02. tesla (198.29)\n",
      "03. ebay (159.65)\n",
      "04. car (154.00)\n",
      "05. ferrari (144.89)\n",
      "06. get (122.42)\n",
      "07. bmw (121.14)\n",
      "08. amp (99.50)\n",
      "09. check (96.04)\n",
      "10. drive (89.36)\n",
      "11. honda (85.86)\n",
      "12. go (85.79)\n",
      "13. kia (85.56)\n",
      "14. porsche (82.56)\n",
      "15. look (82.37)\n",
      "16. sale (78.90)\n",
      "17. toyota (77.06)\n",
      "18. take (71.31)\n",
      "19. audi (68.82)\n",
      "20. see (68.61)\n"
     ]
    },
    {
     "data": {
      "text/plain": [
       "['articles-tfidf.pkl']"
      ]
     },
     "execution_count": 8,
     "metadata": {},
     "output_type": "execute_result"
    }
   ],
   "source": [
    "import operator\n",
    "def rank_terms( A, terms ):\n",
    "    # get the sums over each column\n",
    "    sums = A.sum(axis=0)\n",
    "    # map weights to the terms\n",
    "    weights = {}\n",
    "    for col, term in enumerate(terms):\n",
    "        weights[term] = sums[0,col]\n",
    "    # rank the terms by their weight over all documents\n",
    "    return sorted(weights.items(), key=operator.itemgetter(1), reverse=True)\n",
    "\n",
    "ranking = rank_terms( A, terms )\n",
    "for i, pair in enumerate( ranking[0:20] ):\n",
    "    print( \"%02d. %s (%.2f)\" % ( i+1, pair[0], pair[1] ) )\n",
    "    \n",
    "# Save these terms for later use    \n",
    "joblib.dump((A,terms,snippets), \"articles-tfidf.pkl\") "
   ]
  },
  {
   "cell_type": "markdown",
   "metadata": {},
   "source": [
    "# Matrix Factorization"
   ]
  },
  {
   "cell_type": "code",
   "execution_count": 9,
   "metadata": {},
   "outputs": [
    {
     "name": "stdout",
     "output_type": "stream",
     "text": [
      "Loaded 6454 X 432 document-term matrix\n"
     ]
    }
   ],
   "source": [
    "# We load the document term matrix\n",
    "from sklearn import decomposition\n",
    "from sklearn.externals import joblib\n",
    "\n",
    "# Load in the Data\n",
    "(A,terms,snippets) = joblib.load( \"articles-tfidf.pkl\" )\n",
    "print( \"Loaded %d X %d document-term matrix\" % (A.shape[0], A.shape[1]) )\n",
    "\n",
    "# create the model\n",
    "k = 20 # The number of topics to generate\n",
    "model = decomposition.NMF( init=\"nndsvd\", n_components=k ) \n",
    "# apply the model and extract the two factor matrices\n",
    "W = model.fit_transform( A )\n",
    "H = model.components_"
   ]
  },
  {
   "cell_type": "code",
   "execution_count": 10,
   "metadata": {},
   "outputs": [
    {
     "name": "stdout",
     "output_type": "stream",
     "text": [
      "(6454, 20)\n",
      "[ 0.    0.    0.    0.    0.08  0.    0.    0.    0.    0.    0.    0.    0.\n",
      "  0.    0.    0.    0.    0.01  0.14  0.  ]\n",
      "(20, 432)\n"
     ]
    }
   ],
   "source": [
    "# The W[i][j] matrix, i represents the document, and j represents the association with a given topic\n",
    "print(W.shape)\n",
    "print(W[3][:].round(2))\n",
    "\n",
    "# The H[i][j] matrix\n",
    "print(H.shape)\n"
   ]
  },
  {
   "cell_type": "code",
   "execution_count": 11,
   "metadata": {},
   "outputs": [
    {
     "name": "stdout",
     "output_type": "stream",
     "text": [
      "Topic 01: ford, doug, mustang, toronto, henry, see, ontario, people, pay, ndp, news, pc\n",
      "Topic 02: tesla, earnings, model, elon, musk, tsla, factory, video, want, atari, repo, call\n",
      "Topic 03: ebay, gtgt, deal, saw, camera, usa, find, gb, save, nintendo, repair, good\n",
      "Topic 04: ferrari, maranello, design, performance, ceo, share, call, engine, discover, ferraripoofino, back, power\n",
      "Topic 05: car, lamborghini, nissan, buy, seat, electric, game, mercedes, benz, video, world, mazda\n",
      "Topic 06: bmw, series, mercedes, video, love, think, benz, build, classic, available, engine, sta\n",
      "Topic 07: kia, need, yellow, na, see, country, think, old, hi, paint, recall, point\n",
      "Topic 08: get, leave, think, pin, rover, need, free, see, im, kid, bentley, pay\n",
      "Topic 09: look, take, price, change, mercedesbenz, back, think, volvo, vw, great, hyundai, best\n",
      "Topic 10: porsche, reveal, gt, think, photo, mile, spo, know, buy, see, video, speed\n",
      "Topic 11: amp, silver, sterling, adveisement, vintage, set, music, lot, love, necklace, build, bentley\n",
      "Topic 12: honda, video, civic, need, fit, great, race, suzuki, im, good, love, girl\n",
      "Topic 13: sale, july, nissan, model, auto, news, mercedesbenz, performance, truck, roll, vehicle, drop\n",
      "Topic 14: size, black, shoe, men, woman, air, nike, white, leather, jordan, sneaker, sz\n",
      "Topic 15: go, im, know, think, youre, day, buy, today, back, give, game, right\n",
      "Topic 16: check, find, arrive, add, mercedesbenz, nissan, recently, rover, wow, gtgt, need, usa\n",
      "Topic 17: drive, time, want, play, maserati, im, work, test, renault, reveal, harry, road\n",
      "Topic 18: toyota, love, buy, truck, park, youre, little, win, girl, work, vehicle, detail\n",
      "Topic 19: audi, video, buy, vw, roll, want, see, pa, harry, day, black, post\n",
      "Topic 20: fiat, crypto, exchange, buy, service, time, money, hop, twitter, today, rare, gt\n"
     ]
    }
   ],
   "source": [
    "import numpy as np\n",
    "def get_descriptor( terms, H, topic_index, top ):\n",
    "    # reverse sort the values to sort the indices\n",
    "    top_indices = np.argsort( H[topic_index,:] )[::-1]\n",
    "    # now get the terms corresponding to the top-ranked indices\n",
    "    top_terms = []\n",
    "    for term_index in top_indices[0:top]:\n",
    "        top_terms.append( terms[term_index] )\n",
    "    return top_terms\n",
    "\n",
    "\n",
    "descriptors = []\n",
    "for topic_index in range(k):\n",
    "    descriptors.append( get_descriptor( terms, H, topic_index, 12 ) )\n",
    "    str_descriptor = \", \".join( descriptors[topic_index] )\n",
    "    print(\"Topic %02d: %s\" % ( topic_index+1, str_descriptor ) )"
   ]
  },
  {
   "cell_type": "code",
   "execution_count": 21,
   "metadata": {},
   "outputs": [
    {
     "data": {
      "image/png": "[encoded data removed]",
      "text/plain": [
       "<Figure size 936x576 with 1 Axes>"
      ]
     },
     "metadata": {},
     "output_type": "display_data"
    },
    {
     "name": "stdout",
     "output_type": "stream",
     "text": [
      "01.  tora takagi crash his tyrrellford during qualify which require a tractor to remove his car a warn from main b \n",
      "02.  beat him to death with his car \n",
      "03.  kpowered tarmac rally car have u opening our wallet \n",
      "04.  it your responsibility to fix the car if it be under the warranty \n",
      "05.  dev next car jailbreak \n",
      "06.  a it claim car manufacturer arent prepare for brexit rollsroyce unveil new prototype \n",
      "07.  mitsubishi lancer evo vii wrc rally car x \n",
      "08.  use car ford ecoline e greenacres use car \n",
      "09.  use car bmw i sunrise use car \n",
      "10.  use car nissan versa west palm beach use car \n",
      "\n",
      "\n",
      "Total:  200\n",
      "Percent Positive:  7.000000000000001\n",
      "Percent Negative:  2.0\n",
      "Percent Neutral:  91.0\n"
     ]
    },
    {
     "data": {
      "image/png": "[encoded data removed]",
      "text/plain": [
       "<Figure size 432x288 with 1 Axes>"
      ]
     },
     "metadata": {},
     "output_type": "display_data"
    }
   ],
   "source": [
    "%matplotlib inline\n",
    "import numpy as np\n",
    "import matplotlib\n",
    "import matplotlib.pyplot as plt\n",
    "plt.style.use(\"ggplot\")\n",
    "matplotlib.rcParams.update({\"font.size\": 14})\n",
    "\n",
    "topic_indx = 4\n",
    "\n",
    "def plot_top_term_weights( terms, H, topic_index, top ):\n",
    "    # get the top terms and their weights\n",
    "    top_indices = np.argsort( H[topic_index,:] )[::-1]\n",
    "    top_terms = []\n",
    "    top_weights = []\n",
    "    for term_index in top_indices[0:top]:\n",
    "        top_terms.append( terms[term_index] )\n",
    "        top_weights.append( H[topic_index,term_index] )\n",
    "    # note we reverse the ordering for the plot\n",
    "    top_terms.reverse()\n",
    "    top_weights.reverse()\n",
    "    # create the plot\n",
    "    fig = plt.figure(figsize=(13,8))\n",
    "    # add the horizontal bar chart\n",
    "    ypos = np.arange(top)\n",
    "    ax = plt.barh(ypos, top_weights, align=\"center\", color=\"green\",tick_label=top_terms)\n",
    "    plt.xlabel(\"Term Weight\",fontsize=14)\n",
    "    plt.tight_layout()\n",
    "    plt.show()\n",
    "    \n",
    "    \n",
    "plot_top_term_weights( terms, H, 4, 10 )    \n",
    "\n",
    "\n",
    "# Let us look now at the most relevant posts for each topic\n",
    "\n",
    "def get_top_snippets( all_snippets, W, topic_index, top ):\n",
    "    # reverse sort the values to sort the indices\n",
    "    top_indices = np.argsort( W[:,topic_index] )[::-1]\n",
    "    # now get the snippets corresponding to the top-ranked indices\n",
    "    top_snippets = []\n",
    "    for doc_index in top_indices[0:top]:\n",
    "        top_snippets.append( all_snippets[doc_index] )\n",
    "    return top_snippets\n",
    "\n",
    "topic_snippets = get_top_snippets( snippets, W, 4, 10 )\n",
    "for i, snippet in enumerate(topic_snippets):\n",
    "    print(\"%02d. %s \" % ( (i+1), snippet) )\n",
    "    \n",
    "    \n",
    "# Now we carry out some sentiment analysis using TEXTBLOB\n",
    "from textblob import TextBlob\n",
    "import collections\n",
    "\n",
    "sentiment_polarity_data= []\n",
    "sentiment_subjectivity_data= []\n",
    "\n",
    "topic_snippets = get_top_snippets( snippets, W, 4, 200 )\n",
    "for i, snippet in enumerate(topic_snippets):\n",
    "    snippet_polarity_score =  TextBlob(snippet).sentiment.polarity # Polarity, [1]= subjectivity\n",
    "    snippet_subjectivity_score = TextBlob(snippet).sentiment.subjectivity\n",
    "    \n",
    "    if(snippet_polarity_score>=0.5):\n",
    "        sentiment_polarity_data.append(1.0)\n",
    "    elif(snippet_polarity_score<=-0.5):\n",
    "        sentiment_polarity_data.append(-1.0)\n",
    "    else:\n",
    "        sentiment_polarity_data.append(0.0)\n",
    "\n",
    "    \n",
    "sentiment_polarity_data = np.asarray(sentiment_polarity_data)\n",
    "sentiment_subjectivity_data = np.asarray(sentiment_subjectivity_data)\n",
    "\n",
    "print('\\n')\n",
    "print('Total: ', len(sentiment_polarity_data))\n",
    "print(\"Percent Positive: \", collections.Counter(sentiment_polarity_data)[1]/len(sentiment_polarity_data)*100.0 )\n",
    "print(\"Percent Negative: \", collections.Counter(sentiment_polarity_data)[-1]/len(sentiment_polarity_data)*100.0 )\n",
    "print(\"Percent Neutral: \", collections.Counter(sentiment_polarity_data)[0]/len(sentiment_polarity_data)*100.0 )\n",
    "\n",
    "\n",
    "plt.clf()\n",
    "plt.hist(sentiment_polarity_data,density=True)\n",
    "#plt.hist(sentiment_subjectivity_data)\n",
    "plt.show()"
   ]
  },
  {
   "cell_type": "code",
   "execution_count": null,
   "metadata": {},
   "outputs": [],
   "source": []
  }
 ],
 "metadata": {
  "kernelspec": {
   "display_name": "Python [conda env:py35]",
   "language": "python",
   "name": "conda-env-py35-py"
  },
  "language_info": {
   "codemirror_mode": {
    "name": "ipython",
    "version": 3
   },
   "file_extension": ".py",
   "mimetype": "text/x-python",
   "name": "python",
   "nbconvert_exporter": "python",
   "pygments_lexer": "ipython3",
   "version": "3.5.5"
  }
 },
 "nbformat": 4,
 "nbformat_minor": 2
}
