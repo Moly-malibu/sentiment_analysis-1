{
 "cells": [
  {
   "cell_type": "markdown",
   "metadata": {},
   "source": [
    "# The purpose of this jupyter notebook is to make a model that will determine the sentiment of a body of text."
   ]
  },
  {
   "cell_type": "code",
   "execution_count": 2,
   "metadata": {
    "collapsed": true
   },
   "outputs": [],
   "source": [
    "import numpy as np\n",
    "import pandas as pd\n",
    "import matplotlib.pyplot as plt\n",
    "import seaborn as sns\n",
    "import nltk\n",
    "from nltk.corpus import stopwords"
   ]
  },
  {
   "cell_type": "code",
   "execution_count": 150,
   "metadata": {
    "collapsed": false
   },
   "outputs": [
    {
     "data": {
      "text/plain": [
       "1"
      ]
     },
     "execution_count": 150,
     "metadata": {},
     "output_type": "execute_result"
    }
   ],
   "source": [
    "# Read in the Yelp review data\n",
    "\n",
    "yelp = pd.read_csv('yelp.csv')\n",
    "\n",
    "# Show the first few columns of the data\n",
    "yelp.head()\n",
    "yelp[\"stars\"].min()"
   ]
  },
  {
   "cell_type": "code",
   "execution_count": 4,
   "metadata": {
    "collapsed": false
   },
   "outputs": [
    {
     "data": {
      "image/png": "[encoded data removed]",
      "text/plain": [
       "<matplotlib.figure.Figure at 0x7f78986ac4a8>"
      ]
     },
     "metadata": {},
     "output_type": "display_data"
    }
   ],
   "source": [
    "# Show the distribution of the Review data\n",
    "\n",
    "sns.distplot(yelp[\"stars\"], kde=False, rug=False)\n",
    "plt.show()"
   ]
  },
  {
   "cell_type": "markdown",
   "metadata": {},
   "source": [
    "** Note, from the above plot, the data set is biased towards 4 and 5 star reviews. This may introduce some bias into the model, so we will balance the data.**"
   ]
  },
  {
   "cell_type": "code",
   "execution_count": 5,
   "metadata": {
    "collapsed": false
   },
   "outputs": [
    {
     "data": {
      "text/html": [
       "<div>\n",
       "<style>\n",
       "    .dataframe thead tr:only-child th {\n",
       "        text-align: right;\n",
       "    }\n",
       "\n",
       "    .dataframe thead th {\n",
       "        text-align: left;\n",
       "    }\n",
       "\n",
       "    .dataframe tbody tr th {\n",
       "        vertical-align: top;\n",
       "    }\n",
       "</style>\n",
       "<table border=\"1\" class=\"dataframe\">\n",
       "  <thead>\n",
       "    <tr style=\"text-align: right;\">\n",
       "      <th></th>\n",
       "      <th>business_id</th>\n",
       "      <th>date</th>\n",
       "      <th>review_id</th>\n",
       "      <th>stars</th>\n",
       "      <th>text</th>\n",
       "      <th>type</th>\n",
       "      <th>user_id</th>\n",
       "      <th>cool</th>\n",
       "      <th>useful</th>\n",
       "      <th>funny</th>\n",
       "    </tr>\n",
       "  </thead>\n",
       "  <tbody>\n",
       "    <tr>\n",
       "      <th>0</th>\n",
       "      <td>vA8T8QXh78iSXhxShLNgQA</td>\n",
       "      <td>2010-05-17</td>\n",
       "      <td>F7_kvr01KHD9l2hckfXbnA</td>\n",
       "      <td>2</td>\n",
       "      <td>On the verge of just giving one star I, I figu...</td>\n",
       "      <td>review</td>\n",
       "      <td>usQTOj7LQ9v0Fl98gRa3Iw</td>\n",
       "      <td>2</td>\n",
       "      <td>2</td>\n",
       "      <td>2</td>\n",
       "    </tr>\n",
       "    <tr>\n",
       "      <th>1</th>\n",
       "      <td>V1nEpIRmEa1768oj_tuxeQ</td>\n",
       "      <td>2008-11-09</td>\n",
       "      <td>aGjSwMpcgnjeAvIA3NF9Wg</td>\n",
       "      <td>3</td>\n",
       "      <td>I like this quaint little restaurant although ...</td>\n",
       "      <td>review</td>\n",
       "      <td>jWvzAN1czxypi-GM1KY62g</td>\n",
       "      <td>1</td>\n",
       "      <td>1</td>\n",
       "      <td>0</td>\n",
       "    </tr>\n",
       "    <tr>\n",
       "      <th>2</th>\n",
       "      <td>JoqrcQuzD3yEvs9KvN82ag</td>\n",
       "      <td>2012-05-08</td>\n",
       "      <td>xqRrpg2VyIxEOD-G6t_8Hw</td>\n",
       "      <td>1</td>\n",
       "      <td>This wendy's is terrible. I grew up going to W...</td>\n",
       "      <td>review</td>\n",
       "      <td>sRgUoLpEWhu6jnr6Nqr9-w</td>\n",
       "      <td>0</td>\n",
       "      <td>2</td>\n",
       "      <td>0</td>\n",
       "    </tr>\n",
       "    <tr>\n",
       "      <th>3</th>\n",
       "      <td>v1vi2ph9YLAXGqV2WTuN7Q</td>\n",
       "      <td>2010-05-10</td>\n",
       "      <td>dz1HrU8KNaPb4BfCDO3BLg</td>\n",
       "      <td>4</td>\n",
       "      <td>This is one of the only places in Phoenix that...</td>\n",
       "      <td>review</td>\n",
       "      <td>vipSiSxRH0fIo9qbfjsHpg</td>\n",
       "      <td>0</td>\n",
       "      <td>1</td>\n",
       "      <td>0</td>\n",
       "    </tr>\n",
       "    <tr>\n",
       "      <th>4</th>\n",
       "      <td>-cKWUXE-16M1R15UOt6sqQ</td>\n",
       "      <td>2010-06-10</td>\n",
       "      <td>d_IcD1Ho5uZaV6e0A02nNQ</td>\n",
       "      <td>1</td>\n",
       "      <td>I used to love Banana Republic.  I stopped by ...</td>\n",
       "      <td>review</td>\n",
       "      <td>XmpqbfSu9X7mjwJGUXTrAQ</td>\n",
       "      <td>0</td>\n",
       "      <td>0</td>\n",
       "      <td>0</td>\n",
       "    </tr>\n",
       "  </tbody>\n",
       "</table>\n",
       "</div>"
      ],
      "text/plain": [
       "              business_id        date               review_id  stars  \\\n",
       "0  vA8T8QXh78iSXhxShLNgQA  2010-05-17  F7_kvr01KHD9l2hckfXbnA      2   \n",
       "1  V1nEpIRmEa1768oj_tuxeQ  2008-11-09  aGjSwMpcgnjeAvIA3NF9Wg      3   \n",
       "2  JoqrcQuzD3yEvs9KvN82ag  2012-05-08  xqRrpg2VyIxEOD-G6t_8Hw      1   \n",
       "3  v1vi2ph9YLAXGqV2WTuN7Q  2010-05-10  dz1HrU8KNaPb4BfCDO3BLg      4   \n",
       "4  -cKWUXE-16M1R15UOt6sqQ  2010-06-10  d_IcD1Ho5uZaV6e0A02nNQ      1   \n",
       "\n",
       "                                                text    type  \\\n",
       "0  On the verge of just giving one star I, I figu...  review   \n",
       "1  I like this quaint little restaurant although ...  review   \n",
       "2  This wendy's is terrible. I grew up going to W...  review   \n",
       "3  This is one of the only places in Phoenix that...  review   \n",
       "4  I used to love Banana Republic.  I stopped by ...  review   \n",
       "\n",
       "                  user_id  cool  useful  funny  \n",
       "0  usQTOj7LQ9v0Fl98gRa3Iw     2       2      2  \n",
       "1  jWvzAN1czxypi-GM1KY62g     1       1      0  \n",
       "2  sRgUoLpEWhu6jnr6Nqr9-w     0       2      0  \n",
       "3  vipSiSxRH0fIo9qbfjsHpg     0       1      0  \n",
       "4  XmpqbfSu9X7mjwJGUXTrAQ     0       0      0  "
      ]
     },
     "execution_count": 5,
     "metadata": {},
     "output_type": "execute_result"
    }
   ],
   "source": [
    "# This cell will balance the data for the model\n",
    "\n",
    "# let us first randomize the yelp data\n",
    "yelp = yelp.sample(frac=1)\n",
    "\n",
    "df_1_star = yelp[yelp[\"stars\"]== 1]\n",
    "\n",
    "# The number of one star reviews\n",
    "num_1_star=df_1_star.count()[0]\n",
    "\n",
    "# now we choose the first N reviews of a certain star number\n",
    "df_2_star = yelp[yelp[\"stars\"]== 2].head(num_1_star)\n",
    "df_3_star = yelp[yelp[\"stars\"]== 3].head(num_1_star)\n",
    "df_4_star = yelp[yelp[\"stars\"]== 4].head(num_1_star)\n",
    "df_5_star = yelp[yelp[\"stars\"]== 5].head(num_1_star)\n",
    "\n",
    "# Now we combine all of the data frames\n",
    "frames = [df_1_star,df_2_star,df_3_star,df_4_star,df_5_star]\n",
    "\n",
    "yelp_balanced = pd.concat(frames)\n",
    "\n",
    "# Shuffle the data frame to randomize everything\n",
    "yelp_balanced = yelp_balanced.sample(frac=1)\n",
    "yelp_balanced.index = range(0,yelp_balanced.shape[0]) # Relabel the indices\n",
    "yelp_balanced.head()"
   ]
  },
  {
   "cell_type": "code",
   "execution_count": 6,
   "metadata": {
    "collapsed": false
   },
   "outputs": [
    {
     "data": {
      "image/png": "[encoded data removed]",
      "text/plain": [
       "<matplotlib.figure.Figure at 0x7f7898ef6f60>"
      ]
     },
     "metadata": {},
     "output_type": "display_data"
    }
   ],
   "source": [
    "# Show the distribution of the Balanced Review data\n",
    "\n",
    "sns.distplot(yelp_balanced[\"stars\"], kde=False, rug=False)\n",
    "plt.show()\n",
    "\n"
   ]
  },
  {
   "cell_type": "markdown",
   "metadata": {},
   "source": [
    "Now we see that the dataset is balanced. This should help eliminate the bias of our training algorithms."
   ]
  },
  {
   "cell_type": "code",
   "execution_count": 95,
   "metadata": {
    "collapsed": false
   },
   "outputs": [
    {
     "name": "stdout",
     "output_type": "stream",
     "text": [
      "[nltk_data] Downloading package stopwords to\n",
      "[nltk_data]     /home/sovereign/nltk_data...\n",
      "[nltk_data]   Package stopwords is already up-to-date!\n",
      "Total number of data:  3745\n"
     ]
    }
   ],
   "source": [
    "# Now we need to process the text. We define here a function that will remove the punctuation and stopwords\n",
    "\n",
    "import string\n",
    "import nltk\n",
    "from nltk.tokenize import RegexpTokenizer\n",
    "from nltk.corpus import stopwords\n",
    "import re\n",
    "\n",
    "# In case we dont have the nltk stopwords documents\n",
    "nltk.download(\"stopwords\")\n",
    "\n",
    "@np.vectorize\n",
    "def preprocess(sentence):\n",
    "    sentence = sentence.lower()\n",
    "    tokenizer = RegexpTokenizer(r'\\w+')\n",
    "    tokens = tokenizer.tokenize(sentence)\n",
    "    words = filter(lambda x: x not in stopwords.words('english'), tokens)\n",
    "    #words = [char for char in text if char not in string.punctuation]\n",
    "    return \" \".join(words)\n",
    "\n",
    "print(\"Total number of data: \",yelp_balanced.shape[0])"
   ]
  },
  {
   "cell_type": "code",
   "execution_count": 438,
   "metadata": {
    "collapsed": false
   },
   "outputs": [
    {
     "name": "stderr",
     "output_type": "stream",
     "text": [
      "100%|██████████| 3000/3000 [03:43<00:00, 13.42it/s]\n"
     ]
    },
    {
     "name": "stdout",
     "output_type": "stream",
     "text": [
      "The size of the vocabulary is:  200\n"
     ]
    }
   ],
   "source": [
    "from sklearn.feature_extraction.text import CountVectorizer\n",
    "from tqdm import tqdm\n",
    "\n",
    "# Let us now generate a subset of the data to create a vocabulary with\n",
    "n_sample = 3000\n",
    "n_features = 200 # Number of features to use for constructing the dictionary\n",
    "dict_sample = []\n",
    "\n",
    "# Now we preprocess the entire balanced data set\n",
    "# yelp_balanced.shape[0]\n",
    "for i in tqdm(range(0,n_sample)):\n",
    "    sentence = yelp_balanced[\"text\"][i]\n",
    "    dict_sample.append(preprocess(sentence))\n",
    "\n",
    "    # Convert to numpy array\n",
    "dict_sample = np.asarray(dict_sample)\n",
    "\n",
    "\n",
    "# Instantiate the object\n",
    "count_vec = CountVectorizer(max_features=n_features)\n",
    "\n",
    "# Bag of word model\n",
    "bow = count_vec.fit(dict_sample)\n",
    "\n",
    "\n",
    "print(\"The size of the vocabulary is: \", len(bow.vocabulary_))"
   ]
  },
  {
   "cell_type": "code",
   "execution_count": 440,
   "metadata": {
    "collapsed": false
   },
   "outputs": [],
   "source": [
    "from sklearn.model_selection import train_test_split\n",
    "\n",
    "# Now we must transform our original review data into a feature Matrix\n",
    "\n",
    "X = []\n",
    "y = []\n",
    "\n",
    "# converting the data frame into a feature matrix\n",
    "for i in range(0,yelp_balanced.shape[0]):\n",
    "    X.append(yelp_balanced['text'][i])\n",
    "    y.append(yelp_balanced['stars'][i])\n",
    "\n",
    "X = np.asarray(X)\n",
    "y = np.asarray(Y)\n",
    "\n",
    "X = bow.transform(X)\n",
    "\n",
    "# Now we split the data into a training and test set\n",
    "X_train, X_test, y_train, y_test = train_test_split(X, y, test_size=0.99, random_state=101)\n",
    "\n"
   ]
  },
  {
   "cell_type": "code",
   "execution_count": 441,
   "metadata": {
    "collapsed": false
   },
   "outputs": [
    {
     "name": "stdout",
     "output_type": "stream",
     "text": [
      "================================================================\n",
      "\n",
      "Baseline Model: \n",
      "              precision    recall  f1-score   support\n",
      "\n",
      "          1       0.20      0.20      0.20       744\n",
      "          2       0.17      0.17      0.17       742\n",
      "          3       0.20      0.20      0.20       744\n",
      "          4       0.19      0.19      0.19       736\n",
      "          5       0.16      0.16      0.16       742\n",
      "\n",
      "avg / total       0.18      0.18      0.18      3708\n",
      "\n",
      "================================================================\n",
      "\n",
      "Naive Bayes: \n",
      "              precision    recall  f1-score   support\n",
      "\n",
      "          1       0.34      0.19      0.24       744\n",
      "          2       0.25      0.30      0.27       742\n",
      "          3       0.24      0.17      0.20       744\n",
      "          4       0.24      0.40      0.30       736\n",
      "          5       0.34      0.30      0.32       742\n",
      "\n",
      "avg / total       0.28      0.27      0.27      3708\n",
      "\n",
      "================================================================\n",
      "\n",
      "Desicion Tree: \n",
      "              precision    recall  f1-score   support\n",
      "\n",
      "          1       0.30      0.10      0.14       744\n",
      "          2       0.22      0.19      0.21       742\n",
      "          3       0.27      0.17      0.21       744\n",
      "          4       0.20      0.43      0.28       736\n",
      "          5       0.29      0.31      0.30       742\n",
      "\n",
      "avg / total       0.26      0.24      0.23      3708\n",
      "\n",
      "================================================================\n",
      "\n",
      "Random Forests: \n",
      "              precision    recall  f1-score   support\n",
      "\n",
      "          1       0.00      0.00      0.00       744\n",
      "          2       0.29      0.08      0.12       742\n",
      "          3       0.31      0.01      0.03       744\n",
      "          4       0.20      0.93      0.33       736\n",
      "          5       0.17      0.02      0.04       742\n",
      "\n",
      "avg / total       0.20      0.21      0.10      3708\n",
      "\n",
      "================================================================\n",
      "\n",
      "Logistic Regression: \n",
      "              precision    recall  f1-score   support\n",
      "\n",
      "          1       0.40      0.10      0.16       744\n",
      "          2       0.29      0.22      0.25       742\n",
      "          3       0.26      0.08      0.12       744\n",
      "          4       0.21      0.66      0.32       736\n",
      "          5       0.34      0.18      0.23       742\n",
      "\n",
      "avg / total       0.30      0.25      0.21      3708\n",
      "\n",
      "================================================================\n",
      "\n"
     ]
    },
    {
     "name": "stderr",
     "output_type": "stream",
     "text": [
      "/home/sovereign/anaconda/envs/py36/lib/python3.6/site-packages/sklearn/metrics/classification.py:1113: UndefinedMetricWarning: Precision and F-score are ill-defined and being set to 0.0 in labels with no predicted samples.\n",
      "  'precision', 'predicted', average, warn_for)\n"
     ]
    }
   ],
   "source": [
    "# We compare the results of different classifiers, relative to the basiline model (random guessing) for reference\n",
    "\n",
    "\n",
    "from sklearn.naive_bayes import MultinomialNB\n",
    "from sklearn.metrics import classification_report\n",
    "from sklearn.tree import DecisionTreeClassifier\n",
    "from sklearn.ensemble import RandomForestClassifier\n",
    "from sklearn.linear_model import LogisticRegression\n",
    "from numpy.random import randint\n",
    "\n",
    "# Now we train different models\n",
    "nb = MultinomialNB()\n",
    "dt = DecisionTreeClassifier(random_state=0)\n",
    "rf = RandomForestClassifier(max_depth=2, random_state=0)\n",
    "lr = LogisticRegression(multi_class='multinomial',solver='newton-cg')\n",
    "\n",
    "\n",
    "nb.fit(X_train, y_train)\n",
    "dt.fit(X_train, y_train)\n",
    "rf.fit(X_train, y_train)\n",
    "lr.fit(X_train, y_train)\n",
    "\n",
    "\n",
    "preds_bl = randint(1,6,len(y_test))\n",
    "preds_nb = nb.predict(X_test)\n",
    "preds_dt = dt.predict(X_test)\n",
    "preds_rf = rf.predict(X_test)\n",
    "preds_lr = lr.predict(X_test)\n",
    "\n",
    "print('================================================================\\n')\n",
    "print(\"Baseline Model: \\n\",classification_report(y_test,preds_bl))\n",
    "print('================================================================\\n')\n",
    "print(\"Naive Bayes: \\n\" ,classification_report(y_test,preds_nb))\n",
    "print('================================================================\\n')\n",
    "print(\"Desicion Tree: \\n\",classification_report(y_test,preds_dt))\n",
    "print('================================================================\\n')\n",
    "print(\"Random Forests: \\n\",classification_report(y_test,preds_rf))\n",
    "print('================================================================\\n')\n",
    "print(\"Logistic Regression: \\n\",classification_report(y_test,preds_lr))\n",
    "print('================================================================\\n')"
   ]
  },
  {
   "cell_type": "markdown",
   "metadata": {},
   "source": [
    "# Comments:\n",
    "\n",
    "* From these results, it seems that the best classifier is the __multinomial naive bayes__, this is the classifier that we will use for the subsequent investigation. \n",
    "* It seems that 2-3 star reviews are fairly indistinguishable since the multiclass classifier obtains precision scores similar to the baseline model. Therefore, we should just use two outcomes, positive or negative (1 or 0, respectively)."
   ]
  },
  {
   "cell_type": "code",
   "execution_count": 431,
   "metadata": {
    "collapsed": false
   },
   "outputs": [
    {
     "name": "stdout",
     "output_type": "stream",
     "text": [
      "================================================================\n",
      "\n",
      "Baseline Model: \n",
      "              precision    recall  f1-score   support\n",
      "\n",
      "          0       0.47      0.46      0.47       368\n",
      "          1       0.49      0.50      0.50       381\n",
      "\n",
      "avg / total       0.48      0.48      0.48       749\n",
      "\n",
      "================================================================\n",
      "\n",
      "Naive Bayes: \n",
      "              precision    recall  f1-score   support\n",
      "\n",
      "          0       0.78      0.76      0.77       368\n",
      "          1       0.77      0.80      0.78       381\n",
      "\n",
      "avg / total       0.78      0.78      0.78       749\n",
      "\n"
     ]
    }
   ],
   "source": [
    "from sklearn import cross_validation\n",
    "from sklearn.cross_validation import cross_val_score\n",
    "\n",
    "# Now we must transform our original review data into a feature Matrix with two outputs (0,1)\n",
    "\n",
    "X_bin = []\n",
    "y_bin = []\n",
    "\n",
    "# Maps (1,2) -> 0, (4,5) -> 1, and 3 -> random number (0,1)\n",
    "def mapping(x):\n",
    "    \n",
    "    if(x==1):\n",
    "        s = 0\n",
    "    elif(x==2):\n",
    "        s = 0\n",
    "    elif(x==3):\n",
    "        s = randint(0,2)\n",
    "    elif(x==4):\n",
    "        s = 1\n",
    "    elif(x==5):\n",
    "        s =1\n",
    "    else:\n",
    "        s=x\n",
    "    \n",
    "    return s\n",
    "\n",
    "\n",
    "# converting the data frame into a feature matrix, using the mapping function above.\n",
    "for i in range(0,yelp_balanced.shape[0]):\n",
    "    X_bin.append(yelp_balanced['text'][i])\n",
    "    y_bin.append(mapping(yelp_balanced['stars'][i]))\n",
    "\n",
    "X_bin = np.asarray(X_bin)\n",
    "y_bin = np.asarray(y_bin)\n",
    "\n",
    "X_bin = bow.transform(X_bin)\n",
    "\n",
    "# Now we split the data into a training and test set\n",
    "X_bin_train, X_bin_test, y_bin_train, y_bin_test = train_test_split(X_bin, y_bin, test_size=0.2)\n",
    "\n",
    "\n",
    "# Now we train different models\n",
    "nb_bin = MultinomialNB()\n",
    "\n",
    "\n",
    "nb_bin.fit(X_bin_train, y_bin_train)\n",
    "\n",
    "# Make predictions using the model we trained\n",
    "preds_bl_bin = randint(0,2,len(y_bin_test))\n",
    "preds_nb_bin = nb_bin.predict(X_bin_test)\n",
    "\n",
    "print('================================================================\\n')\n",
    "print(\"Baseline Model: \\n\",classification_report(y_bin_test,preds_bl_bin))\n",
    "print('================================================================\\n')\n",
    "print(\"Naive Bayes: \\n\" ,classification_report(y_bin_test,preds_nb_bin))\n"
   ]
  },
  {
   "cell_type": "code",
   "execution_count": 432,
   "metadata": {
    "collapsed": false
   },
   "outputs": [
    {
     "name": "stdout",
     "output_type": "stream",
     "text": [
      "(2996, 2000)\n",
      "(749, 2000)\n"
     ]
    }
   ],
   "source": [
    "# Lets construct a validation set to test overfitting\n",
    "\n",
    "X_bin_data, X_bin_validation, y_bin_data, y_bin_validation = train_test_split(X_bin, y_bin, test_size=0.2)\n",
    "\n",
    "print(X_bin_data.shape)\n",
    "print(X_bin_validation.shape)"
   ]
  },
  {
   "cell_type": "code",
   "execution_count": 437,
   "metadata": {
    "collapsed": false
   },
   "outputs": [
    {
     "data": {
      "image/png": "[encoded data removed]",
      "text/plain": [
       "<matplotlib.figure.Figure at 0x7f7898e41518>"
      ]
     },
     "metadata": {},
     "output_type": "display_data"
    }
   ],
   "source": [
    "# Let us examine to see of we have any indication of overfitting\n",
    "from sklearn.metrics import accuracy_score\n",
    "from sklearn.metrics import confusion_matrix\n",
    "\n",
    "N= []\n",
    "sc = []\n",
    "sc_val = []\n",
    "\n",
    "for p in np.linspace(0.01,1.0,400,endpoint=False):\n",
    "    \n",
    "    # Now we split the data into a training and test set\n",
    "    X_bin_train2, X_bin_test2, y_bin_train2, y_bin_test2 = train_test_split(X_bin_data, y_bin_data, test_size=p)\n",
    "\n",
    "\n",
    "    # Now we train Multinomial Bayes eacg time\n",
    "    nb_bin = MultinomialNB()\n",
    "\n",
    "\n",
    "    nb_bin.fit(X_bin_train2, y_bin_train2)\n",
    "\n",
    "    # Make predictions using the model we trained\n",
    "    preds_bl_bin2 = randint(0,2,len(y_bin_test2))\n",
    "    preds_nb_bin2 = nb_bin.predict(X_bin_test2)\n",
    "    preds_nb_bin2_val = nb_bin.predict(X_bin_validation)\n",
    "    \n",
    "    N.append(int((1.0-p)*y_bin_data.shape[0]))\n",
    "    sc.append(accuracy_score(y_bin_test2,preds_nb_bin2))\n",
    "    sc_val.append(accuracy_score(y_bin_validation,preds_nb_bin2_val))\n",
    "    \n",
    "N= np.asarray(N)\n",
    "sc = np.asarray(sc)\n",
    "st = np.asarray(st)\n",
    "\n",
    "\n",
    "plt.title(\"Accuracy vs Training Data: vocab. size=\"+str(n_features),size=20)\n",
    "plt.plot(N,sc,c=\"b\",label=\"Accuracy on Test Data\")\n",
    "plt.plot(N, sc_val,c=\"r\",label=\"Validation Score\")\n",
    "plt.xlabel(\"amount of training data\",size=20)\n",
    "plt.ylabel(\"Accuracy\",size=20)\n",
    "plt.legend()\n",
    "plt.show()"
   ]
  },
  {
   "cell_type": "markdown",
   "metadata": {},
   "source": [
    "# Observations\n",
    "\n",
    "* The model accuracy appears to converge very slowly as we increase the data size"
   ]
  },
  {
   "cell_type": "code",
   "execution_count": null,
   "metadata": {
    "collapsed": true
   },
   "outputs": [],
   "source": []
  }
 ],
 "metadata": {
  "anaconda-cloud": {},
  "kernelspec": {
   "display_name": "Python [conda env:py36]",
   "language": "python",
   "name": "conda-env-py36-py"
  },
  "language_info": {
   "codemirror_mode": {
    "name": "ipython",
    "version": 3
   },
   "file_extension": ".py",
   "mimetype": "text/x-python",
   "name": "python",
   "nbconvert_exporter": "python",
   "pygments_lexer": "ipython3",
   "version": "3.6.1"
  }
 },
 "nbformat": 4,
 "nbformat_minor": 1
}
