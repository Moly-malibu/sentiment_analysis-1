{
 "cells": [
  {
   "cell_type": "markdown",
   "metadata": {},
   "source": [
    "# In this notebook, we validate the chosen sentiment model using labelled twitter data from Sentiment140\n",
    "\n",
    "## [Data link](http://help.sentiment140.com/for-students)\n",
    "\n",
    "---"
   ]
  },
  {
   "cell_type": "code",
   "execution_count": 13,
   "metadata": {},
   "outputs": [
    {
     "name": "stdout",
     "output_type": "stream",
     "text": [
      "   sentiment     id                          date query_string           user  \\\n",
      "0          4   2085  Sat May 16 23:48:10 UTC 2009     stanford   PassionModel   \n",
      "1          0    411  Tue Jun 02 03:16:37 UTC 2009  time warner  ernestalfonso   \n",
      "2          0  14069  Sun Jun 14 04:31:12 UTC 2009        latex   rooney_tunes   \n",
      "3          4    118  Sat May 16 16:19:04 UTC 2009       google         J_Holl   \n",
      "4          0   2197  Mon May 25 17:35:43 UTC 2009       cheney          joahs   \n",
      "\n",
      "                                                text  \n",
      "0  Stanford Charity Fashion Show a top draw http:...  \n",
      "1                 Fuck no internet damn time warner!  \n",
      "2  I just created my first LaTeX file from scratc...  \n",
      "3  @phyreman9 Google is always a good place to lo...  \n",
      "4  obviously not siding with Cheney here: http://...  \n"
     ]
    }
   ],
   "source": [
    "import warnings\n",
    "import numpy as np\n",
    "\n",
    "warnings.filterwarnings('ignore')\n",
    "\n",
    "import pandas as pd\n",
    "import matplotlib.pyplot as plt\n",
    "import numpy as np\n",
    "from process_text import sentiment_model\n",
    "from process_text import clean_up_text\n",
    "from process_text import preprocess\n",
    "from process_text import string_cohesion\n",
    "\n",
    "\n",
    "# Specify the name of the file, along with the name of the columns\n",
    "#file_name = './sentiment140/training.1600000.processed.noemoticon.csv'\n",
    "file_name = 'model_training_data/testdata.manual.2009.06.14.csv'\n",
    "\n",
    "cols = ['sentiment','id','date','query_string','user','text']\n",
    "\n",
    "# Read in the data, randomly shuffle and reset the index\n",
    "df=pd.read_csv(file_name,header=None, names=cols,encoding = \"ISO-8859-1\")\n",
    "df=df.sample(frac=1)\n",
    "df = df[df.sentiment != 2]\n",
    "df=df.reset_index(drop=True)\n",
    "\n",
    "\n",
    "print(df.head())"
   ]
  },
  {
   "cell_type": "markdown",
   "metadata": {},
   "source": [
    "---\n",
    "# Next, we process all of the tweets using the custom function that we used to train our models\n",
    "---"
   ]
  },
  {
   "cell_type": "code",
   "execution_count": 14,
   "metadata": {},
   "outputs": [],
   "source": [
    "df['text']= df['text'].apply(clean_up_text)"
   ]
  },
  {
   "cell_type": "markdown",
   "metadata": {},
   "source": [
    "---\n",
    "# Next, we examine the histogram of sentiments\n",
    "\n",
    "The sentiment140 data uses the following conventions:  \n",
    "0 $\\rightarrow$ -1   \n",
    "4 $\\rightarrow$ +1   \n",
    "\n",
    "\n",
    "---\n",
    "\n"
   ]
  },
  {
   "cell_type": "code",
   "execution_count": 15,
   "metadata": {},
   "outputs": [
    {
     "data": {
      "image/png": "[encoded data removed]",
      "text/plain": [
       "<Figure size 432x288 with 1 Axes>"
      ]
     },
     "metadata": {},
     "output_type": "display_data"
    }
   ],
   "source": [
    "# take all sentiments from the data\n",
    "y = df['sentiment']\n",
    "\n",
    "# make the plots\n",
    "plt.title(\"Histogram of Sentiment in sentiment140 data\", size=20)\n",
    "plt.hist(y)\n",
    "plt.show()"
   ]
  },
  {
   "cell_type": "markdown",
   "metadata": {},
   "source": [
    "---\n",
    "# Load in the trained sentiment models \n",
    "---"
   ]
  },
  {
   "cell_type": "code",
   "execution_count": 16,
   "metadata": {},
   "outputs": [
    {
     "name": "stdout",
     "output_type": "stream",
     "text": [
      "Loaded 9684 X 2880 document-term matrix\n",
      "number of terms:  2880\n",
      "Dictionary:  12105\n",
      "A:  (12105, 2880)\n"
     ]
    }
   ],
   "source": [
    "# Load in the sentiment models \n",
    "\n",
    "import warnings\n",
    "warnings.filterwarnings('ignore')\n",
    "\n",
    "from process_text import clean_up_text\n",
    "from process_text import string_cohesion\n",
    "from textblob import TextBlob\n",
    "import spacy\n",
    "import pickle\n",
    "from sklearn.externals import joblib\n",
    "from sklearn.feature_extraction.text import TfidfVectorizer\n",
    "\n",
    "#--------------------------------------------------------------\n",
    "# Import the custom stop words\n",
    "custom_stop_words = []\n",
    "with open( \"stopwords.txt\", \"r\" ) as fin:\n",
    "    for line in fin.readlines():\n",
    "        custom_stop_words.append( line.strip() )\n",
    "#--------------------------------------------------------------\n",
    "\n",
    "\n",
    "#--------------------------------------------------------------\n",
    "# Import the vocabulary and generate the vectorizer transformer\n",
    "#--------------------------------------------------------------\n",
    "(A,terms,dict_sample) = joblib.load( \"/home/javier/Documents/sentiment_analysis/sentiment_model/articles-raw.pkl\" )\n",
    "print( \"Loaded %d X %d document-term matrix\" % (A.shape[0], A.shape[1]) )\n",
    "print('number of terms: ',len(terms))#print(dic_sample[0:10])\n",
    "print('Dictionary: ',len(dict_sample))\n",
    "\n",
    "vectorizer = TfidfVectorizer(stop_words = custom_stop_words,min_df = 20)\n",
    "A = vectorizer.fit_transform(dict_sample)\n",
    "print('A: ', A.shape)\n",
    "#--------------------------------------------------------------\n",
    "\n",
    "\n",
    "#--------------------------------------------------------------\n",
    "# We load the trained models\n",
    "#--------------------------------------------------------------\n",
    "# The names of the files containing the weights of the model\n",
    "filename1 = 'lr_sentiment_model.sav'\n",
    "filename2 = 'nb_sentiment_model.sav'\n",
    "\n",
    "# Now we load in the trained models\n",
    "loaded_lr = pickle.load(open(filename1, 'rb'))\n",
    "loaded_nb = pickle.load(open(filename2, 'rb'))"
   ]
  },
  {
   "cell_type": "markdown",
   "metadata": {},
   "source": [
    "---\n",
    "# Now we compute the accuracy, recall and f1 score of the model using the loaded tweets for different thresholds for the binary classification problem\n",
    "---"
   ]
  },
  {
   "cell_type": "code",
   "execution_count": 30,
   "metadata": {},
   "outputs": [
    {
     "name": "stderr",
     "output_type": "stream",
     "text": [
      "100%|██████████| 359/359 [00:02<00:00, 158.64it/s]\n",
      "100%|██████████| 359/359 [00:02<00:00, 159.57it/s]\n",
      "100%|██████████| 359/359 [00:02<00:00, 159.83it/s]\n",
      "100%|██████████| 359/359 [00:02<00:00, 159.18it/s]\n",
      "100%|██████████| 359/359 [00:02<00:00, 162.72it/s]\n",
      "100%|██████████| 359/359 [00:02<00:00, 160.43it/s]\n",
      "100%|██████████| 359/359 [00:02<00:00, 160.00it/s]\n",
      "100%|██████████| 359/359 [00:02<00:00, 160.31it/s]\n",
      "100%|██████████| 359/359 [00:02<00:00, 160.09it/s]\n",
      "100%|██████████| 359/359 [00:02<00:00, 158.91it/s]\n",
      "100%|██████████| 359/359 [00:02<00:00, 160.23it/s]\n",
      "100%|██████████| 359/359 [00:02<00:00, 158.15it/s]\n",
      "100%|██████████| 359/359 [00:02<00:00, 155.11it/s]\n",
      "100%|██████████| 359/359 [00:02<00:00, 142.61it/s]\n",
      "100%|██████████| 359/359 [00:02<00:00, 156.61it/s]\n",
      "100%|██████████| 359/359 [00:02<00:00, 155.46it/s]\n",
      "100%|██████████| 359/359 [00:02<00:00, 129.82it/s]\n",
      "100%|██████████| 359/359 [00:02<00:00, 152.46it/s]\n",
      "100%|██████████| 359/359 [00:02<00:00, 145.78it/s]\n",
      "100%|██████████| 359/359 [00:02<00:00, 155.83it/s]\n",
      "100%|██████████| 359/359 [00:02<00:00, 156.04it/s]\n"
     ]
    }
   ],
   "source": [
    "from sklearn.metrics import accuracy_score\n",
    "from sklearn.metrics import classification_report\n",
    "from sklearn.metrics import recall_score\n",
    "from sklearn.metrics import f1_score\n",
    "from sklearn.metrics import confusion_matrix\n",
    "from tqdm import tqdm\n",
    "\n",
    "\n",
    "threshold = np.arange(0.0,1.05,0.05)\n",
    "model_accuracy = []\n",
    "model_sample_size = []\n",
    "model_recall=[]\n",
    "model_f1=[]\n",
    "\n",
    "model_true_pos_percent = []\n",
    "model_true_neg_percent = []\n",
    "model_false_pos_percent =[]\n",
    "model_false_neg_percent =[]\n",
    "\n",
    "model_true_pos = []\n",
    "model_true_neg = []\n",
    "model_false_pos =[]\n",
    "model_false_neg =[]\n",
    "\n",
    "\n",
    "for t in threshold:\n",
    "    \n",
    "    sentiment_pred = []\n",
    "    sentiment_prob = []\n",
    "    y = []\n",
    "    \n",
    "    for k in tqdm(range(0,len(df))):\n",
    "        # The Tweet to be analysed\n",
    "        sample_text = df['text'][k]\n",
    "\n",
    "        # The labelled sentiment of the tweet\n",
    "        true_sentiment = df['sentiment'][k]\n",
    "        \n",
    "\n",
    "        # We map the sentiment to our values\n",
    "        if(true_sentiment==0):\n",
    "            y_true = -1\n",
    "        elif(true_sentiment==4):\n",
    "            y_true = +1\n",
    "\n",
    "        pred,prob = sentiment_model(sample_text,t,vectorizer, loaded_lr,loaded_nb)\n",
    "        \n",
    "        # We look only at non-neutral sentiment predictions\n",
    "        if(pred!=0):\n",
    "            y.append(y_true)\n",
    "            sentiment_pred.append(pred)\n",
    "            sentiment_prob.append(prob)\n",
    "    \n",
    "    # Compute the confusion matrix:\n",
    "    cm = confusion_matrix(y_true=y, y_pred=sentiment_pred)\n",
    "    cm_normed = cm/cm.sum(axis=1)[:, np.newaxis]\n",
    "    \n",
    "    # Confusion matrices percentages\n",
    "    model_true_pos.append(cm[1,1])\n",
    "    model_true_neg.append(cm[0,0])\n",
    "    model_false_pos.append(cm[1,0])\n",
    "    model_false_neg.append(cm[0,1])\n",
    "    \n",
    "     # Confusion matrices percentages\n",
    "    model_true_pos_percent.append(cm_normed[1,1])\n",
    "    model_true_neg_percent.append(cm_normed[0,0])\n",
    "    model_false_pos_percent.append(cm_normed[1,0])\n",
    "    model_false_neg_percent.append(cm_normed[0,1])\n",
    "    \n",
    "    # Compute the accuracy and the recall of the models\n",
    "    acc = accuracy_score(y_pred=sentiment_pred,y_true=y) \n",
    "    rec = recall_score(y_pred=sentiment_pred, y_true=y)\n",
    "    f1 = f1_score(y_pred=sentiment_pred, y_true=y)\n",
    "    \n",
    "    #print(\"\\n\")\n",
    "    #print(\"Threshold: \", t)\n",
    "    #print(acc)\n",
    "    #print(\"acc: \"+str(acc)+\", rec: \"+str(rec)+\", f1: \"+str(f1)+\"\\n\")\n",
    "    \n",
    "    model_accuracy.append(rec)\n",
    "    model_recall.append(acc)\n",
    "    model_f1.append(f1)\n",
    "    model_sample_size.append(len(y)*(1.0/len(df))*100.0) # Sample size is in percent"
   ]
  },
  {
   "cell_type": "markdown",
   "metadata": {},
   "source": [
    "# Now that the model has been loaded, we will plot the model metrics"
   ]
  },
  {
   "cell_type": "code",
   "execution_count": 39,
   "metadata": {},
   "outputs": [
    {
     "data": {
      "image/png": "[encoded data removed]",
      "text/plain": [
       "<Figure size 432x288 with 1 Axes>"
      ]
     },
     "metadata": {},
     "output_type": "display_data"
    },
    {
     "data": {
      "image/png": "[encoded data removed]",
      "text/plain": [
       "<Figure size 432x288 with 1 Axes>"
      ]
     },
     "metadata": {},
     "output_type": "display_data"
    },
    {
     "data": {
      "image/png": "[encoded data removed]",
      "text/plain": [
       "<Figure size 432x288 with 1 Axes>"
      ]
     },
     "metadata": {},
     "output_type": "display_data"
    }
   ],
   "source": [
    "plt.plot(threshold,model_true_pos_percent,\"-o\",label=\"True Positive\")\n",
    "plt.plot(threshold,model_false_pos_percent,\"-o\",label=\"False Positive\")\n",
    "plt.title('Positive Scores',size=20)\n",
    "plt.ylabel('Percentage',size=20)\n",
    "plt.xlabel('Threshold Value',size=20)\n",
    "plt.legend()\n",
    "plt.show()\n",
    "\n",
    "plt.clf()\n",
    "plt.plot(threshold,model_true_neg_percent,\"-o\",label=\"True Negative\")\n",
    "plt.plot(threshold,model_false_neg_percent,\"-o\",label=\"False Negative\")\n",
    "plt.title('Negative Scores',size=20)\n",
    "plt.ylabel('Percentage',size=20)\n",
    "plt.xlabel('Threshold Value',size=20)\n",
    "plt.legend()\n",
    "plt.show()\n",
    "\n",
    "plt.plot(threshold,model_sample_size,'o')\n",
    "plt.title('Sample Size vs Threshold',size=20)\n",
    "plt.ylabel('Sample Size (Percent)',size=20)\n",
    "plt.xlabel('Threshold Value',size=20)\n",
    "plt.show()"
   ]
  },
  {
   "cell_type": "markdown",
   "metadata": {},
   "source": [
    "# Choosing a threshold of $T=0.6$ appears to be a reasonable value to use for the binary classification problem"
   ]
  },
  {
   "cell_type": "code",
   "execution_count": 7,
   "metadata": {},
   "outputs": [
    {
     "name": "stdout",
     "output_type": "stream",
     "text": [
      "Threshold: 0.000000, accuracy: 0.680000, recall: 0.750000, sample size: 100.000000\n",
      "Threshold: 0.050000, accuracy: 0.680000, recall: 0.750000, sample size: 100.000000\n",
      "Threshold: 0.100000, accuracy: 0.690000, recall: 0.750000, sample size: 97.490000\n",
      "Threshold: 0.150000, accuracy: 0.700000, recall: 0.770000, sample size: 91.090000\n",
      "Threshold: 0.200000, accuracy: 0.700000, recall: 0.770000, sample size: 86.070000\n",
      "Threshold: 0.250000, accuracy: 0.710000, recall: 0.770000, sample size: 77.720000\n",
      "Threshold: 0.300000, accuracy: 0.730000, recall: 0.780000, sample size: 69.360000\n",
      "Threshold: 0.350000, accuracy: 0.770000, recall: 0.800000, sample size: 60.720000\n",
      "Threshold: 0.400000, accuracy: 0.780000, recall: 0.800000, sample size: 56.550000\n",
      "Threshold: 0.450000, accuracy: 0.810000, recall: 0.810000, sample size: 44.850000\n",
      "Threshold: 0.500000, accuracy: 0.830000, recall: 0.810000, sample size: 40.670000\n",
      "Threshold: 0.550000, accuracy: 0.860000, recall: 0.830000, sample size: 32.030000\n",
      "Threshold: 0.600000, accuracy: 0.940000, recall: 0.850000, sample size: 23.960000\n",
      "Threshold: 0.650000, accuracy: 0.950000, recall: 0.840000, sample size: 20.610000\n",
      "Threshold: 0.700000, accuracy: 0.960000, recall: 0.810000, sample size: 13.370000\n",
      "Threshold: 0.750000, accuracy: 0.960000, recall: 0.820000, sample size: 12.530000\n",
      "Threshold: 0.800000, accuracy: 0.950000, recall: 0.790000, sample size: 10.580000\n",
      "Threshold: 0.850000, accuracy: 1.000000, recall: 0.880000, sample size: 4.740000\n",
      "Threshold: 0.900000, accuracy: 1.000000, recall: 0.880000, sample size: 4.460000\n",
      "Threshold: 0.950000, accuracy: 1.000000, recall: 0.870000, sample size: 4.180000\n",
      "Threshold: 1.000000, accuracy: 1.000000, recall: 0.870000, sample size: 4.180000\n"
     ]
    }
   ],
   "source": [
    "f_name_out = \"sentiment_model_tweet_test_scores.txt\"\n",
    "\n",
    "f = open(f_name_out,\"w\")\n",
    "\n",
    "f.write(\"    T    Acc    Rec     f1   size%    N   Tp_N     Fp_N    Tn_N    Fn_N    Tp%    Fp%    Tn%    Fn% \"+\"\\n\")\n",
    "\n",
    "for k in range(0,len(model_accuracy)):\n",
    "    t = threshold[k]\n",
    "    a = round(model_accuracy[k],2)\n",
    "    r = round(model_recall[k],2)\n",
    "    f1 = round(model_f1[k],2)\n",
    "    s = round(model_sample_size[k],2)\n",
    "    \n",
    "    tp = round(model_true_pos[k],2)\n",
    "    tn = round(model_true_neg[k],2)\n",
    "    fp = round(model_false_pos[k],2)\n",
    "    fn = round(model_false_neg[k],2)\n",
    "    \n",
    "    tp_percent = round(model_true_pos_percent[k],2)\n",
    "    tn_percent = round(model_true_neg_percent[k],2)\n",
    "    fp_percent = round(model_false_pos_percent[k],2)\n",
    "    fn_percent = round(model_false_neg_percent[k],2)\n",
    "    \n",
    "    print(\"Threshold: %f, accuracy: %f, recall: %f, sample size: %f\" % (t,a,r,s))\n",
    "    #line = str(t)+\" \"+str(a)+\" \"+str(r)+\" \"+str(f1)+\" \"+str(s)+\" \"\n",
    "    #line+= str(tp)+\" \"+str(fp)+\" \"+str(tn)+\" \"+str(fn)+\" \"\n",
    "    #line+= str(tp_percent)+\" \"+str(fp_percent)+\" \"+str(tn_percent)+\" \"+str(fn_percent)+\"\\n\"\n",
    "    line=\"%.4f %.4f %.4f %.4f %.4f %.0f %.4f %.4f %.4f %.4f %.4f %.4f %.4f %.4f \\n\"\n",
    "    f.write(line%(t,a,r,f1,s,tp+fp,tp,fp,tn,fn,tp_percent,fp_percent,tn_percent,fn_percent))\n",
    "    \n",
    "f.close()"
   ]
  },
  {
   "cell_type": "markdown",
   "metadata": {},
   "source": [
    "# Now we examine the multiclass metrics of the model"
   ]
  },
  {
   "cell_type": "code",
   "execution_count": 8,
   "metadata": {},
   "outputs": [
    {
     "name": "stdout",
     "output_type": "stream",
     "text": [
      "   sentiment     id                          date query_string          user  \\\n",
      "0          0  14073  Sun Jun 14 04:32:17 UTC 2009        latex        sam33r   \n",
      "1          2   2409  Tue Jun 02 04:29:28 UTC 2009     baseball   Oregon_Live   \n",
      "2          0   2381  Tue Jun 02 03:15:18 UTC 2009  time warner  batchoutlost   \n",
      "3          2    577  Mon Jun 08 00:01:29 UTC 2009      federer  jworthington   \n",
      "4          4   2163  Sun May 24 16:19:03 UTC 2009          50d    ashpeckham   \n",
      "\n",
      "                                                text  \n",
      "0  On that note, I hate Word. I hate Pages. I hat...  \n",
      "1  Portland city politics may undo baseball park ...  \n",
      "2  #WFTB Joining a bit late. My connection was do...  \n",
      "3  Man accosts Roger Federer during French Open h...  \n",
      "4  Just got my new toy. Canon 50D. Love love love...  \n"
     ]
    }
   ],
   "source": [
    "# Re-read in all the testing data, keep the neutral sentiments\n",
    "\n",
    "file_name = 'model_training_data/testdata.manual.2009.06.14.csv'\n",
    "\n",
    "cols = ['sentiment','id','date','query_string','user','text']\n",
    "\n",
    "# Read in the data, randomly shuffle and reset the index\n",
    "df=pd.read_csv(file_name,header=None, names=cols,encoding = \"ISO-8859-1\")\n",
    "df=df.sample(frac=1)\n",
    "df=df.reset_index(drop=True)\n",
    "\n",
    "print(df.head())"
   ]
  },
  {
   "cell_type": "markdown",
   "metadata": {},
   "source": [
    "# Here we compute the multiclass metrics"
   ]
  },
  {
   "cell_type": "code",
   "execution_count": 9,
   "metadata": {},
   "outputs": [
    {
     "name": "stderr",
     "output_type": "stream",
     "text": [
      "100%|██████████| 498/498 [00:04<00:00, 112.17it/s]\n",
      "  3%|▎         | 14/498 [00:00<00:03, 133.65it/s]"
     ]
    },
    {
     "name": "stdout",
     "output_type": "stream",
     "text": [
      "Threshold:  0.0\n",
      "             precision    recall  f1-score   support\n",
      "\n",
      "   Negative       0.49      0.80      0.61       177\n",
      "    Neutral       0.00      0.00      0.00       139\n",
      "   Positive       0.64      0.73      0.68       182\n",
      "\n",
      "avg / total       0.41      0.55      0.46       498\n",
      "\n",
      "[[142   0  35]\n",
      " [100   0  39]\n",
      " [ 50   0 132]]\n"
     ]
    },
    {
     "name": "stderr",
     "output_type": "stream",
     "text": [
      "100%|██████████| 498/498 [00:03<00:00, 135.40it/s]\n",
      "  3%|▎         | 14/498 [00:00<00:03, 137.27it/s]"
     ]
    },
    {
     "name": "stdout",
     "output_type": "stream",
     "text": [
      "Threshold:  0.2\n",
      "             precision    recall  f1-score   support\n",
      "\n",
      "   Negative       0.52      0.73      0.61       177\n",
      "    Neutral       0.57      0.31      0.40       139\n",
      "   Positive       0.70      0.68      0.69       182\n",
      "\n",
      "avg / total       0.60      0.59      0.58       498\n",
      "\n",
      "[[129  19  29]\n",
      " [ 73  43  23]\n",
      " [ 44  14 124]]\n"
     ]
    },
    {
     "name": "stderr",
     "output_type": "stream",
     "text": [
      "100%|██████████| 498/498 [00:03<00:00, 135.11it/s]\n",
      "  3%|▎         | 14/498 [00:00<00:03, 131.10it/s]"
     ]
    },
    {
     "name": "stdout",
     "output_type": "stream",
     "text": [
      "Threshold:  0.4\n",
      "             precision    recall  f1-score   support\n",
      "\n",
      "   Negative       0.62      0.48      0.54       177\n",
      "    Neutral       0.42      0.71      0.53       139\n",
      "   Positive       0.78      0.53      0.63       182\n",
      "\n",
      "avg / total       0.62      0.56      0.57       498\n",
      "\n",
      "[[85 74 18]\n",
      " [30 99 10]\n",
      " [23 62 97]]\n"
     ]
    },
    {
     "name": "stderr",
     "output_type": "stream",
     "text": [
      "100%|██████████| 498/498 [00:03<00:00, 136.18it/s]\n",
      "  3%|▎         | 13/498 [00:00<00:03, 126.85it/s]"
     ]
    },
    {
     "name": "stdout",
     "output_type": "stream",
     "text": [
      "Threshold:  0.6\n",
      "             precision    recall  f1-score   support\n",
      "\n",
      "   Negative       0.77      0.21      0.33       177\n",
      "    Neutral       0.33      0.91      0.48       139\n",
      "   Positive       0.81      0.30      0.44       182\n",
      "\n",
      "avg / total       0.66      0.44      0.41       498\n",
      "\n",
      "[[ 37 132   8]\n",
      " [  8 126   5]\n",
      " [  3 124  55]]\n"
     ]
    },
    {
     "name": "stderr",
     "output_type": "stream",
     "text": [
      "100%|██████████| 498/498 [00:03<00:00, 137.32it/s]"
     ]
    },
    {
     "name": "stdout",
     "output_type": "stream",
     "text": [
      "Threshold:  0.8\n",
      "             precision    recall  f1-score   support\n",
      "\n",
      "   Negative       0.87      0.07      0.14       177\n",
      "    Neutral       0.30      0.99      0.46       139\n",
      "   Positive       0.81      0.12      0.20       182\n",
      "\n",
      "avg / total       0.69      0.34      0.25       498\n",
      "\n",
      "[[ 13 160   4]\n",
      " [  1 137   1]\n",
      " [  1 160  21]]\n"
     ]
    },
    {
     "name": "stderr",
     "output_type": "stream",
     "text": [
      "\n"
     ]
    }
   ],
   "source": [
    "from sklearn.metrics import accuracy_score\n",
    "from sklearn.metrics import confusion_matrix\n",
    "from tqdm import tqdm\n",
    "from sklearn.metrics import classification_report\n",
    "\n",
    "\n",
    "threshold = [0.0,0.2,0.4,0.6,0.8]\n",
    "model_accuracy = []\n",
    "target_names = ['Negative', 'Neutral', 'Positive']\n",
    "\n",
    "for t in threshold:\n",
    "    \n",
    "    sentiment_pred = []\n",
    "    sentiment_prob = []\n",
    "    y = []\n",
    "    \n",
    "    for k in tqdm(range(0,len(df))):\n",
    "        # The Tweet to be analysed\n",
    "        sample_text = df['text'][k]\n",
    "\n",
    "        # The labelled sentiment of the tweet\n",
    "        true_sentiment = df['sentiment'][k]\n",
    "\n",
    "        # We map the sentiment to our values\n",
    "        if(true_sentiment==0):\n",
    "            y_true = -1\n",
    "        elif(true_sentiment==2):\n",
    "            y_true = 0\n",
    "        elif(true_sentiment==4):\n",
    "            y_true = +1\n",
    "\n",
    "        pred,prob = sentiment_model(sample_text,t,vectorizer, loaded_lr,loaded_nb)\n",
    "        \n",
    "        y.append(y_true)\n",
    "        sentiment_pred.append(pred)\n",
    "        sentiment_prob.append(prob)\n",
    "    \n",
    "    print(\"Threshold: \", t)\n",
    "    print(classification_report(y_true=y, y_pred=sentiment_pred, target_names=target_names))\n",
    "    print(confusion_matrix(y_true=y, y_pred=sentiment_pred))\n",
    "    \n",
    "    # Compute the accuracy and the recall of the models\n",
    "    acc = accuracy_score(y_pred=sentiment_pred,y_true=y) \n",
    "    model_accuracy.append(rec)"
   ]
  },
  {
   "cell_type": "code",
   "execution_count": 10,
   "metadata": {},
   "outputs": [
    {
     "name": "stdout",
     "output_type": "stream",
     "text": [
      "[[ 13 160   4]\n",
      " [  1 137   1]\n",
      " [  1 160  21]]\n",
      "             precision    recall  f1-score   support\n",
      "\n",
      "   Negative       0.87      0.07      0.14       177\n",
      "    Neutral       0.30      0.99      0.46       139\n",
      "   Positive       0.81      0.12      0.20       182\n",
      "\n",
      "avg / total       0.69      0.34      0.25       498\n",
      "\n"
     ]
    }
   ],
   "source": [
    "from sklearn.metrics import confusion_matrix\n",
    "\n",
    "cm = confusion_matrix(y_true=y, y_pred=sentiment_pred)\n",
    "#print(confusion_matrix(y_true=y, y_pred=sentiment_pred)/ cm.sum(axis=1)[:, np.newaxis])\n",
    "print(confusion_matrix(y_true=y, y_pred=sentiment_pred))\n",
    "print(classification_report(y_true=y, y_pred=sentiment_pred, target_names=target_names))"
   ]
  }
 ],
 "metadata": {
  "kernelspec": {
   "display_name": "Python [conda env:py35]",
   "language": "python",
   "name": "conda-env-py35-py"
  },
  "language_info": {
   "codemirror_mode": {
    "name": "ipython",
    "version": 3
   },
   "file_extension": ".py",
   "mimetype": "text/x-python",
   "name": "python",
   "nbconvert_exporter": "python",
   "pygments_lexer": "ipython3",
   "version": "3.5.5"
  }
 },
 "nbformat": 4,
 "nbformat_minor": 2
}
