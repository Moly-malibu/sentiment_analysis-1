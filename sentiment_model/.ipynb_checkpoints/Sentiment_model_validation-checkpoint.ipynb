{
 "cells": [
  {
   "cell_type": "markdown",
   "metadata": {},
   "source": [
    "# In this notebook, we validate the chosen sentiment model using labelled twitter data from Sentiment140\n",
    "\n",
    "## [Data link](http://help.sentiment140.com/for-students)\n",
    "\n",
    "---"
   ]
  },
  {
   "cell_type": "code",
   "execution_count": 1,
   "metadata": {},
   "outputs": [
    {
     "name": "stdout",
     "output_type": "stream",
     "text": [
      "[nltk_data] Downloading package wordnet to /home/javier/nltk_data...\n",
      "[nltk_data]   Package wordnet is already up-to-date!\n",
      "[nltk_data] Downloading package stopwords to /home/javier/nltk_data...\n",
      "[nltk_data]   Package stopwords is already up-to-date!\n",
      "[nltk_data] Downloading package punkt to /home/javier/nltk_data...\n",
      "[nltk_data]   Package punkt is already up-to-date!\n",
      "   sentiment     id                          date query_string      user  \\\n",
      "0          4  14046  Sat Jun 13 16:23:41 UTC 2009   Bobby Flay  JimFacey   \n",
      "1          4      6  Mon May 11 03:19:04 UTC 2009      kindle2     SIX15   \n",
      "2          0  13077  Sun Jun 14 21:36:04 UTC 2009         iran  sketoaks   \n",
      "3          0    120  Sat May 16 16:25:41 UTC 2009          aig  schroncd   \n",
      "4          0   2391  Tue Jun 02 03:23:36 UTC 2009  time warner  ecormany   \n",
      "\n",
      "                                                text  \n",
      "0  getting ready to test out some burger receipes...  \n",
      "1  @kenburbary You'll love your Kindle2. I've had...  \n",
      "2  Shit's hitting the fan in Iran...craziness ind...  \n",
      "3  US planning to resume the military tribunals a...  \n",
      "4  confirmed: it's Time Warner's fault, not Faceb...  \n"
     ]
    }
   ],
   "source": [
    "import warnings\n",
    "import numpy as np\n",
    "\n",
    "warnings.filterwarnings('ignore')\n",
    "\n",
    "import pandas as pd\n",
    "import matplotlib.pyplot as plt\n",
    "import numpy as np\n",
    "from process_text import sentiment_model\n",
    "from process_text import clean_up_text\n",
    "from process_text import preprocess\n",
    "from process_text import string_cohesion\n",
    "\n",
    "\n",
    "# Specify the name of the file, along with the name of the columns\n",
    "#file_name = './sentiment140/training.1600000.processed.noemoticon.csv'\n",
    "file_name = 'model_training_data/testdata.manual.2009.06.14.csv'\n",
    "\n",
    "cols = ['sentiment','id','date','query_string','user','text']\n",
    "\n",
    "# Read in the data, randomly shuffle and reset the index\n",
    "df=pd.read_csv(file_name,header=None, names=cols,encoding = \"ISO-8859-1\")\n",
    "df=df.sample(frac=1)\n",
    "df = df[df.sentiment != 2]\n",
    "df=df.reset_index(drop=True)\n",
    "\n",
    "\n",
    "print(df.head())"
   ]
  },
  {
   "cell_type": "markdown",
   "metadata": {},
   "source": [
    "---\n",
    "# Next, we process all of the tweets using the custom function that we used to train our models\n",
    "---"
   ]
  },
  {
   "cell_type": "code",
   "execution_count": 2,
   "metadata": {},
   "outputs": [],
   "source": [
    "df['text']= df['text'].apply(clean_up_text)"
   ]
  },
  {
   "cell_type": "markdown",
   "metadata": {},
   "source": [
    "---\n",
    "# Next, we examine the histogram of sentiments\n",
    "\n",
    "The sentiment140 data uses the following conventions:  \n",
    "0 $\\rightarrow$ -1   \n",
    "4 $\\rightarrow$ +1   \n",
    "\n",
    "\n",
    "---\n",
    "\n"
   ]
  },
  {
   "cell_type": "code",
   "execution_count": 3,
   "metadata": {},
   "outputs": [
    {
     "data": {
      "image/png": "[encoded data removed]",
      "text/plain": [
       "<Figure size 432x288 with 1 Axes>"
      ]
     },
     "metadata": {},
     "output_type": "display_data"
    }
   ],
   "source": [
    "# take all sentiments from the data\n",
    "y = df['sentiment']\n",
    "\n",
    "# make the plots\n",
    "plt.title(\"Histogram of Sentiment in sentiment140 data\", size=20)\n",
    "plt.hist(y)\n",
    "plt.show()"
   ]
  },
  {
   "cell_type": "markdown",
   "metadata": {},
   "source": [
    "---\n",
    "# Load in the trained sentiment models \n",
    "---"
   ]
  },
  {
   "cell_type": "code",
   "execution_count": 4,
   "metadata": {},
   "outputs": [
    {
     "name": "stdout",
     "output_type": "stream",
     "text": [
      "Loaded 9684 X 2880 document-term matrix\n",
      "number of terms:  2880\n",
      "Dictionary:  12105\n",
      "A:  (12105, 2880)\n"
     ]
    }
   ],
   "source": [
    "# Load in the sentiment models \n",
    "\n",
    "import warnings\n",
    "warnings.filterwarnings('ignore')\n",
    "\n",
    "from process_text import clean_up_text\n",
    "from process_text import string_cohesion\n",
    "from textblob import TextBlob\n",
    "import spacy\n",
    "import pickle\n",
    "from sklearn.externals import joblib\n",
    "from sklearn.feature_extraction.text import TfidfVectorizer\n",
    "\n",
    "#--------------------------------------------------------------\n",
    "# Import the custom stop words\n",
    "custom_stop_words = []\n",
    "with open( \"stopwords.txt\", \"r\" ) as fin:\n",
    "    for line in fin.readlines():\n",
    "        custom_stop_words.append( line.strip() )\n",
    "#--------------------------------------------------------------\n",
    "\n",
    "\n",
    "#--------------------------------------------------------------\n",
    "# Import the vocabulary and generate the vectorizer transformer\n",
    "#--------------------------------------------------------------\n",
    "(A,terms,dict_sample) = joblib.load( \"/home/javier/Documents/sentiment_analysis/sentiment_model/articles-raw.pkl\" )\n",
    "print( \"Loaded %d X %d document-term matrix\" % (A.shape[0], A.shape[1]) )\n",
    "print('number of terms: ',len(terms))#print(dic_sample[0:10])\n",
    "print('Dictionary: ',len(dict_sample))\n",
    "\n",
    "vectorizer = TfidfVectorizer(stop_words = custom_stop_words,min_df = 20)\n",
    "A = vectorizer.fit_transform(dict_sample)\n",
    "print('A: ', A.shape)\n",
    "#--------------------------------------------------------------\n",
    "\n",
    "\n",
    "#--------------------------------------------------------------\n",
    "# We load the trained models\n",
    "#--------------------------------------------------------------\n",
    "# The names of the files containing the weights of the model\n",
    "filename1 = 'lr_sentiment_model.sav'\n",
    "filename2 = 'nb_sentiment_model.sav'\n",
    "\n",
    "# Now we load in the trained models\n",
    "loaded_lr = pickle.load(open(filename1, 'rb'))\n",
    "loaded_nb = pickle.load(open(filename2, 'rb'))"
   ]
  },
  {
   "cell_type": "markdown",
   "metadata": {},
   "source": [
    "---\n",
    "# Now we compute the accuracy, recall and f1 score of the model using the loaded tweets for different thresholds for the binary classification problem\n",
    "---"
   ]
  },
  {
   "cell_type": "code",
   "execution_count": 5,
   "metadata": {},
   "outputs": [
    {
     "name": "stderr",
     "output_type": "stream",
     "text": [
      "100%|██████████| 359/359 [00:02<00:00, 131.99it/s]\n",
      "100%|██████████| 359/359 [00:02<00:00, 154.98it/s]\n",
      "100%|██████████| 359/359 [00:02<00:00, 145.20it/s]\n",
      "100%|██████████| 359/359 [00:02<00:00, 147.12it/s]\n",
      "100%|██████████| 359/359 [00:02<00:00, 144.71it/s]\n",
      "100%|██████████| 359/359 [00:02<00:00, 134.80it/s]\n",
      "100%|██████████| 359/359 [00:02<00:00, 151.06it/s]\n",
      "100%|██████████| 359/359 [00:02<00:00, 157.23it/s]\n",
      "100%|██████████| 359/359 [00:02<00:00, 154.46it/s]\n",
      "100%|██████████| 359/359 [00:02<00:00, 154.48it/s]\n",
      "100%|██████████| 359/359 [00:02<00:00, 154.74it/s]\n",
      "100%|██████████| 359/359 [00:02<00:00, 156.96it/s]\n",
      "100%|██████████| 359/359 [00:02<00:00, 154.83it/s]\n",
      "100%|██████████| 359/359 [00:02<00:00, 154.90it/s]\n",
      "100%|██████████| 359/359 [00:02<00:00, 150.21it/s]\n",
      "100%|██████████| 359/359 [00:02<00:00, 155.44it/s]\n",
      "100%|██████████| 359/359 [00:02<00:00, 154.95it/s]\n",
      "100%|██████████| 359/359 [00:02<00:00, 155.45it/s]\n",
      "100%|██████████| 359/359 [00:02<00:00, 152.97it/s]\n",
      "100%|██████████| 359/359 [00:02<00:00, 155.73it/s]\n",
      "100%|██████████| 359/359 [00:02<00:00, 155.41it/s]\n"
     ]
    }
   ],
   "source": [
    "from sklearn.metrics import accuracy_score\n",
    "from sklearn.metrics import recall_score\n",
    "from sklearn.metrics import f1_score\n",
    "from tqdm import tqdm\n",
    "\n",
    "\n",
    "threshold = np.arange(0.0,1.05,0.05)\n",
    "model_accuracy = []\n",
    "model_sample_size = []\n",
    "model_recall=[]\n",
    "model_f1=[]\n",
    "\n",
    "\n",
    "for t in threshold:\n",
    "    \n",
    "    sentiment_pred = []\n",
    "    sentiment_prob = []\n",
    "    y = []\n",
    "    \n",
    "    for k in tqdm(range(0,len(df))):\n",
    "        # The Tweet to be analysed\n",
    "        sample_text = df['text'][k]\n",
    "\n",
    "        # The labelled sentiment of the tweet\n",
    "        true_sentiment = df['sentiment'][k]\n",
    "        \n",
    "\n",
    "        # We map the sentiment to our values\n",
    "        if(true_sentiment==0):\n",
    "            y_true = -1\n",
    "        elif(true_sentiment==4):\n",
    "            y_true = +1\n",
    "\n",
    "        pred,prob = sentiment_model(sample_text,t,vectorizer, loaded_lr,loaded_nb)\n",
    "        \n",
    "        # We look only at non-neutral sentiment predictions\n",
    "        if(pred!=0):\n",
    "            y.append(y_true)\n",
    "            sentiment_pred.append(pred)\n",
    "            sentiment_prob.append(prob)\n",
    "    \n",
    "    # Compute the accuracy and the recall of the models\n",
    "    acc = accuracy_score(y_pred=sentiment_pred,y_true=y) \n",
    "    rec = recall_score(y_pred=sentiment_pred, y_true=y)\n",
    "    f1 = f1_score(y_pred=sentiment_pred, y_true=y)\n",
    "    \n",
    "    model_accuracy.append(rec)\n",
    "    model_recall.append(acc)\n",
    "    model_f1.append(f1)\n",
    "    model_sample_size.append(len(y)*(1.0/len(df))*100.0) # Sample size is in percent"
   ]
  },
  {
   "cell_type": "markdown",
   "metadata": {},
   "source": [
    "# Now that the model has been loaded, we will plot the model metrics"
   ]
  },
  {
   "cell_type": "code",
   "execution_count": 6,
   "metadata": {},
   "outputs": [
    {
     "data": {
      "image/png": "[encoded data removed]",
      "text/plain": [
       "<Figure size 432x288 with 1 Axes>"
      ]
     },
     "metadata": {},
     "output_type": "display_data"
    },
    {
     "data": {
      "image/png": "[encoded data removed]",
      "text/plain": [
       "<Figure size 432x288 with 1 Axes>"
      ]
     },
     "metadata": {},
     "output_type": "display_data"
    },
    {
     "data": {
      "image/png": "[encoded data removed]",
      "text/plain": [
       "<Figure size 432x288 with 1 Axes>"
      ]
     },
     "metadata": {},
     "output_type": "display_data"
    },
    {
     "data": {
      "image/png": "[encoded data removed]",
      "text/plain": [
       "<Figure size 432x288 with 1 Axes>"
      ]
     },
     "metadata": {},
     "output_type": "display_data"
    }
   ],
   "source": [
    "plt.plot(threshold,model_accuracy,'o')\n",
    "plt.title('Model Accuracy vs Threshold',size=20)\n",
    "plt.ylabel('Accuracy',size=20)\n",
    "plt.xlabel('Threshold Value',size=20)\n",
    "plt.show()\n",
    "\n",
    "plt.plot(threshold,model_recall,'o')\n",
    "plt.title('Model Recall vs Threshold',size=20)\n",
    "plt.ylabel('Recall',size=20)\n",
    "plt.xlabel('Threshold Value',size=20)\n",
    "plt.show()\n",
    "\n",
    "plt.plot(threshold,model_f1,'o')\n",
    "plt.title('Model F1 Score vs Threshold',size=20)\n",
    "plt.ylabel('F1 Score',size=20)\n",
    "plt.xlabel('Threshold Value',size=20)\n",
    "plt.show()\n",
    "\n",
    "\n",
    "plt.plot(threshold,model_sample_size,'o')\n",
    "plt.title('Sample Size vs Threshold',size=20)\n",
    "plt.ylabel('Sample Size (Percent)',size=20)\n",
    "plt.xlabel('Threshold Value',size=20)\n",
    "plt.show()"
   ]
  },
  {
   "cell_type": "markdown",
   "metadata": {},
   "source": [
    "# Choosing a threshold of $T=0.6$ appears to be a reasonable value to use for the binary classification problem"
   ]
  },
  {
   "cell_type": "code",
   "execution_count": 7,
   "metadata": {},
   "outputs": [
    {
     "name": "stdout",
     "output_type": "stream",
     "text": [
      "Threshold: 0.0, accuracy: 0.68, recall: 0.75, sample size: 100.0\n",
      "Threshold: 0.05, accuracy: 0.68, recall: 0.75, sample size: 100.0\n",
      "Threshold: 0.1, accuracy: 0.69, recall: 0.75, sample size: 97.49\n",
      "Threshold: 0.15, accuracy: 0.7, recall: 0.77, sample size: 91.09\n",
      "Threshold: 0.2, accuracy: 0.7, recall: 0.77, sample size: 86.07\n",
      "Threshold: 0.25, accuracy: 0.71, recall: 0.77, sample size: 77.72\n",
      "Threshold: 0.3, accuracy: 0.73, recall: 0.78, sample size: 69.36\n",
      "Threshold: 0.35, accuracy: 0.77, recall: 0.8, sample size: 60.72\n",
      "Threshold: 0.4, accuracy: 0.78, recall: 0.8, sample size: 56.55\n",
      "Threshold: 0.45, accuracy: 0.81, recall: 0.81, sample size: 44.85\n",
      "Threshold: 0.5, accuracy: 0.83, recall: 0.81, sample size: 40.67\n",
      "Threshold: 0.55, accuracy: 0.86, recall: 0.83, sample size: 32.03\n",
      "Threshold: 0.6, accuracy: 0.94, recall: 0.85, sample size: 23.96\n",
      "Threshold: 0.65, accuracy: 0.95, recall: 0.84, sample size: 20.61\n",
      "Threshold: 0.7, accuracy: 0.96, recall: 0.81, sample size: 13.37\n",
      "Threshold: 0.75, accuracy: 0.96, recall: 0.82, sample size: 12.53\n",
      "Threshold: 0.8, accuracy: 0.95, recall: 0.79, sample size: 10.58\n",
      "Threshold: 0.85, accuracy: 1.0, recall: 0.88, sample size: 4.74\n",
      "Threshold: 0.9, accuracy: 1.0, recall: 0.88, sample size: 4.46\n",
      "Threshold: 0.95, accuracy: 1.0, recall: 0.87, sample size: 4.18\n",
      "Threshold: 1.0, accuracy: 1.0, recall: 0.87, sample size: 4.18\n"
     ]
    }
   ],
   "source": [
    "f_name_out = \"sentiment_model_tweet_test_scores.txt\"\n",
    "\n",
    "f = open(f_name_out,\"w\")\n",
    "\n",
    "f.write(\"T   \"+\"Acc  \"+\"Rec  \"+\"f1   \"+\"s%\"+\"\\n\")\n",
    "\n",
    "for k in range(0,len(model_accuracy)):\n",
    "    t = threshold[k]\n",
    "    a = round(model_accuracy[k],2)\n",
    "    r = round(model_recall[k],2)\n",
    "    f1 = round(model_f1[k],2)\n",
    "    s = round(model_sample_size[k],2)\n",
    "    \n",
    "    print(\"Threshold: %s, accuracy: %s, recall: %s, sample size: %s\" % (t,a,r,s))\n",
    "    f.write(str(t)+\" \"+str(a)+\" \"+str(r)+\" \"+str(f1)+\" \"+str(s)+\"\\n\")\n",
    "    \n",
    "f.close()"
   ]
  },
  {
   "cell_type": "markdown",
   "metadata": {},
   "source": [
    "# Now we examine the multiclass metrics of the model"
   ]
  },
  {
   "cell_type": "code",
   "execution_count": 8,
   "metadata": {},
   "outputs": [
    {
     "name": "stdout",
     "output_type": "stream",
     "text": [
      "   sentiment    id                          date query_string           user  \\\n",
      "0          0   212  Mon May 25 17:23:55 UTC 2009      bailout  funky_old_man   \n",
      "1          4  2399  Tue Jun 02 03:29:47 UTC 2009      dentist  Erinthebigsis   \n",
      "2          2   436  Tue Jun 02 04:29:26 UTC 2009     baseball       H3LLGWAR   \n",
      "3          2   192  Sat May 23 20:43:22 UTC 2009         weka         nikete   \n",
      "4          2  2406  Tue Jun 02 03:35:05 UTC 2009      dentist   AdiOpERsOcoM   \n",
      "\n",
      "                                                text  \n",
      "0  Are YOU burning more cash $$$ than Chrysler an...  \n",
      "1  My dentist appt today was actually quite enjoy...  \n",
      "2  just started playing Major League Baseball 2K9...  \n",
      "3  giving weka an app engine interface, using the...  \n",
      "4  First dentist appointment [in years] on Wednes...  \n"
     ]
    }
   ],
   "source": [
    "# Re-read in all the testing data, keep the neutral sentiments\n",
    "\n",
    "file_name = 'model_training_data/testdata.manual.2009.06.14.csv'\n",
    "\n",
    "cols = ['sentiment','id','date','query_string','user','text']\n",
    "\n",
    "# Read in the data, randomly shuffle and reset the index\n",
    "df=pd.read_csv(file_name,header=None, names=cols,encoding = \"ISO-8859-1\")\n",
    "df=df.sample(frac=1)\n",
    "df=df.reset_index(drop=True)\n",
    "\n",
    "print(df.head())"
   ]
  },
  {
   "cell_type": "markdown",
   "metadata": {},
   "source": [
    "# Here we compute the multiclass metrics"
   ]
  },
  {
   "cell_type": "code",
   "execution_count": 9,
   "metadata": {},
   "outputs": [
    {
     "name": "stderr",
     "output_type": "stream",
     "text": [
      "100%|██████████| 498/498 [00:05<00:00, 92.94it/s] \n",
      "  3%|▎         | 13/498 [00:00<00:03, 124.43it/s]"
     ]
    },
    {
     "name": "stdout",
     "output_type": "stream",
     "text": [
      "Threshold:  0.0\n",
      "             precision    recall  f1-score   support\n",
      "\n",
      "   Negative       0.49      0.80      0.61       177\n",
      "    Neutral       0.00      0.00      0.00       139\n",
      "   Positive       0.64      0.73      0.68       182\n",
      "\n",
      "avg / total       0.41      0.55      0.46       498\n",
      "\n"
     ]
    },
    {
     "name": "stderr",
     "output_type": "stream",
     "text": [
      "100%|██████████| 498/498 [00:03<00:00, 132.48it/s]\n",
      "  2%|▏         | 12/498 [00:00<00:04, 118.69it/s]"
     ]
    },
    {
     "name": "stdout",
     "output_type": "stream",
     "text": [
      "Threshold:  0.2\n",
      "             precision    recall  f1-score   support\n",
      "\n",
      "   Negative       0.52      0.73      0.61       177\n",
      "    Neutral       0.57      0.31      0.40       139\n",
      "   Positive       0.70      0.68      0.69       182\n",
      "\n",
      "avg / total       0.60      0.59      0.58       498\n",
      "\n"
     ]
    },
    {
     "name": "stderr",
     "output_type": "stream",
     "text": [
      "100%|██████████| 498/498 [00:03<00:00, 137.76it/s]\n",
      "  3%|▎         | 13/498 [00:00<00:03, 123.57it/s]"
     ]
    },
    {
     "name": "stdout",
     "output_type": "stream",
     "text": [
      "Threshold:  0.4\n",
      "             precision    recall  f1-score   support\n",
      "\n",
      "   Negative       0.62      0.48      0.54       177\n",
      "    Neutral       0.42      0.71      0.53       139\n",
      "   Positive       0.78      0.53      0.63       182\n",
      "\n",
      "avg / total       0.62      0.56      0.57       498\n",
      "\n"
     ]
    },
    {
     "name": "stderr",
     "output_type": "stream",
     "text": [
      "100%|██████████| 498/498 [00:03<00:00, 138.18it/s]\n",
      "  3%|▎         | 14/498 [00:00<00:03, 130.63it/s]"
     ]
    },
    {
     "name": "stdout",
     "output_type": "stream",
     "text": [
      "Threshold:  0.6\n",
      "             precision    recall  f1-score   support\n",
      "\n",
      "   Negative       0.77      0.21      0.33       177\n",
      "    Neutral       0.33      0.91      0.48       139\n",
      "   Positive       0.81      0.30      0.44       182\n",
      "\n",
      "avg / total       0.66      0.44      0.41       498\n",
      "\n"
     ]
    },
    {
     "name": "stderr",
     "output_type": "stream",
     "text": [
      "100%|██████████| 498/498 [00:03<00:00, 138.80it/s]"
     ]
    },
    {
     "name": "stdout",
     "output_type": "stream",
     "text": [
      "Threshold:  0.8\n",
      "             precision    recall  f1-score   support\n",
      "\n",
      "   Negative       0.87      0.07      0.14       177\n",
      "    Neutral       0.30      0.99      0.46       139\n",
      "   Positive       0.81      0.12      0.20       182\n",
      "\n",
      "avg / total       0.69      0.34      0.25       498\n",
      "\n"
     ]
    },
    {
     "name": "stderr",
     "output_type": "stream",
     "text": [
      "\n"
     ]
    }
   ],
   "source": [
    "from sklearn.metrics import accuracy_score\n",
    "from sklearn.metrics import confusion_matrix\n",
    "from tqdm import tqdm\n",
    "from sklearn.metrics import classification_report\n",
    "\n",
    "\n",
    "threshold = [0.0,0.2,0.4,0.6,0.8]\n",
    "model_accuracy = []\n",
    "target_names = ['Negative', 'Neutral', 'Positive']\n",
    "\n",
    "for t in threshold:\n",
    "    \n",
    "    sentiment_pred = []\n",
    "    sentiment_prob = []\n",
    "    y = []\n",
    "    \n",
    "    for k in tqdm(range(0,len(df))):\n",
    "        # The Tweet to be analysed\n",
    "        sample_text = df['text'][k]\n",
    "\n",
    "        # The labelled sentiment of the tweet\n",
    "        true_sentiment = df['sentiment'][k]\n",
    "\n",
    "        # We map the sentiment to our values\n",
    "        if(true_sentiment==0):\n",
    "            y_true = -1\n",
    "        elif(true_sentiment==2):\n",
    "            y_true = 0\n",
    "        elif(true_sentiment==4):\n",
    "            y_true = +1\n",
    "\n",
    "        pred,prob = sentiment_model(sample_text,t,vectorizer, loaded_lr,loaded_nb)\n",
    "        \n",
    "        y.append(y_true)\n",
    "        sentiment_pred.append(pred)\n",
    "        sentiment_prob.append(prob)\n",
    "    \n",
    "    print(\"Threshold: \", t)\n",
    "    print(classification_report(y_true=y, y_pred=sentiment_pred, target_names=target_names))\n",
    "    \n",
    "    # Compute the accuracy and the recall of the models\n",
    "    acc = accuracy_score(y_pred=sentiment_pred,y_true=y) \n",
    "    model_accuracy.append(rec)"
   ]
  },
  {
   "cell_type": "code",
   "execution_count": null,
   "metadata": {},
   "outputs": [],
   "source": []
  }
 ],
 "metadata": {
  "kernelspec": {
   "display_name": "Python [conda env:py35]",
   "language": "python",
   "name": "conda-env-py35-py"
  },
  "language_info": {
   "codemirror_mode": {
    "name": "ipython",
    "version": 3
   },
   "file_extension": ".py",
   "mimetype": "text/x-python",
   "name": "python",
   "nbconvert_exporter": "python",
   "pygments_lexer": "ipython3",
   "version": "3.5.5"
  }
 },
 "nbformat": 4,
 "nbformat_minor": 2
}
