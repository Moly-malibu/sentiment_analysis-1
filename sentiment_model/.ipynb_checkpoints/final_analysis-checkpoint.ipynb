{
 "cells": [
  {
   "cell_type": "code",
   "execution_count": 1,
   "metadata": {},
   "outputs": [
    {
     "name": "stdout",
     "output_type": "stream",
     "text": [
      "[nltk_data] Downloading package wordnet to /home/javier/nltk_data...\n",
      "[nltk_data]   Package wordnet is already up-to-date!\n",
      "[nltk_data] Downloading package stopwords to /home/javier/nltk_data...\n",
      "[nltk_data]   Package stopwords is already up-to-date!\n",
      "[nltk_data] Downloading package punkt to /home/javier/nltk_data...\n",
      "[nltk_data]   Package punkt is already up-to-date!\n"
     ]
    }
   ],
   "source": [
    "import warnings\n",
    "warnings.filterwarnings('ignore')\n",
    "\n",
    "import os.path\n",
    "import sqlite3\n",
    "import pandas as pd\n",
    "%matplotlib inline\n",
    "import numpy as np\n",
    "import matplotlib\n",
    "import matplotlib.pyplot as plt\n",
    "from process_text import clean_up_text\n",
    "from process_text import preprocess\n",
    "from process_text import string_cohesion\n",
    "from sklearn.feature_extraction.text import TfidfVectorizer\n",
    "\n",
    "\n",
    "conn = sqlite3.connect('keyword_based_database.db')\n",
    "\n",
    "q='''\n",
    "SELECT * FROM tweet\n",
    "WHERE LOWER(tweet_text) LIKE '%ford%'\n",
    "AND LOWER(tweet_text) NOT LIKE '%harrison%'  \n",
    "AND LOWER(tweet_text) NOT LIKE '%doug%'\n",
    "AND LOWER(tweet_text) NOT LIKE '%government%'\n",
    "AND LOWER(tweet_text) NOT LIKE '%goverment%'\n",
    "AND LOWER(tweet_text) NOT LIKE '%tax%'\n",
    "AND LOWER(tweet_text) NOT LIKE '%toronto%'\n",
    "LIMIT 10000;\n",
    "'''\n",
    "\n",
    "q2='''\n",
    "SELECT * FROM tweet\n",
    "WHERE LOWER(tweet_text) LIKE '%@toyota%'  \n",
    "LIMIT 10000;\n",
    "'''\n",
    "\n",
    "df = pd.read_sql_query(q2,conn)"
   ]
  },
  {
   "cell_type": "code",
   "execution_count": 2,
   "metadata": {},
   "outputs": [
    {
     "name": "stdout",
     "output_type": "stream",
     "text": [
      "---------------------------------------------------------\n",
      "Column names: \n",
      " ['tweet_id_text', 'tweet_hashtag', 'tweet_text', 'created_at', 'geo_lat', 'geo_long', 'user_id_text'] \n",
      "\n",
      "The number of tweets:  10000 \n",
      "\n",
      "---------------------------------------------------------\n",
      "0    RT @Phillies: Iconic. All fans receive this aw...\n",
      "1    RT @SleekDeals: 🔥 A Need!!!\\n\\nToyota Corolla ...\n",
      "2    RT @Phillies: Iconic. All fans receive this aw...\n",
      "3    RT @Phillies: Iconic. All fans receive this aw...\n",
      "4          @Kall_Me_Karlz Is this just a Toyota thing?\n",
      "5    We hope you love your 2013 Toyota Sequoia! Hap...\n",
      "6    RT @Phillies: Iconic. All fans receive this aw...\n",
      "7    RT @johnoft: @ToyotaGB @The_PlugSeeker I think...\n",
      "8    RT @Phillies: Iconic. All fans receive this aw...\n",
      "9    RT @SkynethMall: SKTOO Car Parts Center Instru...\n",
      "Name: tweet_text, dtype: object\n"
     ]
    },
    {
     "data": {
      "image/png": "[encoded data removed]",
      "text/plain": [
       "<Figure size 432x288 with 1 Axes>"
      ]
     },
     "metadata": {},
     "output_type": "display_data"
    }
   ],
   "source": [
    "# Some simple Data exploration\n",
    "\n",
    "N_raw_tweets = len(df)\n",
    "\n",
    "print('---------------------------------------------------------')\n",
    "print('Column names: \\n', list(df.columns.values),\"\\n\")\n",
    "print('The number of tweets: ', N_raw_tweets,'\\n')\n",
    "print('---------------------------------------------------------')\n",
    "\n",
    "# Show the First ten items in the tweet database\n",
    "print(df['tweet_text'][0:10])\n",
    "\n",
    "\n",
    "\n",
    "# A small data frame to plot the length of the tweets\n",
    "df_len= df['tweet_text'].apply(len)\n",
    "plt.hist(df_len,bins=20,density=True)\n",
    "plt.ylabel('Frequency',size=15)\n",
    "plt.xlabel('Tweet Length',size=15)\n",
    "plt.savefig('tweet_length_histogram_raw.pdf',bboxes='tight')\n",
    "plt.show()"
   ]
  },
  {
   "cell_type": "code",
   "execution_count": 3,
   "metadata": {},
   "outputs": [
    {
     "name": "stdout",
     "output_type": "stream",
     "text": [
      "\n",
      "\n",
      "=============================================================\n",
      "The number of tweets after removing duplicates:  5052 \n",
      "\n",
      "Fraction removed:  0.495\n",
      "=============================================================\n"
     ]
    },
    {
     "data": {
      "image/png": "[encoded data removed]",
      "text/plain": [
       "<Figure size 432x288 with 1 Axes>"
      ]
     },
     "metadata": {},
     "output_type": "display_data"
    }
   ],
   "source": [
    "# Apply the 'Clean-up-text function to all tweets in the data frame'\n",
    "df['tweet_text'] = df['tweet_text'].apply(clean_up_text)\n",
    "\n",
    "\n",
    "# Remove duplicate tweets and reset the index\n",
    "df.drop_duplicates(subset='tweet_text', keep='first', inplace=True)\n",
    "df=df.reset_index(drop=True)\n",
    "\n",
    "N_processed_tweets = len(df)\n",
    "\n",
    "print('\\n')\n",
    "print('=============================================================')\n",
    "print('The number of tweets after removing duplicates: ', N_processed_tweets ,'\\n')\n",
    "print('Fraction removed: ', round(1.0-(N_processed_tweets/float(N_raw_tweets)),3) )\n",
    "print('=============================================================')\n",
    "\n",
    "# A small data frame to plot the length of the tweets\n",
    "df_len= df['tweet_text'].apply(len)\n",
    "plt.hist(df_len,bins=20,density=True)\n",
    "plt.ylabel('Frequency',size=15)\n",
    "plt.xlabel('Tweet Length',size=15)\n",
    "plt.savefig('tweet_length_histogram_processed.pdf',bboxes='tight')\n",
    "plt.show()"
   ]
  },
  {
   "cell_type": "code",
   "execution_count": 4,
   "metadata": {},
   "outputs": [
    {
     "name": "stdout",
     "output_type": "stream",
     "text": [
      "Loaded 2442 X 1963 document-term matrix\n",
      "number of terms:  1963\n",
      "Dictionary:  6105\n",
      "A:  (6105, 1963)\n",
      "0\n",
      "bad car bmw\n",
      "such a bad car #BMW [-1, -1, -1] [0.3580657920989281, 0.37478204239024215, 0.3499999999999999]\n"
     ]
    }
   ],
   "source": [
    "import warnings\n",
    "warnings.filterwarnings('ignore')\n",
    "\n",
    "from process_text import clean_up_text\n",
    "from process_text import string_cohesion\n",
    "from textblob import TextBlob\n",
    "import spacy\n",
    "import pickle\n",
    "from sklearn.externals import joblib\n",
    "from sklearn.feature_extraction.text import TfidfVectorizer\n",
    "\n",
    "#--------------------------------------------------------------\n",
    "# Import the custom stop words\n",
    "custom_stop_words = []\n",
    "with open( \"stopwords.txt\", \"r\" ) as fin:\n",
    "    for line in fin.readlines():\n",
    "        custom_stop_words.append( line.strip() )\n",
    "#--------------------------------------------------------------\n",
    "\n",
    "\n",
    "#--------------------------------------------------------------\n",
    "# Import the vocabulary and generate the vectorizer tranformer\n",
    "#--------------------------------------------------------------\n",
    "(A,terms,dict_sample) = joblib.load( \"/home/javier/Documents/sentiment_analysis/sentiment_model/articles-raw.pkl\" )\n",
    "print( \"Loaded %d X %d document-term matrix\" % (A.shape[0], A.shape[1]) )\n",
    "print('number of terms: ',len(terms))#print(dic_sample[0:10])\n",
    "print('Dictionary: ',len(dict_sample))\n",
    "\n",
    "vectorizer = TfidfVectorizer(stop_words = custom_stop_words,min_df = 20)\n",
    "A = vectorizer.fit_transform(dict_sample)\n",
    "print('A: ', A.shape)\n",
    "#--------------------------------------------------------------\n",
    "\n",
    "\n",
    "#--------------------------------------------------------------\n",
    "# We load the trained models\n",
    "#--------------------------------------------------------------\n",
    "# The names of the files containing the weights of the model\n",
    "filename1 = 'lr_sentiment_model.sav'\n",
    "filename2 = 'nb_sentiment_model.sav'\n",
    "\n",
    "# Now we load in the trained models\n",
    "loaded_lr = pickle.load(open(filename1, 'rb'))\n",
    "loaded_nb = pickle.load(open(filename2, 'rb'))\n",
    "\n",
    "\n",
    "\n",
    "\n",
    "#sample_text = df['tweet_text'][23]\n",
    "#sample_text = 'I had a decent time with this vehicle, recommend'\n",
    "#sample_text = 'I had a decent time with this vehicle, so I would recommend it'\n",
    "sample_text = 'such a bad car #BMW'\n",
    "\n",
    "s = str(clean_up_text(sample_text))\n",
    "\n",
    "# Transform the text\n",
    "X0 = vectorizer.transform([s])\n",
    "\n",
    "# Predict the class \n",
    "preds_nb = loaded_nb.predict(X0)\n",
    "preds_lr = loaded_lr.predict(X0)\n",
    "preds_blob =  TextBlob(sample_text).sentiment.polarity\n",
    "if(preds_blob>=0.0):\n",
    "    preds_blob = +1\n",
    "else:\n",
    "    preds_blob = -1\n",
    "\n",
    "\n",
    "\n",
    "# Compute the probability of the class\n",
    "indx_nb= int((preds_nb[0]+1)/2)\n",
    "indx_lr= int((preds_lr[0]+1)/2)\n",
    "prob_nb = abs((loaded_nb.predict_proba(X0)[0][indx_nb]-.50)*2.0*int(preds_nb[0]))\n",
    "prob_lr = abs((loaded_lr.predict_proba(X0)[0][indx_lr]-0.50)*2.0*int(preds_lr[0]))\n",
    "prob_blob = abs(TextBlob(sample_text).sentiment.polarity) # [-1,1]\n",
    "\n",
    "print(indx_nb)\n",
    "print(s)\n",
    "print(sample_text,[preds_nb[0],preds_lr[0],preds_blob],[prob_nb,prob_lr,prob_blob ] )"
   ]
  },
  {
   "cell_type": "code",
   "execution_count": 5,
   "metadata": {},
   "outputs": [],
   "source": [
    "threshold = 0.2\n",
    "sentiment_pred = []\n",
    "sentiment_prob = []\n",
    "\n",
    "for k in range(0,len(df)):\n",
    "    \n",
    "    sample_text = df['tweet_text'][k]\n",
    "    s = str(clean_up_text(sample_text))\n",
    "\n",
    "    # Transform the text\n",
    "    X0 = vectorizer.transform([s])\n",
    "\n",
    "    # Predict the class \n",
    "    preds_nb = loaded_nb.predict(X0)\n",
    "    preds_lr = loaded_lr.predict(X0)\n",
    "    preds_blob =  TextBlob(sample_text).sentiment.polarity\n",
    "    \n",
    "    if(preds_blob>=0.0):\n",
    "        preds_blob = +1\n",
    "    else:\n",
    "        preds_blob = -1\n",
    "\n",
    "    # Compute the probability of the class\n",
    "    indx_nb= int((preds_nb[0]+1)/2)\n",
    "    indx_lr= int((preds_lr[0]+1)/2)\n",
    "    prob_nb = abs((loaded_nb.predict_proba(X0)[0][indx_nb]-.50)*2.0*int(preds_nb[0]))\n",
    "    prob_lr = abs((loaded_lr.predict_proba(X0)[0][indx_lr]-0.50)*2.0*int(preds_lr[0]))\n",
    "    prob_blob = abs(TextBlob(sample_text).sentiment.polarity) # [-1,1]\n",
    "    \n",
    "    if(prob_lr<threshold):\n",
    "        preds_lr=[0.0]\n",
    "        \n",
    "    if(prob_nb<threshold):\n",
    "        preds_nb=[0.0]\n",
    "        \n",
    "    if(prob_blob<threshold):\n",
    "        preds_blob =0.0\n",
    "    \n",
    "    \n",
    "    #model_predict = [m1_p,m2_p,m3_p]\n",
    "    \n",
    "    sentiment_pred.append([preds_nb[0],preds_lr[0],preds_blob])\n",
    "    sentiment_prob.append([prob_nb,prob_lr,prob_blob ])\n",
    "    #print(indx_nb)\n",
    "    #print(sample_text,[preds_nb[0],preds_lr[0],preds_blob],[prob_nb,prob_lr,prob_blob ] )"
   ]
  },
  {
   "cell_type": "code",
   "execution_count": 6,
   "metadata": {},
   "outputs": [],
   "source": [
    "y_model1 =[ sentiment_pred[k][0] for k in range(len(sentiment_pred))]\n",
    "y_model2 =[ sentiment_pred[k][1] for k in range(len(sentiment_pred))]\n",
    "y_model3 =[ sentiment_pred[k][2] for k in range(len(sentiment_pred))]\n",
    "\n",
    "y_model1_prob =[ sentiment_prob[k][0] for k in range(len(sentiment_prob))]\n",
    "y_model2_prob =[ sentiment_prob[k][1] for k in range(len(sentiment_prob))]\n",
    "y_model3_prob =[ sentiment_prob[k][2] for k in range(len(sentiment_prob))]"
   ]
  },
  {
   "cell_type": "code",
   "execution_count": 7,
   "metadata": {},
   "outputs": [
    {
     "name": "stdout",
     "output_type": "stream",
     "text": [
      "5052\n"
     ]
    },
    {
     "data": {
      "image/png": "[encoded data removed]",
      "text/plain": [
       "<Figure size 432x288 with 1 Axes>"
      ]
     },
     "metadata": {},
     "output_type": "display_data"
    },
    {
     "data": {
      "image/png": "[encoded data removed]",
      "text/plain": [
       "<Figure size 432x288 with 1 Axes>"
      ]
     },
     "metadata": {},
     "output_type": "display_data"
    },
    {
     "data": {
      "image/png": "[encoded data removed]",
      "text/plain": [
       "<Figure size 432x288 with 1 Axes>"
      ]
     },
     "metadata": {},
     "output_type": "display_data"
    }
   ],
   "source": [
    "print(len(y_model1))\n",
    "plt.hist(y_model1)\n",
    "plt.show()\n",
    "\n",
    "plt.hist(y_model2)\n",
    "plt.show()\n",
    "\n",
    "plt.hist(y_model3)\n",
    "plt.show()"
   ]
  },
  {
   "cell_type": "code",
   "execution_count": 8,
   "metadata": {},
   "outputs": [
    {
     "data": {
      "image/png": "[encoded data removed]",
      "text/plain": [
       "<Figure size 432x288 with 1 Axes>"
      ]
     },
     "metadata": {},
     "output_type": "display_data"
    },
    {
     "data": {
      "image/png": "[encoded data removed]",
      "text/plain": [
       "<Figure size 432x288 with 1 Axes>"
      ]
     },
     "metadata": {},
     "output_type": "display_data"
    },
    {
     "data": {
      "image/png": "[encoded data removed]",
      "text/plain": [
       "<Figure size 432x288 with 1 Axes>"
      ]
     },
     "metadata": {},
     "output_type": "display_data"
    }
   ],
   "source": [
    "plt.hist(y_model1_prob,bins=25)\n",
    "plt.show()\n",
    "\n",
    "plt.hist(y_model2_prob,bins=25)\n",
    "plt.show()\n",
    "\n",
    "plt.hist(y_model3_prob,bins=25)\n",
    "plt.show()"
   ]
  },
  {
   "cell_type": "code",
   "execution_count": 9,
   "metadata": {},
   "outputs": [
    {
     "data": {
      "image/png": "[encoded data removed]",
      "text/plain": [
       "<Figure size 432x288 with 1 Axes>"
      ]
     },
     "metadata": {},
     "output_type": "display_data"
    },
    {
     "data": {
      "image/png": "[encoded data removed]",
      "text/plain": [
       "<Figure size 432x288 with 1 Axes>"
      ]
     },
     "metadata": {},
     "output_type": "display_data"
    },
    {
     "data": {
      "image/png": "[encoded data removed]",
      "text/plain": [
       "<Figure size 432x288 with 1 Axes>"
      ]
     },
     "metadata": {},
     "output_type": "display_data"
    }
   ],
   "source": [
    "import matplotlib.pyplot as plt\n",
    "import collections, numpy\n",
    "\n",
    "# create data\n",
    "names='Neutral', 'Positive', 'Negative'\n",
    "\n",
    "m1_count= collections.Counter(y_model1)\n",
    "m2_count= collections.Counter(y_model2)\n",
    "m3_count= collections.Counter(y_model3)\n",
    "\n",
    "\n",
    "size_model1=[m1_count[0],m1_count[1],m1_count[-1]]\n",
    "size_model2=[m2_count[0],m2_count[1],m2_count[-1]]\n",
    "size_model3=[m3_count[0],m3_count[1],m3_count[-1]]\n",
    " \n",
    "# Create a circle for the center of the plot\n",
    "my_circle=plt.Circle( (0,0), 0.6, color='white')\n",
    "\n",
    "\n",
    "# Give color names\n",
    "plt.pie(size_model1, labels=names, colors=['lightgrey','green','red'])\n",
    "p=plt.gcf()\n",
    "p.gca().add_artist(my_circle)\n",
    "plt.show()\n",
    "\n",
    "\n",
    "my_circle=plt.Circle( (0,0), 0.6, color='white')\n",
    "p=plt.gcf()\n",
    "p.gca().add_artist(my_circle)\n",
    "plt.pie(size_model2, labels=names, colors=['lightgrey','green','red'])\n",
    "plt.show()\n",
    "\n",
    "\n",
    "my_circle=plt.Circle( (0,0), 0.6, color='white')\n",
    "p=plt.gcf()\n",
    "p.gca().add_artist(my_circle)\n",
    "plt.pie(size_model3, labels=names, colors=['lightgrey','green','red'])\n",
    "plt.show()\n",
    "\n"
   ]
  },
  {
   "cell_type": "code",
   "execution_count": null,
   "metadata": {},
   "outputs": [],
   "source": []
  }
 ],
 "metadata": {
  "kernelspec": {
   "display_name": "Python [conda env:py35]",
   "language": "python",
   "name": "conda-env-py35-py"
  },
  "language_info": {
   "codemirror_mode": {
    "name": "ipython",
    "version": 3
   },
   "file_extension": ".py",
   "mimetype": "text/x-python",
   "name": "python",
   "nbconvert_exporter": "python",
   "pygments_lexer": "ipython3",
   "version": "3.5.5"
  }
 },
 "nbformat": 4,
 "nbformat_minor": 2
}
