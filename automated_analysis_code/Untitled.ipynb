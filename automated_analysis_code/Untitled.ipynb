{
 "cells": [
  {
   "cell_type": "code",
   "execution_count": 1,
   "metadata": {},
   "outputs": [
    {
     "name": "stderr",
     "output_type": "stream",
     "text": [
      "/home/javier/anaconda3/envs/py35/lib/python3.5/importlib/_bootstrap.py:222: RuntimeWarning: numpy.dtype size changed, may indicate binary incompatibility. Expected 96, got 88\n",
      "  return f(*args, **kwds)\n",
      "/home/javier/anaconda3/envs/py35/lib/python3.5/importlib/_bootstrap.py:222: RuntimeWarning: numpy.dtype size changed, may indicate binary incompatibility. Expected 96, got 88\n",
      "  return f(*args, **kwds)\n",
      "/home/javier/anaconda3/envs/py35/lib/python3.5/importlib/_bootstrap.py:222: RuntimeWarning: numpy.dtype size changed, may indicate binary incompatibility. Expected 96, got 88\n",
      "  return f(*args, **kwds)\n",
      "/home/javier/anaconda3/envs/py35/lib/python3.5/importlib/_bootstrap.py:222: RuntimeWarning: numpy.dtype size changed, may indicate binary incompatibility. Expected 96, got 88\n",
      "  return f(*args, **kwds)\n",
      "/home/javier/anaconda3/envs/py35/lib/python3.5/importlib/_bootstrap.py:222: RuntimeWarning: numpy.dtype size changed, may indicate binary incompatibility. Expected 96, got 88\n",
      "  return f(*args, **kwds)\n",
      "/home/javier/anaconda3/envs/py35/lib/python3.5/importlib/_bootstrap.py:222: RuntimeWarning: numpy.dtype size changed, may indicate binary incompatibility. Expected 96, got 88\n",
      "  return f(*args, **kwds)\n",
      "/home/javier/anaconda3/envs/py35/lib/python3.5/importlib/_bootstrap.py:222: RuntimeWarning: numpy.dtype size changed, may indicate binary incompatibility. Expected 96, got 88\n",
      "  return f(*args, **kwds)\n"
     ]
    }
   ],
   "source": [
    "import source.bayesian_correlation_analysis as bc\n",
    "from sklearn.linear_model import LinearRegression\n",
    "import numpy as np"
   ]
  },
  {
   "cell_type": "code",
   "execution_count": 9,
   "metadata": {
    "scrolled": true
   },
   "outputs": [],
   "source": [
    "lm = LinearRegression()\n",
    "\n",
    "\n",
    "x1 = np.linspace(0.0,1.0,100)\n",
    "x2 = np.linspace(-3.0,3.0,100)\n",
    "x3 = np.linspace(-1.0,1.0,100)\n",
    "y = 3.0+1.0*x1+1.0*x2+4.0*x3+np.random.normal(0.0,1.0,len(x3))\n",
    "y1 = 2.0+ 3.0*x1\n",
    "y2 = 2.0+ 3.0*x1+2.0*x2+np.random.normal(0.0,1.0,len(x3))\n",
    "y2 = np.random.normal(0.0,1.0,len(x3))\n",
    "\n",
    "#y1 = y1.reshape(-1,1)"
   ]
  },
  {
   "cell_type": "code",
   "execution_count": 10,
   "metadata": {},
   "outputs": [
    {
     "name": "stdout",
     "output_type": "stream",
     "text": [
      "                            OLS Regression Results                            \n",
      "==============================================================================\n",
      "Dep. Variable:                      y   R-squared:                       0.031\n",
      "Model:                            OLS   Adj. R-squared:                  0.022\n",
      "Method:                 Least Squares   F-statistic:                     3.185\n",
      "Date:                Sun, 28 Apr 2019   Prob (F-statistic):             0.0774\n",
      "Time:                        22:34:14   Log-Likelihood:                -135.77\n",
      "No. Observations:                 100   AIC:                             275.5\n",
      "Df Residuals:                      98   BIC:                             280.8\n",
      "Df Model:                           1                                         \n",
      "Covariance Type:            nonrobust                                         \n",
      "==============================================================================\n",
      "                 coef    std err          t      P>|t|      [0.025      0.975]\n",
      "------------------------------------------------------------------------------\n",
      "const         -0.1955      0.077     -2.555      0.012      -0.347      -0.044\n",
      "x1            -0.0794      0.038     -2.097      0.039      -0.154      -0.004\n",
      "x2             0.1102      0.053      2.059      0.042       0.004       0.216\n",
      "==============================================================================\n",
      "Omnibus:                        1.402   Durbin-Watson:                   2.279\n",
      "Prob(Omnibus):                  0.496   Jarque-Bera (JB):                1.165\n",
      "Skew:                          -0.030   Prob(JB):                        0.559\n",
      "Kurtosis:                       2.475   Cond. No.                     2.17e+16\n",
      "==============================================================================\n",
      "\n",
      "Warnings:\n",
      "[1] Standard Errors assume that the covariance matrix of the errors is correctly specified.\n",
      "[2] The smallest eigenvalue is 6.68e-31. This might indicate that there are\n",
      "strong multicollinearity problems or that the design matrix is singular.\n"
     ]
    }
   ],
   "source": [
    "#model = bc.classical_linear_fit_1D(x1,y1)\n",
    "model = bc.classical_linear_fit_2D(x1,x2,y2)\n",
    "#model = bc.classical_linear_fit(x1,x2,x3,y)\n",
    "#y_model = model.params[0]+model.params[1]*x1+model.params[2]*x2+model.params[3]*x3"
   ]
  },
  {
   "cell_type": "code",
   "execution_count": null,
   "metadata": {},
   "outputs": [],
   "source": []
  }
 ],
 "metadata": {
  "kernelspec": {
   "display_name": "Python [conda env:py35]",
   "language": "python",
   "name": "conda-env-py35-py"
  },
  "language_info": {
   "codemirror_mode": {
    "name": "ipython",
    "version": 3
   },
   "file_extension": ".py",
   "mimetype": "text/x-python",
   "name": "python",
   "nbconvert_exporter": "python",
   "pygments_lexer": "ipython3",
   "version": "3.5.5"
  }
 },
 "nbformat": 4,
 "nbformat_minor": 2
}
