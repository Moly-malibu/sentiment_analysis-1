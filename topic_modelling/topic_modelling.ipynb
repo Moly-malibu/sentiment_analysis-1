{
 "cells": [
  {
   "cell_type": "markdown",
   "metadata": {},
   "source": [
    "# Topic Modelling\n",
    "\n",
    "This Notebook does some data exploration on the SQL database containing twitter data. The goal is to use topic modelling methods to look for common patterns and topics in the data.\n",
    "\n",
    "\n",
    "### References\n",
    "https://github.com/derekgreene/topic-model-tutorial"
   ]
  },
  {
   "cell_type": "code",
   "execution_count": 1,
   "metadata": {},
   "outputs": [],
   "source": [
    "# Let us import some of the twitter data into a padas notebook\n",
    "\n",
    "import sqlite3\n",
    "import pandas as pd\n",
    "%matplotlib inline\n",
    "import numpy as np\n",
    "import matplotlib\n",
    "import matplotlib.pyplot as plt\n",
    "\n",
    "#conn = sqlite3.connect('location_based_database.db')\n",
    "conn = sqlite3.connect('keyword_based_database.db')\n",
    "#c = conn.cursor()\n",
    "#c.execute('''SELECT * FROM tweet;''')\n",
    "\n",
    "# Read into a Pandas Data Frame\n",
    "df = pd.read_sql_query(\"SELECT * FROM tweet where tweet_text like '%BMW%' LIMIT 10000;\",conn)\n",
    "#df = pd.read_sql_query(\"SELECT * FROM tweet LIMIT 10000;\",conn)"
   ]
  },
  {
   "cell_type": "code",
   "execution_count": 2,
   "metadata": {},
   "outputs": [
    {
     "name": "stdout",
     "output_type": "stream",
     "text": [
      "Column Names:  ['tweet_id_text', 'tweet_hashtag', 'tweet_text', 'created_at', 'geo_lat', 'geo_long', 'user_id_text'] \n",
      "\n",
      "The size of the table:  10000 \n",
      "\n",
      "0    RT @BennyMabale: @nascar_lens I still think th...\n",
      "1    RT @dimaagkoshot: Struggles as a star kid:\\n1....\n",
      "2    Your mcm drives again and is back on road with...\n",
      "3    RT @ApjZwane: It's #VrrphaaTuesday  y'all\\n#BM...\n",
      "4    RT @icbc: Today’s #ThrowbackThursday features ...\n",
      "5    2007 BMW 3-Series @ $7990Just arrived. Check i...\n",
      "6    RT @NicoTeboho: For the love of BMW M8 ❤️❤️❤️ ...\n",
      "7    RT @BMW: Setting the tempo for the next level....\n",
      "8    RT @undercoverT1: 🏁Video Alert🏁 #CarsOnWednesd...\n",
      "9    RT @BMW_SA: What does the future look like to ...\n",
      "Name: tweet_text, dtype: object\n"
     ]
    }
   ],
   "source": [
    "# Some simple Data exploration\n",
    "\n",
    "print('Column Names: ', list(df.columns.values),\"\\n\")\n",
    "\n",
    "print('The size of the table: ', len(df),'\\n')\n",
    "\n",
    "# Show the First ten items in the database\n",
    "print(df['tweet_text'][0:10])\n",
    "\n",
    "\n",
    "# Let us make a histogram of the "
   ]
  },
  {
   "cell_type": "code",
   "execution_count": 3,
   "metadata": {},
   "outputs": [
    {
     "name": "stdout",
     "output_type": "stream",
     "text": [
      "Example:  RT @NicoTeboho: For the love of BMW M8 ❤️❤️❤️ https://t.co/8FMN5sd8Pz \n",
      "\n",
      "Cleaned up:  for the love of bmw m\n",
      "The size of the table:  10000 \n",
      "\n",
      "The size of the table:  4210 \n",
      "\n"
     ]
    }
   ],
   "source": [
    "# Sources: https://rustyonrampage.github.io/text-mining/2017/11/23/stemming-and-lemmatization-with-python-and-nltk.html\n",
    "\n",
    "\n",
    "# Here we need to write a function that will clean up the tweet text:\n",
    "# 1. Remove urls\n",
    "# 2. Remove punctuation\n",
    "# 3. \n",
    "import nltk\n",
    "from textblob import TextBlob\n",
    "from tqdm import tqdm\n",
    "from collections import Counter \n",
    "from nltk.stem import PorterStemmer\n",
    "from nltk.stem import WordNetLemmatizer\n",
    "from nltk.corpus import wordnet\n",
    "from nltk.tokenize import sent_tokenize, word_tokenize\n",
    "import re\n",
    "\n",
    "# Only needed once\n",
    "#nltk.download('punkt')\n",
    "#nltk.download('wordnet')\n",
    "\n",
    "ps = PorterStemmer()\n",
    "wnl = WordNetLemmatizer()\n",
    "\n",
    "def get_pos( word ):\n",
    "    '''\n",
    "    Part-Of-Speech Tagger\n",
    "    '''\n",
    "    w_synsets = wordnet.synsets(word)\n",
    "    \n",
    "    \n",
    "    # n-noun, v-verb, a-adjective, r-\n",
    "    pos_counts = Counter()\n",
    "    pos_counts[\"n\"] = len(  [ item for item in w_synsets if item.pos()==\"n\"]  )\n",
    "    pos_counts[\"v\"] = len(  [ item for item in w_synsets if item.pos()==\"v\"]  )\n",
    "    pos_counts[\"a\"] = len(  [ item for item in w_synsets if item.pos()==\"a\"]  )\n",
    "    pos_counts[\"r\"] = len(  [ item for item in w_synsets if item.pos()==\"r\"]  )\n",
    "    \n",
    "    most_common_pos_list = pos_counts.most_common(3)\n",
    "    return most_common_pos_list[0][0]\n",
    "\n",
    "def clean_up_tweet(text):\n",
    "    # Remove @ from the string\n",
    "    s=re.sub(r'@[A-Za-z0-9]+','',text)    \n",
    "    \n",
    "    # Remove URLS\n",
    "    s=re.sub('https?://[A-Za-z0-9./]+','',s)\n",
    "    \n",
    "    # Set to lower case\n",
    "    s=s.lower()\n",
    "    \n",
    "    # Remove numbers\n",
    "    s= re.sub(r'[0-9]+', '', s) \n",
    "    \n",
    "    # Remove punctuation\n",
    "    s = re.sub(r'[^\\w\\s]','',s)\n",
    "    \n",
    "    # Remove underscore\n",
    "    s=s.replace(\"_\", \" \")\n",
    "    \n",
    "    # Remove RT from the tweet\n",
    "    s=s.replace(\"rt\", \"\")\n",
    "    \n",
    "    # Tokenize the words\n",
    "    words = word_tokenize(s)\n",
    "    \n",
    "    # Lemmatize the words\n",
    "    s_stem = ''\n",
    "    for wi in words:\n",
    "        #wi = ps.stem(wi)\n",
    "        wi = wnl.lemmatize(wi,get_pos(wi))\n",
    "        s_stem += ' ' + wi\n",
    "    \n",
    "    return s_stem\n",
    "\n",
    "text = df['tweet_text'][6]\n",
    "\n",
    "print(\"Example: \", text,'\\n')\n",
    "print(\"Cleaned up:\",clean_up_tweet(text))\n",
    "\n",
    "\n",
    "df['tweet_text'] = df['tweet_text'].apply(clean_up_tweet)\n",
    "\n",
    "print('The size of the table: ', len(df),'\\n')\n",
    "\n",
    "\n",
    "# Remove duplicate tweets and reset the index\n",
    "df.drop_duplicates(subset='tweet_text', keep='first', inplace=True)\n",
    "df=df.reset_index(drop=True)\n",
    "print('The size of the table: ', len(df),'\\n')"
   ]
  },
  {
   "cell_type": "code",
   "execution_count": 4,
   "metadata": {},
   "outputs": [
    {
     "name": "stdout",
     "output_type": "stream",
     "text": [
      "Read 4210 raw text documents\n"
     ]
    }
   ],
   "source": [
    "import os.path\n",
    "raw_documents = []\n",
    "snippets = []\n",
    "\n",
    "for k in range(0,len(df)):\n",
    "    text = df['tweet_text'][k]\n",
    "    raw_documents.append(text)\n",
    "    snippets.append(text)\n",
    "    #snippets.append( text[0:min(len(text),100)])\n",
    "\n",
    "print(\"Read %d raw text documents\" % len(raw_documents))"
   ]
  },
  {
   "cell_type": "code",
   "execution_count": 5,
   "metadata": {},
   "outputs": [
    {
     "name": "stdout",
     "output_type": "stream",
     "text": [
      "Stopword list has 355 entries\n",
      "Created 4210 X 258 document-term matrix\n"
     ]
    }
   ],
   "source": [
    "# Now we need to create the document term matrix\n",
    "from sklearn.feature_extraction.text import CountVectorizer\n",
    "\n",
    "# We will load in the custom stop words\n",
    "custom_stop_words = []\n",
    "with open( \"stopwords.txt\", \"r\" ) as fin:\n",
    "    for line in fin.readlines():\n",
    "        custom_stop_words.append( line.strip() )\n",
    "\n",
    "# note that we need to make it hashable\n",
    "print(\"Stopword list has %d entries\" % len(custom_stop_words) )\n",
    "\n",
    "# use a custom stopwords list, set the minimum term-document frequency to 20\n",
    "vectorizer = CountVectorizer(stop_words = custom_stop_words, min_df = 20)\n",
    "A = vectorizer.fit_transform(raw_documents)\n",
    "print( \"Created %d X %d document-term matrix\" % (A.shape[0], A.shape[1]) )"
   ]
  },
  {
   "cell_type": "code",
   "execution_count": 6,
   "metadata": {},
   "outputs": [
    {
     "name": "stdout",
     "output_type": "stream",
     "text": [
      "Vocabulary has 258 distinct terms\n"
     ]
    },
    {
     "data": {
      "text/plain": [
       "['articles-raw.pkl']"
      ]
     },
     "execution_count": 6,
     "metadata": {},
     "output_type": "execute_result"
    }
   ],
   "source": [
    "from sklearn.externals import joblib\n",
    "\n",
    "# We print out the number of features in the vocabulary\n",
    "terms = vectorizer.get_feature_names()\n",
    "print(\"Vocabulary has %d distinct terms\" % len(terms))\n",
    "\n",
    "# Save the vocabulary to a file\n",
    "joblib.dump((A,terms,snippets), \"articles-raw.pkl\") "
   ]
  },
  {
   "cell_type": "code",
   "execution_count": 7,
   "metadata": {},
   "outputs": [
    {
     "name": "stdout",
     "output_type": "stream",
     "text": [
      "Created 4210 X 258 TF-IDF-normalized document-term matrix\n",
      "Vocabulary has 258 distinct terms\n"
     ]
    }
   ],
   "source": [
    "from sklearn.feature_extraction.text import TfidfVectorizer\n",
    "\n",
    "\n",
    "# we can pass in the same preprocessing parameters\n",
    "vectorizer = TfidfVectorizer(stop_words=custom_stop_words, min_df = 20)\n",
    "A = vectorizer.fit_transform(raw_documents)\n",
    "print( \"Created %d X %d TF-IDF-normalized document-term matrix\" % (A.shape[0], A.shape[1]) )\n",
    "\n",
    "# extract the resulting vocabulary\n",
    "terms = vectorizer.get_feature_names()\n",
    "print(\"Vocabulary has %d distinct terms\" % len(terms))"
   ]
  },
  {
   "cell_type": "code",
   "execution_count": 8,
   "metadata": {},
   "outputs": [
    {
     "name": "stdout",
     "output_type": "stream",
     "text": [
      "01. bmw (824.79)\n",
      "02. car (184.95)\n",
      "03. series (159.07)\n",
      "04. drive (110.50)\n",
      "05. get (99.46)\n",
      "06. video (92.66)\n",
      "07. sale (70.54)\n",
      "08. buy (69.01)\n",
      "09. look (63.20)\n",
      "10. amp (55.85)\n",
      "11. take (54.51)\n",
      "12. bmws (54.42)\n",
      "13. competition (54.18)\n",
      "14. mercedes (51.24)\n",
      "15. coupe (50.00)\n",
      "16. driver (49.45)\n",
      "17. see (48.11)\n",
      "18. model (45.39)\n",
      "19. time (44.94)\n",
      "20. engine (43.39)\n"
     ]
    },
    {
     "data": {
      "text/plain": [
       "['articles-tfidf.pkl']"
      ]
     },
     "execution_count": 8,
     "metadata": {},
     "output_type": "execute_result"
    }
   ],
   "source": [
    "import operator\n",
    "def rank_terms( A, terms ):\n",
    "    # get the sums over each column\n",
    "    sums = A.sum(axis=0)\n",
    "    # map weights to the terms\n",
    "    weights = {}\n",
    "    for col, term in enumerate(terms):\n",
    "        weights[term] = sums[0,col]\n",
    "    # rank the terms by their weight over all documents\n",
    "    return sorted(weights.items(), key=operator.itemgetter(1), reverse=True)\n",
    "\n",
    "ranking = rank_terms( A, terms )\n",
    "for i, pair in enumerate( ranking[0:20] ):\n",
    "    print( \"%02d. %s (%.2f)\" % ( i+1, pair[0], pair[1] ) )\n",
    "    \n",
    "# Save these terms for later use    \n",
    "joblib.dump((A,terms,snippets), \"articles-tfidf.pkl\") "
   ]
  },
  {
   "cell_type": "markdown",
   "metadata": {},
   "source": [
    "# Matrix Factorization"
   ]
  },
  {
   "cell_type": "code",
   "execution_count": 30,
   "metadata": {},
   "outputs": [
    {
     "name": "stdout",
     "output_type": "stream",
     "text": [
      "Loaded 4210 X 258 document-term matrix\n"
     ]
    },
    {
     "name": "stderr",
     "output_type": "stream",
     "text": [
      "/home/javier/anaconda3/envs/py35/lib/python3.5/site-packages/sklearn/decomposition/online_lda.py:294: DeprecationWarning: n_topics has been renamed to n_components in version 0.19 and will be removed in 0.21\n",
      "  DeprecationWarning)\n"
     ]
    }
   ],
   "source": [
    "# We load the document term matrix\n",
    "from sklearn import decomposition\n",
    "from sklearn.externals import joblib\n",
    "\n",
    "# Load in the Data\n",
    "(A,terms,snippets) = joblib.load( \"articles-tfidf.pkl\" )\n",
    "print( \"Loaded %d X %d document-term matrix\" % (A.shape[0], A.shape[1]) )\n",
    "\n",
    "# create the model\n",
    "k = 5 # The number of topics to generate\n",
    "#model = decomposition.NMF( init=\"nndsvd\", n_components=k ) \n",
    "model = decomposition.LatentDirichletAllocation(n_topics=k, max_iter=5, learning_method='online', learning_offset=50.,random_state=0)\n",
    "\n",
    "# apply the model and extract the two factor matrices\n",
    "W = model.fit_transform( A )\n",
    "H = model.components_"
   ]
  },
  {
   "cell_type": "code",
   "execution_count": 31,
   "metadata": {},
   "outputs": [
    {
     "name": "stdout",
     "output_type": "stream",
     "text": [
      "(4210, 5)\n",
      "0.785918037317\n",
      "0.0456486811311\n",
      "=========================================================\n",
      "Topic:  1\n",
      "Number of Tweets above the threshold:  1637\n",
      "=========================================================\n",
      "=========================================================\n",
      "Topic:  2\n",
      "Number of Tweets above the threshold:  1838\n",
      "=========================================================\n",
      "=========================================================\n",
      "Topic:  3\n",
      "Number of Tweets above the threshold:  1872\n",
      "=========================================================\n",
      "=========================================================\n",
      "Topic:  4\n",
      "Number of Tweets above the threshold:  1904\n",
      "=========================================================\n",
      "=========================================================\n",
      "Topic:  5\n",
      "Number of Tweets above the threshold:  1603\n",
      "=========================================================\n"
     ]
    },
    {
     "data": {
      "image/png": "[encoded data removed]",
      "text/plain": [
       "<Figure size 432x288 with 1 Axes>"
      ]
     },
     "metadata": {},
     "output_type": "display_data"
    }
   ],
   "source": [
    "# The W[i][j] matrix, i represents the document, and j represents the association with a given topic\n",
    "print(W.shape)\n",
    "\n",
    "topic = 0\n",
    "threshold = 0.1\n",
    "print(max(W[:,topic]))\n",
    "print(min(W[:,topic]))\n",
    "plt.hist(W[:,topic])\n",
    "\n",
    "N_topic_samples = []\n",
    "\n",
    "for topic in range(0,k):\n",
    "    above_threshold = len(W[W[:,topic]>=threshold,topic])\n",
    "    print('=========================================================')\n",
    "    N_topic_samples.append(above_threshold)\n",
    "    print('Topic: ', topic+1)\n",
    "    print( \"Number of Tweets above the threshold: \", above_threshold )\n",
    "    print('=========================================================')\n",
    "\n",
    "# The H[i][j] matrix\n",
    "#print(H.shape)"
   ]
  },
  {
   "cell_type": "code",
   "execution_count": 32,
   "metadata": {},
   "outputs": [
    {
     "name": "stdout",
     "output_type": "stream",
     "text": [
      "Topic 01: bmw, fire, call, engine, car, ebay, back, love, need, win, uk, day\n",
      "Topic 02: bmw, sale, series, mercedes, think, take, price, check, bmwm, mi, group, audi\n",
      "Topic 03: bmw, get, video, drive, coupe, go, model, series, see, add, tesla, service\n",
      "Topic 04: car, bmw, buy, bmws, driver, look, race, review, good, road, best, honda\n",
      "Topic 05: bmw, fit, oem, rear, sa, mile, conveible, right, leave, pa, front, build\n"
     ]
    }
   ],
   "source": [
    "\n",
    "def get_descriptor( terms, H, topic_index, top ):\n",
    "    # reverse sort the values to sort the indices\n",
    "    top_indices = np.argsort( H[topic_index,:] )[::-1]\n",
    "    # now get the terms corresponding to the top-ranked indices\n",
    "    top_terms = []\n",
    "    for term_index in top_indices[0:top]:\n",
    "        top_terms.append( terms[term_index] )\n",
    "    return top_terms\n",
    "\n",
    "\n",
    "descriptors = []\n",
    "for topic_index in range(k):\n",
    "    descriptors.append( get_descriptor( terms, H, topic_index, 12 ) )\n",
    "    str_descriptor = \", \".join( descriptors[topic_index] )\n",
    "    print(\"Topic %02d: %s\" % ( topic_index+1, str_descriptor ) )"
   ]
  },
  {
   "cell_type": "code",
   "execution_count": 34,
   "metadata": {},
   "outputs": [
    {
     "data": {
      "image/png": "[encoded data removed]",
      "text/plain": [
       "<Figure size 936x576 with 1 Axes>"
      ]
     },
     "metadata": {},
     "output_type": "display_data"
    },
    {
     "name": "stdout",
     "output_type": "stream",
     "text": [
      "================================================\n",
      "\n",
      " Topic:  0\n",
      "01.  bmw apologize over engine fire cause by hardware problem source ap seoul south korea ap bmw ag korean un \n",
      "02.  bmw korea offer free car rental for recall vehicle usa vacation travel \n",
      "03.  bmw apologize after engine fire in south korea prompt recall via \n",
      "04.  bmw apologize after engine fire in south korea prompt recall \n",
      "05.  bmw apologize over engine fire cause by hardware problem tampa bay time \n",
      "06.  bmw apologize over engine fire cause by hardware problem seattle time \n",
      "07.  ebay bmw series alvage repairable bmw i sell by state farm insurance car run and lot drive \n",
      "08.  bmw korea offer free car rental for recall vehicle \n",
      "09.  now available very low mileage bmw series i sedan with only k mile have spo pkg too offer at \n",
      "10.  s korea urge bmw owner to stop drive recall vehicle amid fire risk \n",
      "11.  bmw korea apologise over engine fire cause by hardware problem this aicle \n",
      "12.  bmw apologize over engine fire cause by hardware problem kiro seattle \n",
      "13.  bmw apologize over engine fire cause by hardware problem technology \n",
      "14.  bmw apologize over engine fire cause by hardware problem tv \n",
      "15.  headline bmw apologize over engine fire cause by hardware problem \n",
      "16.  bmw apologize over engine fire cause by hardware problem via fox biz \n",
      "17.  bmw apologize over engine fire cause by hardware problem \n",
      "18.  bmw apologize over engine fire cause by hardware problem newpaper \n",
      "19.  bmw offer d m spo saloon auto k mile per year bch or pch ex vat per month other contract term \n",
      "20.  bmw d spo plate k mile automatic diesel month warranty parking sensor sit nav \n",
      "================================================\n",
      "\n"
     ]
    }
   ],
   "source": [
    "# Analysis using textblob\n",
    "from textblob import TextBlob\n",
    "import collections\n",
    "\n",
    "plt.style.use(\"ggplot\")\n",
    "matplotlib.rcParams.update({\"font.size\": 14})\n",
    "\n",
    "topic = 0\n",
    "dN_sentiment = 10 \n",
    "\n",
    "def plot_top_term_weights( terms, H, topic_index, top ):\n",
    "    # get the top terms and their weights\n",
    "    top_indices = np.argsort( H[topic_index,:] )[::-1]\n",
    "    top_terms = []\n",
    "    top_weights = []\n",
    "    for term_index in top_indices[0:top]:\n",
    "        top_terms.append( terms[term_index] )\n",
    "        top_weights.append( H[topic_index,term_index] )\n",
    "    # note we reverse the ordering for the plot\n",
    "    top_terms.reverse()\n",
    "    top_weights.reverse()\n",
    "    # create the plot\n",
    "    fig = plt.figure(figsize=(13,8))\n",
    "    # add the horizontal bar chart\n",
    "    ypos = np.arange(top)\n",
    "    ax = plt.barh(ypos, top_weights, align=\"center\", color=\"green\",tick_label=top_terms)\n",
    "    plt.xlabel(\"Term Weight\",fontsize=14)\n",
    "    plt.tight_layout()\n",
    "    plt.show()\n",
    "    \n",
    "    \n",
    "plot_top_term_weights( terms, H, topic, 10 )    \n",
    "\n",
    "\n",
    "# Let us look now at the most relevant posts for each topic\n",
    "\n",
    "def get_top_snippets( all_snippets, W, topic_index, top ):\n",
    "    \n",
    "    # reverse sort the values to sort the indices\n",
    "    top_indices = np.argsort( W[:,topic_index] )[::-1]\n",
    "    \n",
    "    # now get the snippets corresponding to the top-ranked indices\n",
    "    top_snippets = []\n",
    "    for doc_index in top_indices[0:top]:\n",
    "        top_snippets.append( all_snippets[doc_index] )\n",
    "    return top_snippets\n",
    "\n",
    "topic_snippets = get_top_snippets( snippets, W, topic, 20 )\n",
    "\n",
    "print('================================================')\n",
    "print('\\n Topic: ', topic)\n",
    "for i, snippet in enumerate(topic_snippets):\n",
    "    print(\"%02d. %s \" % ( (i+1), snippet) )\n",
    "print('================================================\\n')    \n",
    "\n"
   ]
  },
  {
   "cell_type": "code",
   "execution_count": 35,
   "metadata": {},
   "outputs": [],
   "source": [
    "def calculate(topic):\n",
    "    \n",
    "    for N_sentiment in range(5,N_topic_samples[topic]+1,dN_sentiment):\n",
    "        sentiment_polarity_data= []\n",
    "        sentiment_subjectivity_data= []\n",
    "    \n",
    "    # Get the top N_sentiment snippets  \n",
    "    topic_snippets = get_top_snippets( snippets, W, topic, N_sentiment )\n",
    "    \n",
    "    # Calculate the sentiment of the top N_sentiment \n",
    "    for i, snippet in enumerate(topic_snippets):\n",
    "        snippet_polarity_score =  TextBlob(snippet).sentiment.polarity # Polarity, [1]= subjectivity\n",
    "        snippet_subjectivity_score = TextBlob(snippet).sentiment.subjectivity\n",
    "        \n",
    "        if(snippet_polarity_score>=0.5):\n",
    "            sentiment_polarity_data.append(1.0)\n",
    "        elif(snippet_polarity_score<=-0.5):\n",
    "            sentiment_polarity_data.append(-1.0)\n",
    "        else:\n",
    "            sentiment_polarity_data.append(0.0)\n",
    "            \n",
    "    sentiment_polarity_data = np.asarray(sentiment_polarity_data)\n",
    "    sentiment_subjectivity_data = np.asarray(sentiment_subjectivity_data)\n",
    "    \n",
    "    # Collect all results \n",
    "    pos = collections.Counter(sentiment_polarity_data)[1]/len(sentiment_polarity_data)*100.0\n",
    "    neg = collections.Counter(sentiment_polarity_data)[-1]/len(sentiment_polarity_data)*100.0\n",
    "    neut =  collections.Counter(sentiment_polarity_data)[0]/len(sentiment_polarity_data)*100.0\n",
    "    N.append(N_sentiment)\n",
    "    \n",
    "    percent_negative.append(neg)\n",
    "    percent_positive.append(pos)\n",
    "    percent_neutral.append(neut)\n",
    "    \n",
    "    return N,percent_negative, percent_positive, percent_neutral"
   ]
  },
  {
   "cell_type": "code",
   "execution_count": 36,
   "metadata": {},
   "outputs": [
    {
     "data": {
      "text/plain": [
       "<Figure size 432x288 with 0 Axes>"
      ]
     },
     "metadata": {},
     "output_type": "display_data"
    },
    {
     "data": {
      "image/png": "[encoded data removed]",
      "text/plain": [
       "<Figure size 936x720 with 1 Axes>"
      ]
     },
     "metadata": {},
     "output_type": "display_data"
    }
   ],
   "source": [
    "# Calculate the sentiments for all topics\n",
    "\n",
    "topic_pos = np.zeros(k)\n",
    "topic_neg = np.zeros(k)\n",
    "topic_neutral = np.zeros(k)\n",
    "topic_N = np.zeros(k)\n",
    "\n",
    "for topic in range(k):\n",
    "    N,percent_negative, percent_positive, percent_neutral = calculate(topic)\n",
    "    topic_pos[topic] =  percent_positive[-1]\n",
    "    topic_neg[topic] =  percent_negative[-1]\n",
    "    topic_neutral[topic] = percent_neutral[-1]\n",
    "    topic_N[-1] = N[-1]\n",
    "\n",
    "width=0.35\n",
    "x_axis_num = range(0,k)\n",
    "x_axis_label = [str(i+1) for i in x_axis_num]\n",
    "    \n",
    "plt.clf()\n",
    "plt.figure(figsize=(13,10))\n",
    "plt.xticks(x_axis_num, x_axis_label)\n",
    "plt.bar(x_axis_num, topic_pos, width,label=\"Positive Sentiment\")\n",
    "plt.bar(x_axis_num, topic_neg, width, label=\"Negative Sentiment\")\n",
    "plt.legend()\n",
    "plt.show()"
   ]
  },
  {
   "cell_type": "code",
   "execution_count": null,
   "metadata": {},
   "outputs": [],
   "source": []
  },
  {
   "cell_type": "code",
   "execution_count": null,
   "metadata": {},
   "outputs": [],
   "source": []
  }
 ],
 "metadata": {
  "kernelspec": {
   "display_name": "Python [conda env:py35]",
   "language": "python",
   "name": "conda-env-py35-py"
  },
  "language_info": {
   "codemirror_mode": {
    "name": "ipython",
    "version": 3
   },
   "file_extension": ".py",
   "mimetype": "text/x-python",
   "name": "python",
   "nbconvert_exporter": "python",
   "pygments_lexer": "ipython3",
   "version": "3.5.5"
  }
 },
 "nbformat": 4,
 "nbformat_minor": 2
}
