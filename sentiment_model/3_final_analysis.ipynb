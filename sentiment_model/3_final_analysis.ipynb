{
 "cells": [
  {
   "cell_type": "markdown",
   "metadata": {},
   "source": [
    "# This notebook produces the sentiment bar charts \n",
    "\n",
    "\n",
    "This notebook will perform the following steps:\n",
    "\n",
    "1. Read in and process tweets\n",
    "2. convert tweets into feature vectors\n",
    "3. Converted tweets are fed into classifiers which then compute the sentiment of the tweets with probabilities\n",
    "4. A threshold is selected, and tweets with a confidence below this threshold are classified as Neutral. Above this threshold, the sentiments are classified into positive or negative tweets.\n",
    "5. All tweets are processed and the final graphs are generated\n"
   ]
  },
  {
   "cell_type": "code",
   "execution_count": 1,
   "metadata": {},
   "outputs": [
    {
     "name": "stdout",
     "output_type": "stream",
     "text": [
      "[nltk_data] Downloading package wordnet to /home/javier/nltk_data...\n",
      "[nltk_data]   Package wordnet is already up-to-date!\n",
      "[nltk_data] Downloading package stopwords to /home/javier/nltk_data...\n",
      "[nltk_data]   Package stopwords is already up-to-date!\n",
      "[nltk_data] Downloading package punkt to /home/javier/nltk_data...\n",
      "[nltk_data]   Package punkt is already up-to-date!\n"
     ]
    }
   ],
   "source": [
    "import warnings\n",
    "import numpy as np\n",
    "\n",
    "warnings.filterwarnings('ignore')\n",
    "\n",
    "import os.path\n",
    "import sqlite3\n",
    "import pandas as pd\n",
    "%matplotlib inline\n",
    "import numpy as np\n",
    "import matplotlib\n",
    "import matplotlib.pyplot as plt\n",
    "from process_text import clean_up_text\n",
    "from process_text import preprocess\n",
    "from process_text import string_cohesion\n",
    "from sklearn.feature_extraction.text import TfidfVectorizer\n",
    "\n",
    "car_company = \"Porche\"\n",
    "\n",
    "conn = sqlite3.connect('keyword_based_database.db')\n",
    "\n",
    "q_ford='''\n",
    "SELECT * FROM tweet\n",
    "WHERE LOWER(tweet_text) LIKE '%ford%'\n",
    "AND LOWER(tweet_text) NOT LIKE '%harrison%'  \n",
    "AND LOWER(tweet_text) NOT LIKE '%doug%'\n",
    "AND LOWER(tweet_text) NOT LIKE '%tom%'\n",
    "AND LOWER(tweet_text) NOT LIKE '%henry%'\n",
    "AND LOWER(tweet_text) NOT LIKE '%government%'\n",
    "AND LOWER(tweet_text) NOT LIKE '%goverment%'\n",
    "AND LOWER(tweet_text) NOT LIKE '%tax%'\n",
    "AND LOWER(tweet_text) NOT LIKE '%toronto%'\n",
    "AND LOWER(tweet_text) NOT LIKE '%democrats%'\n",
    "AND LOWER(tweet_text) NOT LIKE '%ontario%'\n",
    "AND LOWER(tweet_text) NOT LIKE '%fordnation%'\n",
    "AND LOWER(tweet_text) NOT LIKE '%premier%'\n",
    "AND LOWER(tweet_text) NOT LIKE '%melissa%'\n",
    "'''\n",
    "\n",
    "q_toyota='''\n",
    "SELECT * FROM tweet\n",
    "WHERE LOWER(tweet_text) LIKE '%toyota%'  \n",
    "'''\n",
    "\n",
    "\n",
    "q_mercedes='''\n",
    "SELECT * FROM tweet\n",
    "WHERE LOWER(tweet_text) LIKE '%mercedes%'\n",
    "'''\n",
    "\n",
    "q_bmw='''\n",
    "SELECT * FROM tweet\n",
    "WHERE LOWER(tweet_text) LIKE '%bmw%'  \n",
    "AND LOWER(tweet_text) NOT LIKE '%police%'\n",
    "LIMIT 10000;\n",
    "'''\n",
    "\n",
    "q_porche='''\n",
    "SELECT * FROM tweet\n",
    "WHERE LOWER(tweet_text) LIKE '%porsche%'\n",
    "AND LOWER(tweet_text) NOT LIKE '%davido%'\n",
    "AND LOWER(tweet_text) NOT LIKE '%nuamah%'\n",
    "AND LOWER(tweet_text) NOT LIKE '%actor%'\n",
    "AND LOWER(tweet_text) NOT LIKE '%police%'\n",
    "'''\n",
    "\n",
    "q_tesla='''\n",
    "SELECT * FROM tweet\n",
    "WHERE LOWER(tweet_text) LIKE '%tesla%'\n",
    "AND LOWER(tweet_text) LIKE '%model%'\n",
    "AND LOWER(tweet_text) NOT LIKE '%elon%'\n",
    "AND LOWER(tweet_text) NOT LIKE '%musk%'\n",
    "AND LOWER(tweet_text) NOT LIKE '%solar roof%'\n",
    "AND LOWER(tweet_text) NOT LIKE '%stock%'\n",
    "AND LOWER(tweet_text) NOT LIKE '%production rate%'\n",
    "AND LOWER(tweet_text) NOT LIKE '%money model%'\n",
    "AND LOWER(tweet_text) NOT LIKE '%industry%'\n",
    "AND LOWER(tweet_text) NOT LIKE '%net loss%'\n",
    "AND LOWER(tweet_text) NOT LIKE '%loss%'\n",
    "AND LOWER(tweet_text) NOT LIKE '%profit%'\n",
    "AND LOWER(tweet_text) NOT LIKE '%atari%'\n",
    "AND LOWER(tweet_text) NOT LIKE '%financial%'\n",
    "AND LOWER(tweet_text) NOT LIKE '%earn%'\n",
    "AND LOWER(tweet_text) NOT LIKE '%quarterly%'\n",
    "AND LOWER(tweet_text) NOT LIKE '%record%'\n",
    "AND LOWER(tweet_text) NOT LIKE '%market%'\n",
    "AND LOWER(tweet_text) NOT LIKE '%outsell%'\n",
    "AND LOWER(tweet_text) NOT LIKE '%produce%'\n",
    "AND LOWER(tweet_text) NOT LIKE 'second-quarter'\n",
    "AND LOWER(tweet_text) NOT LIKE 'invest'\n",
    "'''\n",
    "\n",
    "if(car_company==\"Toyota\"):\n",
    "    q = q_toyota\n",
    "elif(car_company==\"Ford\"):\n",
    "    q= q_ford\n",
    "elif(car_company==\"Mercedes\"):\n",
    "    q=q_mercedes\n",
    "elif(car_company==\"BMW\"):\n",
    "    q=q_bmw\n",
    "elif(car_company==\"Porche\"):\n",
    "    q=q_porche\n",
    "elif(car_company==\"Tesla\"):\n",
    "    q=q_tesla\n",
    "\n",
    "\n",
    "df = pd.read_sql_query(q,conn)"
   ]
  },
  {
   "cell_type": "markdown",
   "metadata": {},
   "source": [
    "# Some simple data exploration on the filtered tweets, histograms of the tweet lengths"
   ]
  },
  {
   "cell_type": "code",
   "execution_count": 2,
   "metadata": {},
   "outputs": [
    {
     "name": "stdout",
     "output_type": "stream",
     "text": [
      "---------------------------------------------------------\n",
      "Column names: \n",
      " ['tweet_id_text', 'tweet_hashtag', 'tweet_text', 'created_at', 'geo_lat', 'geo_long', 'user_id_text'] \n",
      "\n",
      "The number of tweets:  19257 \n",
      "\n",
      "---------------------------------------------------------\n",
      "Sample Tweets: \n",
      "\n",
      "0     RT @ABC: Lamborghini, Porsche and Mercedes Ben...\n",
      "1     RT @Automotive_News: .@VW Group U.S. sales in ...\n",
      "2     RT @erveza: Lamborghini, Porsche and Mercedes ...\n",
      "3     RT @PorscheSauce: Nightlife ........\\n\\n#porsc...\n",
      "4     My doctor literally has a canopy set up in his...\n",
      "5     RT @PorscheRetail: The 'Hippie' 986 Boxster ta...\n",
      "6     2019 Porsche 911 Caught Uncovered And Looking ...\n",
      "7     RT @PorscheRetail: The 'Hippie' 986 Boxster ta...\n",
      "8     RT @EpicDubs: 😍 those custom Cookie Cutters \\n...\n",
      "9     Hotness. New 2017 Porsche 718 Cayman S #porsch...\n",
      "10    @ernie.garcia1 | Athens\\n\\n#xoluxury #xoluxury...\n",
      "11    RT @PorscheSauce: Those lines.....\\n\\nPorsche ...\n",
      "12    eBay: Boxster -- 1998 Porsche Boxster 31822 Mi...\n",
      "13    RT @__BIGTIM__: @FlowsAndolini Was the ghost o...\n",
      "14    RT @MikeWayland: This slide from Matthias Erb,...\n",
      "15    @MikeWayland @VWGroup @Porsche @Lamborghini In...\n",
      "16    Apple's market share is bigger than BMW's or M...\n",
      "17    Porsche Speed Boat 💨 millionaire.surroundings ...\n",
      "18    We have brake pads suitable for any carbon-cer...\n",
      "19    RT @JZMPorsche: We’ll be heading over to “Clas...\n",
      "20    RT @autocar: Here’s our very first look at the...\n",
      "21    RT @PorscheCarsNews: 2020 Porsche 911 spied un...\n",
      "22    #RT @ecoastcarbuyer: 2020 Porsche 911 spied un...\n",
      "23    RT @__BIGTIM__: @_Myleshigh @FlowsAndolini BY ...\n",
      "24    Are these next to become inflated in price? 💸\\...\n",
      "25    Blue on Black. https://t.co/wXAStVbSx0 406-209...\n",
      "26    Porsche 911: Used Car Pre-Purchase Inspection ...\n",
      "27    RT @dicklovett: Quite the line-up outside Pors...\n",
      "28    We offer full Valeting services on all #Porsch...\n",
      "29    RT @PorscheCarsNews: Porsche Taycan specs conf...\n",
      "                            ...                        \n",
      "70    I raced a Porsche and won.  Sipped my iced cof...\n",
      "71    RT @CARmagazine: Snapped! New Porsche 911 (992...\n",
      "72    RT @dempseyspain: ‼(Capturas) Porsche Tribute ...\n",
      "73    @marcorubio Wow like $ 6.00 week for lots peop...\n",
      "74    RT @dempseyspain: 🎥 Porsche Tribute\\n@PatrickD...\n",
      "75    Sold: 45 Years-Owned 1973 Porsche 911E Coupe f...\n",
      "76    I haven't seen stanced @porsche done well in a...\n",
      "77    I’m on another wave cut the head off the Porsc...\n",
      "78    RT @BillionaireZing: Guess it’s real 0-60 Mph ...\n",
      "79           Rainy day #Porsche https://t.co/O77BzKun1R\n",
      "80    I liked a @YouTube video https://t.co/T2ek8UpN...\n",
      "81    I liked a @YouTube video https://t.co/vjo3wIBn...\n",
      "82    RT @Tato1979: Maserati is all about beauty and...\n",
      "83    2015 Porsche 918 Reviews and Rating Motor Tren...\n",
      "84    Put a name of a car in front of your favorite ...\n",
      "85    I can't not fucking believe ruben buying anoth...\n",
      "86    RT @MikeWayland: This slide from Matthias Erb,...\n",
      "87    #Super #VIP #Porsche #GT3RS on #BBS #E88 9.5//...\n",
      "88    RT @NeedforSpeed: Go pick up this Silver Six P...\n",
      "89           Classic V8 Porsche https://t.co/M6QcArb7Xi\n",
      "90    eBay: Eterna Porsche Design Chronograph Stainl...\n",
      "91    eBay: Boxster -- 2017 Porsche 718 Boxster 1735...\n",
      "92    February 22nd 1990 | Eastenders. A fresh faced...\n",
      "93          Who do we know that drives a white Porsche?\n",
      "94    RT @Crhedrys: Put a name of a car in front of ...\n",
      "95    #porsche news from @Autoblog- 2020 Porsche 911...\n",
      "96    Designed by Benjamin Dimson and introduced at ...\n",
      "97    RT @PorscheSauce: Those lines.....\\n\\nPorsche ...\n",
      "98    PORSCHE Panamera Front Bumper Grille Grill-Out...\n",
      "99    Porsche 911 turbo S \\nfollow @inst_bestcar \\np...\n",
      "Name: tweet_text, Length: 100, dtype: object\n"
     ]
    },
    {
     "data": {
      "image/png": "[encoded data removed]",
      "text/plain": [
       "<Figure size 432x288 with 1 Axes>"
      ]
     },
     "metadata": {},
     "output_type": "display_data"
    }
   ],
   "source": [
    "# Some simple Data exploration\n",
    "\n",
    "N_raw_tweets = len(df)\n",
    "\n",
    "print('---------------------------------------------------------')\n",
    "print('Column names: \\n', list(df.columns.values),\"\\n\")\n",
    "print('The number of tweets: ', N_raw_tweets,'\\n')\n",
    "print('---------------------------------------------------------')\n",
    "\n",
    "# Show the First ten items in the tweet database\n",
    "print(\"Sample Tweets: \\n\")\n",
    "print(df['tweet_text'][0:100])\n",
    "\n",
    "\n",
    "\n",
    "# A small data frame to plot the length of the tweets and plot a histogram\n",
    "df_len= df['tweet_text'].apply(len)\n",
    "plt.hist(df_len,bins=20,density=True)\n",
    "plt.ylabel('Frequency',size=15)\n",
    "plt.xlabel('Tweet Length',size=15)\n",
    "plt.savefig('tweet_length_histogram_raw.pdf',bboxes='tight')\n",
    "plt.show()"
   ]
  },
  {
   "cell_type": "markdown",
   "metadata": {},
   "source": [
    "# Having loaded in the tweets we now process each tweet text and generate a histogram of the length of the processed tweets"
   ]
  },
  {
   "cell_type": "code",
   "execution_count": 3,
   "metadata": {},
   "outputs": [
    {
     "name": "stdout",
     "output_type": "stream",
     "text": [
      "\n",
      "\n",
      "=============================================================\n",
      "The number of tweets after removing duplicates:  7514 \n",
      "\n",
      "Fraction removed:  0.61\n",
      "=============================================================\n"
     ]
    },
    {
     "data": {
      "image/png": "[encoded data removed]",
      "text/plain": [
       "<Figure size 432x288 with 1 Axes>"
      ]
     },
     "metadata": {},
     "output_type": "display_data"
    }
   ],
   "source": [
    "# Apply the 'Clean-up-text function to all tweets in the data frame'\n",
    "df['tweet_text'] = df['tweet_text'].apply(clean_up_text)\n",
    "\n",
    "\n",
    "# Remove duplicate tweets and reset the index\n",
    "df.drop_duplicates(subset='tweet_text', keep='first', inplace=True)\n",
    "df=df.reset_index(drop=True)\n",
    "\n",
    "N_processed_tweets = len(df)\n",
    "\n",
    "print('\\n')\n",
    "print('=============================================================')\n",
    "print('The number of tweets after removing duplicates: ', N_processed_tweets ,'\\n')\n",
    "print('Fraction removed: ', round(1.0-(N_processed_tweets/float(N_raw_tweets)),3) )\n",
    "print('=============================================================')\n",
    "\n",
    "# A small data frame to plot the length of the tweets\n",
    "df_len= df['tweet_text'].apply(len)\n",
    "plt.hist(df_len,bins=20,density=True)\n",
    "plt.ylabel('Frequency',size=15)\n",
    "plt.xlabel('Tweet Length',size=15)\n",
    "plt.savefig('tweet_length_histogram_processed.pdf',bboxes='tight')\n",
    "plt.show()"
   ]
  },
  {
   "cell_type": "code",
   "execution_count": 4,
   "metadata": {},
   "outputs": [
    {
     "name": "stdout",
     "output_type": "stream",
     "text": [
      "Loaded 3500 X 2443 document-term matrix\n",
      "number of terms:  2443\n",
      "Dictionary:  8750\n",
      "A:  (8750, 2443)\n"
     ]
    }
   ],
   "source": [
    "import warnings\n",
    "warnings.filterwarnings('ignore')\n",
    "\n",
    "from process_text import clean_up_text\n",
    "from process_text import string_cohesion\n",
    "from textblob import TextBlob\n",
    "import spacy\n",
    "import pickle\n",
    "from sklearn.externals import joblib\n",
    "from sklearn.feature_extraction.text import TfidfVectorizer\n",
    "\n",
    "#--------------------------------------------------------------\n",
    "# Import the custom stop words\n",
    "custom_stop_words = []\n",
    "with open( \"stopwords.txt\", \"r\" ) as fin:\n",
    "    for line in fin.readlines():\n",
    "        custom_stop_words.append( line.strip() )\n",
    "#--------------------------------------------------------------\n",
    "\n",
    "\n",
    "#--------------------------------------------------------------\n",
    "# Import the vocabulary and generate the vectorizer tranformer\n",
    "#--------------------------------------------------------------\n",
    "(A,terms,dict_sample) = joblib.load( \"/home/javier/Documents/sentiment_analysis/sentiment_model/articles-raw.pkl\" )\n",
    "print( \"Loaded %d X %d document-term matrix\" % (A.shape[0], A.shape[1]) )\n",
    "print('number of terms: ',len(terms))#print(dic_sample[0:10])\n",
    "print('Dictionary: ',len(dict_sample))\n",
    "\n",
    "vectorizer = TfidfVectorizer(stop_words = custom_stop_words,min_df = 20)\n",
    "A = vectorizer.fit_transform(dict_sample)\n",
    "print('A: ', A.shape)\n",
    "#--------------------------------------------------------------\n",
    "\n",
    "\n",
    "#--------------------------------------------------------------\n",
    "# We load the trained models\n",
    "#--------------------------------------------------------------\n",
    "# The names of the files containing the weights of the model\n",
    "filename1 = 'lr_sentiment_model.sav'\n",
    "filename2 = 'nb_sentiment_model.sav'\n",
    "\n",
    "# Now we load in the trained models\n",
    "loaded_lr = pickle.load(open(filename1, 'rb'))\n",
    "loaded_nb = pickle.load(open(filename2, 'rb'))"
   ]
  },
  {
   "cell_type": "code",
   "execution_count": 5,
   "metadata": {},
   "outputs": [],
   "source": [
    "# Here we will define the final sentiment model\n",
    "\n",
    "\n",
    "def sentiment_model(text,threshold):\n",
    "    \n",
    "    s = str(clean_up_text(text))\n",
    "    \n",
    "    X0 = vectorizer.transform([s])\n",
    "    \n",
    "    preds_nb = loaded_nb.predict(X0)\n",
    "    preds_lr = loaded_lr.predict(X0)\n",
    "    preds_blob =  TextBlob(text).sentiment.polarity\n",
    "    \n",
    "    if(preds_blob>=0.0):\n",
    "        preds_blob = +1\n",
    "    else:\n",
    "        preds_blob = -1\n",
    "        \n",
    "    indx_nb= int((preds_nb[0]+1)/2)\n",
    "    indx_lr= int((preds_lr[0]+1)/2)\n",
    "    prob_nb = abs((loaded_nb.predict_proba(X0)[0][indx_nb]-.50)*2.0*int(preds_nb[0]))\n",
    "    prob_lr = abs((loaded_lr.predict_proba(X0)[0][indx_lr]-0.50)*2.0*int(preds_lr[0]))\n",
    "    prob_blob = abs(TextBlob(sample_text).sentiment.polarity) # [-1,1]\n",
    "    \n",
    "    \n",
    "    if(prob_lr<threshold):\n",
    "        preds_lr=[0.0]\n",
    "        \n",
    "    if(prob_nb<threshold):\n",
    "        preds_nb=[0.0]\n",
    "        \n",
    "    if(prob_blob<threshold):\n",
    "        preds_blob =0.0\n",
    "        \n",
    "        \n",
    "    # choose the most likely model\n",
    "    predictions = [preds_nb[0],preds_lr[0],preds_blob]\n",
    "    predict_prob = [prob_nb,prob_lr,prob_blob]\n",
    "    \n",
    "    pred = predictions[np.argmax(predict_prob)]\n",
    "    prob = np.max(predict_prob)\n",
    "    \n",
    "    \n",
    "    return pred,prob"
   ]
  },
  {
   "cell_type": "code",
   "execution_count": 6,
   "metadata": {},
   "outputs": [
    {
     "name": "stderr",
     "output_type": "stream",
     "text": [
      "100%|██████████| 4/4 [03:00<00:00, 45.05s/it]\n"
     ]
    },
    {
     "data": {
      "image/png": "[encoded data removed]",
      "text/plain": [
       "<Figure size 432x288 with 1 Axes>"
      ]
     },
     "metadata": {},
     "output_type": "display_data"
    }
   ],
   "source": [
    "import collections\n",
    "from tqdm import tqdm\n",
    "\n",
    "thresholds = [0.1,0.2,0.3,0.4]\n",
    "sentiment_pred = []\n",
    "sentiment_prob = []\n",
    "ratio = []\n",
    "\n",
    "for threshold in tqdm(thresholds):\n",
    "    \n",
    "    sentiment_pred = []\n",
    "    sentiment_prob = []\n",
    "    \n",
    "    for k in range(0,len(df)):\n",
    "        sample_text = df['tweet_text'][k]\n",
    "        pred,prob = sentiment_model(sample_text,threshold)\n",
    "        sentiment_pred.append(pred)\n",
    "        sentiment_prob.append(prob)\n",
    "        \n",
    "    m_count= collections.Counter(sentiment_pred)\n",
    "    ratio.append(m_count[-1]/m_count[1])\n",
    "    \n",
    "plt.plot(thresholds,ratio,\"-o\")\n",
    "plt.show()"
   ]
  },
  {
   "cell_type": "code",
   "execution_count": 7,
   "metadata": {},
   "outputs": [
    {
     "data": {
      "image/png": "[encoded data removed]",
      "text/plain": [
       "<Figure size 432x288 with 1 Axes>"
      ]
     },
     "metadata": {},
     "output_type": "display_data"
    },
    {
     "data": {
      "image/png": "[encoded data removed]",
      "text/plain": [
       "<Figure size 432x288 with 1 Axes>"
      ]
     },
     "metadata": {},
     "output_type": "display_data"
    }
   ],
   "source": [
    "threshold = 0.2\n",
    "\n",
    "\n",
    "sentiment_pred = []\n",
    "sentiment_prob = []\n",
    "    \n",
    "for k in range(0,len(df)):\n",
    "    sample_text = df['tweet_text'][k]\n",
    "    pred,prob = sentiment_model(sample_text,threshold)\n",
    "    sentiment_pred.append(pred)\n",
    "    sentiment_prob.append(prob)\n",
    "\n",
    "plt.hist(sentiment_pred)\n",
    "plt.xlabel(\"Sentiments\",size=15)\n",
    "plt.show()\n",
    "\n",
    "\n",
    "plt.hist(sentiment_prob,bins=25)\n",
    "plt.xlabel(\"Sentiment Probability\",size=15)\n",
    "plt.show()"
   ]
  },
  {
   "cell_type": "markdown",
   "metadata": {},
   "source": [
    "# Having selected the appropriate threshold for neutral comments, we compute the total number of positive and negative tweets"
   ]
  },
  {
   "cell_type": "code",
   "execution_count": 8,
   "metadata": {},
   "outputs": [
    {
     "name": "stdout",
     "output_type": "stream",
     "text": [
      "Total Sample:  7514\n",
      "Neg/Pos ratio:  0.823574144486692\n"
     ]
    },
    {
     "data": {
      "image/png": "[encoded data removed]",
      "text/plain": [
       "<Figure size 720x648 with 1 Axes>"
      ]
     },
     "metadata": {},
     "output_type": "display_data"
    }
   ],
   "source": [
    "import matplotlib.pyplot as plt\n",
    "import collections, numpy\n",
    "\n",
    "matplotlib.rcParams['figure.figsize'] = 10, 9\n",
    "matplotlib.rcParams['font.size'] = 15\n",
    "\n",
    "# Count the various sentiments\n",
    "m_count= collections.Counter(sentiment_pred)\n",
    "\n",
    "size_model=[m_count[0],m_count[1],m_count[-1]]\n",
    "\n",
    "# Compute the total numbers\n",
    "total_number = np.sum(size_model)\n",
    "\n",
    "# Compute the Percentages\n",
    "percents = (np.asarray([m_count[0],m_count[1],m_count[-1]])/total_number)*100.0\n",
    "\n",
    "print(\"Total Sample: \",total_number)\n",
    "print(\"Neg/Pos ratio: \", m_count[-1]/m_count[1])\n",
    " \n",
    "# Create a circle for the center of the plot\n",
    "my_circle=plt.Circle( (0,0), 0.6, color='white')\n",
    "\n",
    "\n",
    "# create data\n",
    "names='Neutral: '+str(int(percents[0]))+\"%\",'Positive: '+str(int(percents[1]))+\"%\", 'Negative: '+str(int(percents[2]))+\"%\"\n",
    "\n",
    "# Give color names\n",
    "plt.title(car_company,size=30)\n",
    "plt.pie(size_model, labels=names, colors=['lightgrey','green','red'])\n",
    "p=plt.gcf()\n",
    "p.gca().add_artist(my_circle)\n",
    "plt.savefig(car_company+\"_N_\"+str(total_number)+\".pdf\",bboxes=\"tight\")\n",
    "plt.show()"
   ]
  },
  {
   "cell_type": "code",
   "execution_count": null,
   "metadata": {},
   "outputs": [],
   "source": []
  }
 ],
 "metadata": {
  "kernelspec": {
   "display_name": "Python [conda env:py35]",
   "language": "python",
   "name": "conda-env-py35-py"
  },
  "language_info": {
   "codemirror_mode": {
    "name": "ipython",
    "version": 3
   },
   "file_extension": ".py",
   "mimetype": "text/x-python",
   "name": "python",
   "nbconvert_exporter": "python",
   "pygments_lexer": "ipython3",
   "version": "3.5.5"
  }
 },
 "nbformat": 4,
 "nbformat_minor": 2
}
