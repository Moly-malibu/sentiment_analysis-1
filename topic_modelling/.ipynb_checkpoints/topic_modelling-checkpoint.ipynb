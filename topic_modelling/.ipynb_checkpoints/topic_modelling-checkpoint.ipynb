{
 "cells": [
  {
   "cell_type": "markdown",
   "metadata": {},
   "source": [
    "# Topic Modelling\n",
    "\n",
    "This Notebook does some data exploration on the SQL database containing twitter data. The goal is to use topic modelling methods to look for common patterns and topics in the data.\n",
    "\n",
    "\n",
    "### References\n",
    "https://github.com/derekgreene/topic-model-tutorial"
   ]
  },
  {
   "cell_type": "code",
   "execution_count": 1,
   "metadata": {},
   "outputs": [],
   "source": [
    "# Let us import some of the twitter data into a padas notebook\n",
    "\n",
    "import sqlite3\n",
    "import pandas as pd\n",
    "%matplotlib inline\n",
    "import numpy as np\n",
    "import matplotlib\n",
    "import matplotlib.pyplot as plt\n",
    "\n",
    "#conn = sqlite3.connect('location_based_database.db')\n",
    "conn = sqlite3.connect('keyword_based_database.db')\n",
    "#c = conn.cursor()\n",
    "#c.execute('''SELECT * FROM tweet;''')\n",
    "\n",
    "# Read into a Pandas Data Frame\n",
    "#df = pd.read_sql_query(\"SELECT * FROM tweet where tweet_text like '%Ford%' LIMIT 10000;\",conn)\n",
    "df = pd.read_sql_query(\"SELECT * FROM tweet LIMIT 10000;\",conn)"
   ]
  },
  {
   "cell_type": "code",
   "execution_count": 2,
   "metadata": {},
   "outputs": [
    {
     "name": "stdout",
     "output_type": "stream",
     "text": [
      "Column Names:  ['tweet_id_text', 'tweet_hashtag', 'tweet_text', 'created_at', 'geo_lat', 'geo_long', 'user_id_text'] \n",
      "\n",
      "The size of the table:  10000 \n",
      "\n",
      "0    RT @loisaltermark: Munich is an amazing city f...\n",
      "1    RT @UTSLeasing: Mercedes CLA Class Coupe 180 A...\n",
      "2    Looking for Luxury Car Rental Services in #Mil...\n",
      "3    RT @UTSLeasing: Mercedes CLA Class Coupe 180 A...\n",
      "4    You could win a brand new audi A3 Sportback fo...\n",
      "5    RT @Eddystone506: Why does every Leaver know m...\n",
      "6    RT @BennyMabale: @nascar_lens I still think th...\n",
      "7    RT @dimaagkoshot: Struggles as a star kid:\\n1....\n",
      "8    Looks like @Audi already activated the #massho...\n",
      "9    First ABT R8 in the Netherlands 😍 This spec is...\n",
      "Name: tweet_text, dtype: object\n"
     ]
    }
   ],
   "source": [
    "# Some simple Data exploration\n",
    "\n",
    "print('Column Names: ', list(df.columns.values),\"\\n\")\n",
    "\n",
    "print('The size of the table: ', len(df),'\\n')\n",
    "\n",
    "# Show the First ten items in the database\n",
    "print(df['tweet_text'][0:10])\n",
    "\n",
    "\n",
    "# Let us make a histogram of the "
   ]
  },
  {
   "cell_type": "code",
   "execution_count": 3,
   "metadata": {},
   "outputs": [
    {
     "name": "stdout",
     "output_type": "stream",
     "text": [
      "Example:  RT @BennyMabale: @nascar_lens I still think the BMW 325IS is the coolest car on earth @E30fever @nascar_lens @Post_Bmw @BMWmistress @BMW @B… \n",
      "\n",
      "Cleaned up:  lens i still think the bmw be be the cool car on eah lens bmw\n",
      "The size of the table:  10000 \n",
      "\n",
      "The size of the table:  6454 \n",
      "\n"
     ]
    }
   ],
   "source": [
    "# Sources: https://rustyonrampage.github.io/text-mining/2017/11/23/stemming-and-lemmatization-with-python-and-nltk.html\n",
    "\n",
    "\n",
    "# Here we need to write a function that will clean up the tweet text:\n",
    "# 1. Remove urls\n",
    "# 2. Remove punctuation\n",
    "# 3. \n",
    "import nltk\n",
    "from textblob import TextBlob\n",
    "from tqdm import tqdm\n",
    "from collections import Counter \n",
    "from nltk.stem import PorterStemmer\n",
    "from nltk.stem import WordNetLemmatizer\n",
    "from nltk.corpus import wordnet\n",
    "from nltk.tokenize import sent_tokenize, word_tokenize\n",
    "import re\n",
    "\n",
    "# Only needed once\n",
    "#nltk.download('punkt')\n",
    "#nltk.download('wordnet')\n",
    "\n",
    "ps = PorterStemmer()\n",
    "wnl = WordNetLemmatizer()\n",
    "\n",
    "def get_pos( word ):\n",
    "    '''\n",
    "    Part-Of-Speech Tagger\n",
    "    '''\n",
    "    w_synsets = wordnet.synsets(word)\n",
    "    \n",
    "    \n",
    "    # n-noun, v-verb, a-adjective, r-\n",
    "    pos_counts = Counter()\n",
    "    pos_counts[\"n\"] = len(  [ item for item in w_synsets if item.pos()==\"n\"]  )\n",
    "    pos_counts[\"v\"] = len(  [ item for item in w_synsets if item.pos()==\"v\"]  )\n",
    "    pos_counts[\"a\"] = len(  [ item for item in w_synsets if item.pos()==\"a\"]  )\n",
    "    pos_counts[\"r\"] = len(  [ item for item in w_synsets if item.pos()==\"r\"]  )\n",
    "    \n",
    "    most_common_pos_list = pos_counts.most_common(3)\n",
    "    return most_common_pos_list[0][0]\n",
    "\n",
    "def clean_up_tweet(text):\n",
    "    # Remove @ from the string\n",
    "    s=re.sub(r'@[A-Za-z0-9]+','',text)    \n",
    "    \n",
    "    # Remove URLS\n",
    "    s=re.sub('https?://[A-Za-z0-9./]+','',s)\n",
    "    \n",
    "    # Set to lower case\n",
    "    s=s.lower()\n",
    "    \n",
    "    # Remove numbers\n",
    "    s= re.sub(r'[0-9]+', '', s) \n",
    "    \n",
    "    # Remove punctuation\n",
    "    s = re.sub(r'[^\\w\\s]','',s)\n",
    "    \n",
    "    # Remove underscore\n",
    "    s=s.replace(\"_\", \" \")\n",
    "    \n",
    "    # Remove RT from the tweet\n",
    "    s=s.replace(\"rt\", \"\")\n",
    "    \n",
    "    # Tokenize the words\n",
    "    words = word_tokenize(s)\n",
    "    \n",
    "    # Lemmatize the words\n",
    "    s_stem = ''\n",
    "    for wi in words:\n",
    "        #wi = ps.stem(wi)\n",
    "        wi = wnl.lemmatize(wi,get_pos(wi))\n",
    "        s_stem += ' ' + wi\n",
    "    \n",
    "    return s_stem\n",
    "\n",
    "text = df['tweet_text'][6]\n",
    "\n",
    "print(\"Example: \", text,'\\n')\n",
    "print(\"Cleaned up:\",clean_up_tweet(text))\n",
    "\n",
    "\n",
    "df['tweet_text'] = df['tweet_text'].apply(clean_up_tweet)\n",
    "\n",
    "print('The size of the table: ', len(df),'\\n')\n",
    "\n",
    "\n",
    "# Remove duplicate tweets and reset the index\n",
    "df.drop_duplicates(subset='tweet_text', keep='first', inplace=True)\n",
    "df=df.reset_index(drop=True)\n",
    "print('The size of the table: ', len(df),'\\n')"
   ]
  },
  {
   "cell_type": "code",
   "execution_count": 4,
   "metadata": {},
   "outputs": [
    {
     "name": "stdout",
     "output_type": "stream",
     "text": [
      "Read 6454 raw text documents\n"
     ]
    }
   ],
   "source": [
    "import os.path\n",
    "raw_documents = []\n",
    "snippets = []\n",
    "\n",
    "for k in range(0,len(df)):\n",
    "    text = df['tweet_text'][k]\n",
    "    raw_documents.append(text)\n",
    "    snippets.append(text)\n",
    "    #snippets.append( text[0:min(len(text),100)])\n",
    "\n",
    "print(\"Read %d raw text documents\" % len(raw_documents))"
   ]
  },
  {
   "cell_type": "code",
   "execution_count": 5,
   "metadata": {},
   "outputs": [
    {
     "name": "stdout",
     "output_type": "stream",
     "text": [
      "Stopword list has 355 entries\n",
      "Created 6454 X 432 document-term matrix\n"
     ]
    }
   ],
   "source": [
    "# Now we need to create the document term matrix\n",
    "from sklearn.feature_extraction.text import CountVectorizer\n",
    "\n",
    "# We will load in the custom stop words\n",
    "custom_stop_words = []\n",
    "with open( \"stopwords.txt\", \"r\" ) as fin:\n",
    "    for line in fin.readlines():\n",
    "        custom_stop_words.append( line.strip() )\n",
    "\n",
    "# note that we need to make it hashable\n",
    "print(\"Stopword list has %d entries\" % len(custom_stop_words) )\n",
    "\n",
    "# use a custom stopwords list, set the minimum term-document frequency to 20\n",
    "vectorizer = CountVectorizer(stop_words = custom_stop_words, min_df = 20)\n",
    "A = vectorizer.fit_transform(raw_documents)\n",
    "print( \"Created %d X %d document-term matrix\" % (A.shape[0], A.shape[1]) )"
   ]
  },
  {
   "cell_type": "code",
   "execution_count": 6,
   "metadata": {},
   "outputs": [
    {
     "name": "stdout",
     "output_type": "stream",
     "text": [
      "Vocabulary has 432 distinct terms\n"
     ]
    },
    {
     "data": {
      "text/plain": [
       "['articles-raw.pkl']"
      ]
     },
     "execution_count": 6,
     "metadata": {},
     "output_type": "execute_result"
    }
   ],
   "source": [
    "from sklearn.externals import joblib\n",
    "\n",
    "# We print out the number of features in the vocabulary\n",
    "terms = vectorizer.get_feature_names()\n",
    "print(\"Vocabulary has %d distinct terms\" % len(terms))\n",
    "\n",
    "# Save the vocabulary to a file\n",
    "joblib.dump((A,terms,snippets), \"articles-raw.pkl\") "
   ]
  },
  {
   "cell_type": "code",
   "execution_count": 7,
   "metadata": {},
   "outputs": [
    {
     "name": "stdout",
     "output_type": "stream",
     "text": [
      "Created 6454 X 432 TF-IDF-normalized document-term matrix\n",
      "Vocabulary has 432 distinct terms\n"
     ]
    }
   ],
   "source": [
    "from sklearn.feature_extraction.text import TfidfVectorizer\n",
    "\n",
    "\n",
    "# we can pass in the same preprocessing parameters\n",
    "vectorizer = TfidfVectorizer(stop_words=custom_stop_words, min_df = 20)\n",
    "A = vectorizer.fit_transform(raw_documents)\n",
    "print( \"Created %d X %d TF-IDF-normalized document-term matrix\" % (A.shape[0], A.shape[1]) )\n",
    "\n",
    "# extract the resulting vocabulary\n",
    "terms = vectorizer.get_feature_names()\n",
    "print(\"Vocabulary has %d distinct terms\" % len(terms))"
   ]
  },
  {
   "cell_type": "code",
   "execution_count": 8,
   "metadata": {},
   "outputs": [
    {
     "name": "stdout",
     "output_type": "stream",
     "text": [
      "01. ford (287.94)\n",
      "02. tesla (198.29)\n",
      "03. ebay (159.65)\n",
      "04. car (154.00)\n",
      "05. ferrari (144.89)\n",
      "06. get (122.42)\n",
      "07. bmw (121.14)\n",
      "08. amp (99.50)\n",
      "09. check (96.04)\n",
      "10. drive (89.36)\n",
      "11. honda (85.86)\n",
      "12. go (85.79)\n",
      "13. kia (85.56)\n",
      "14. porsche (82.56)\n",
      "15. look (82.37)\n",
      "16. sale (78.90)\n",
      "17. toyota (77.06)\n",
      "18. take (71.31)\n",
      "19. audi (68.82)\n",
      "20. see (68.61)\n"
     ]
    },
    {
     "data": {
      "text/plain": [
       "['articles-tfidf.pkl']"
      ]
     },
     "execution_count": 8,
     "metadata": {},
     "output_type": "execute_result"
    }
   ],
   "source": [
    "import operator\n",
    "def rank_terms( A, terms ):\n",
    "    # get the sums over each column\n",
    "    sums = A.sum(axis=0)\n",
    "    # map weights to the terms\n",
    "    weights = {}\n",
    "    for col, term in enumerate(terms):\n",
    "        weights[term] = sums[0,col]\n",
    "    # rank the terms by their weight over all documents\n",
    "    return sorted(weights.items(), key=operator.itemgetter(1), reverse=True)\n",
    "\n",
    "ranking = rank_terms( A, terms )\n",
    "for i, pair in enumerate( ranking[0:20] ):\n",
    "    print( \"%02d. %s (%.2f)\" % ( i+1, pair[0], pair[1] ) )\n",
    "    \n",
    "# Save these terms for later use    \n",
    "joblib.dump((A,terms,snippets), \"articles-tfidf.pkl\") "
   ]
  },
  {
   "cell_type": "markdown",
   "metadata": {},
   "source": [
    "# Matrix Factorization"
   ]
  },
  {
   "cell_type": "code",
   "execution_count": 13,
   "metadata": {},
   "outputs": [
    {
     "name": "stdout",
     "output_type": "stream",
     "text": [
      "Loaded 6454 X 432 document-term matrix\n"
     ]
    }
   ],
   "source": [
    "# We load the document term matrix\n",
    "from sklearn import decomposition\n",
    "from sklearn.externals import joblib\n",
    "\n",
    "# Load in the Data\n",
    "(A,terms,snippets) = joblib.load( \"articles-tfidf.pkl\" )\n",
    "print( \"Loaded %d X %d document-term matrix\" % (A.shape[0], A.shape[1]) )\n",
    "\n",
    "# create the model\n",
    "k = 10 # The number of topics to generate\n",
    "model = decomposition.NMF( init=\"nndsvd\", n_components=k ) \n",
    "# apply the model and extract the two factor matrices\n",
    "W = model.fit_transform( A )\n",
    "H = model.components_"
   ]
  },
  {
   "cell_type": "code",
   "execution_count": 48,
   "metadata": {},
   "outputs": [
    {
     "name": "stdout",
     "output_type": "stream",
     "text": [
      "(6454, 10)\n",
      "0.268571390619\n",
      "0.0\n",
      "=========================================================\n",
      "Topic:  1\n",
      "Number of Tweets above the threshold:  740\n",
      "=========================================================\n",
      "=========================================================\n",
      "Topic:  2\n",
      "Number of Tweets above the threshold:  497\n",
      "=========================================================\n",
      "=========================================================\n",
      "Topic:  3\n",
      "Number of Tweets above the threshold:  535\n",
      "=========================================================\n",
      "=========================================================\n",
      "Topic:  4\n",
      "Number of Tweets above the threshold:  303\n",
      "=========================================================\n",
      "=========================================================\n",
      "Topic:  5\n",
      "Number of Tweets above the threshold:  426\n",
      "=========================================================\n",
      "=========================================================\n",
      "Topic:  6\n",
      "Number of Tweets above the threshold:  240\n",
      "=========================================================\n",
      "=========================================================\n",
      "Topic:  7\n",
      "Number of Tweets above the threshold:  136\n",
      "=========================================================\n",
      "=========================================================\n",
      "Topic:  8\n",
      "Number of Tweets above the threshold:  313\n",
      "=========================================================\n",
      "=========================================================\n",
      "Topic:  9\n",
      "Number of Tweets above the threshold:  508\n",
      "=========================================================\n",
      "=========================================================\n",
      "Topic:  10\n",
      "Number of Tweets above the threshold:  459\n",
      "=========================================================\n"
     ]
    },
    {
     "data": {
      "image/png": "[encoded data removed]",
      "text/plain": [
       "<Figure size 432x288 with 1 Axes>"
      ]
     },
     "metadata": {},
     "output_type": "display_data"
    }
   ],
   "source": [
    "# The W[i][j] matrix, i represents the document, and j represents the association with a given topic\n",
    "print(W.shape)\n",
    "\n",
    "topic = 0\n",
    "threshold = 0.05\n",
    "print(max(W[:,topic]))\n",
    "print(min(W[:,topic]))\n",
    "plt.hist(W[:,topic])\n",
    "\n",
    "N_topic_samples = []\n",
    "\n",
    "for topic in range(0,k):\n",
    "    above_threshold = len(W[W[:,topic]>=threshold,topic])\n",
    "    print('=========================================================')\n",
    "    N_topic_samples.append(above_threshold)\n",
    "    print('Topic: ', topic+1)\n",
    "    print( \"Number of Tweets above the threshold: \", above_threshold )\n",
    "    print('=========================================================')\n",
    "\n",
    "# The H[i][j] matrix\n",
    "#print(H.shape)"
   ]
  },
  {
   "cell_type": "code",
   "execution_count": 49,
   "metadata": {},
   "outputs": [
    {
     "name": "stdout",
     "output_type": "stream",
     "text": [
      "Topic 01: ford, doug, go, mustang, toronto, henry, see, check, sale, people, ontario, pay\n",
      "Topic 02: tesla, earnings, model, elon, musk, tsla, want, video, factory, atari, go, repo\n",
      "Topic 03: ebay, gtgt, check, find, deal, camera, saw, shoe, black, size, usa, woman\n",
      "Topic 04: ferrari, maranello, design, performance, ceo, share, call, engine, discover, back, ferraripoofino, drive\n",
      "Topic 05: car, sale, nissan, july, drive, toyota, lamborghini, audi, buy, video, model, auto\n",
      "Topic 06: bmw, series, mercedes, video, love, think, benz, check, build, arrive, drive, available\n",
      "Topic 07: kia, need, sale, yellow, na, see, country, think, july, old, hi, paint\n",
      "Topic 08: get, fiat, go, audi, toyota, think, im, leave, rover, need, see, pin\n",
      "Topic 09: look, honda, take, price, change, toyota, mercedesbenz, civic, back, video, great, day\n",
      "Topic 10: porsche, amp, drive, silver, reveal, time, im, know, love, sterling, see, gt\n"
     ]
    }
   ],
   "source": [
    "import numpy as np\n",
    "def get_descriptor( terms, H, topic_index, top ):\n",
    "    # reverse sort the values to sort the indices\n",
    "    top_indices = np.argsort( H[topic_index,:] )[::-1]\n",
    "    # now get the terms corresponding to the top-ranked indices\n",
    "    top_terms = []\n",
    "    for term_index in top_indices[0:top]:\n",
    "        top_terms.append( terms[term_index] )\n",
    "    return top_terms\n",
    "\n",
    "\n",
    "descriptors = []\n",
    "for topic_index in range(k):\n",
    "    descriptors.append( get_descriptor( terms, H, topic_index, 12 ) )\n",
    "    str_descriptor = \", \".join( descriptors[topic_index] )\n",
    "    print(\"Topic %02d: %s\" % ( topic_index+1, str_descriptor ) )"
   ]
  },
  {
   "cell_type": "code",
   "execution_count": 61,
   "metadata": {},
   "outputs": [
    {
     "data": {
      "image/png": "[encoded data removed]",
      "text/plain": [
       "<Figure size 936x576 with 1 Axes>"
      ]
     },
     "metadata": {},
     "output_type": "display_data"
    },
    {
     "name": "stdout",
     "output_type": "stream",
     "text": [
      "================================================\n",
      "\n",
      "\n",
      " Topic:  4\n",
      "01.  mitsubishi lancer evo vii wrc rally car x \n",
      "02.  a it claim car manufacturer arent prepare for brexit rollsroyce unveil new prototype \n",
      "03.  beat him to death with his car \n",
      "04.  kpowered tarmac rally car have u opening our wallet \n",
      "05.  dev next car jailbreak \n",
      "06.  it your responsibility to fix the car if it be under the warranty \n",
      "07.  tora takagi crash his tyrrellford during qualify which require a tractor to remove his car a warn from main b \n",
      "08.  use car ford ecoline e greenacres use car \n",
      "09.  use car nissan versa west palm beach use car \n",
      "10.  use car nissan z west palm beach use car \n",
      "================================================\n",
      "\n",
      "The total number of snippets:  6454\n",
      "\n",
      "\n",
      "Topic:  4\n",
      "Total:  425\n",
      "Percent Positive:  8.941176470588236\n",
      "Percent Negative:  1.1764705882352942\n",
      "Percent Neutral:  89.88235294117646\n"
     ]
    },
    {
     "data": {
      "image/png": "[encoded data removed]",
      "text/plain": [
       "<Figure size 432x288 with 1 Axes>"
      ]
     },
     "metadata": {},
     "output_type": "display_data"
    },
    {
     "data": {
      "image/png": "[encoded data removed]",
      "text/plain": [
       "<Figure size 432x288 with 1 Axes>"
      ]
     },
     "metadata": {},
     "output_type": "display_data"
    }
   ],
   "source": [
    "# Analysis using textblob\n",
    "from textblob import TextBlob\n",
    "import collections\n",
    "\n",
    "plt.style.use(\"ggplot\")\n",
    "matplotlib.rcParams.update({\"font.size\": 14})\n",
    "\n",
    "topic = 4\n",
    "dN_sentiment = 10 \n",
    "\n",
    "def plot_top_term_weights( terms, H, topic_index, top ):\n",
    "    # get the top terms and their weights\n",
    "    top_indices = np.argsort( H[topic_index,:] )[::-1]\n",
    "    top_terms = []\n",
    "    top_weights = []\n",
    "    for term_index in top_indices[0:top]:\n",
    "        top_terms.append( terms[term_index] )\n",
    "        top_weights.append( H[topic_index,term_index] )\n",
    "    # note we reverse the ordering for the plot\n",
    "    top_terms.reverse()\n",
    "    top_weights.reverse()\n",
    "    # create the plot\n",
    "    fig = plt.figure(figsize=(13,8))\n",
    "    # add the horizontal bar chart\n",
    "    ypos = np.arange(top)\n",
    "    ax = plt.barh(ypos, top_weights, align=\"center\", color=\"green\",tick_label=top_terms)\n",
    "    plt.xlabel(\"Term Weight\",fontsize=14)\n",
    "    plt.tight_layout()\n",
    "    plt.show()\n",
    "    \n",
    "    \n",
    "plot_top_term_weights( terms, H, topic, 10 )    \n",
    "\n",
    "\n",
    "# Let us look now at the most relevant posts for each topic\n",
    "\n",
    "def get_top_snippets( all_snippets, W, topic_index, top ):\n",
    "    \n",
    "    # reverse sort the values to sort the indices\n",
    "    top_indices = np.argsort( W[:,topic_index] )[::-1]\n",
    "    \n",
    "    # now get the snippets corresponding to the top-ranked indices\n",
    "    top_snippets = []\n",
    "    for doc_index in top_indices[0:top]:\n",
    "        top_snippets.append( all_snippets[doc_index] )\n",
    "    return top_snippets\n",
    "\n",
    "topic_snippets = get_top_snippets( snippets, W, topic, 10 )\n",
    "\n",
    "print('================================================\\n')\n",
    "print('\\n Topic: ', topic)\n",
    "for i, snippet in enumerate(topic_snippets):\n",
    "    print(\"%02d. %s \" % ( (i+1), snippet) )\n",
    "print('================================================\\n')    \n",
    "\n",
    "percent_positive = []\n",
    "percent_negative = []\n",
    "percent_neutral = []\n",
    "N= []\n",
    "\n",
    "#=========================================================================================================\n",
    "\n",
    "\n",
    "print('The total number of snippets: ',len(snippets))\n",
    "\n",
    "for N_sentiment in range(5,N_topic_samples[topic]+1,dN_sentiment):\n",
    "    sentiment_polarity_data= []\n",
    "    sentiment_subjectivity_data= []\n",
    "    \n",
    "    # Get the top N_sentiment snippets  \n",
    "    topic_snippets = get_top_snippets( snippets, W, topic, N_sentiment )\n",
    "    \n",
    "    # Calculate the sentiment of the top N_sentiment \n",
    "    for i, snippet in enumerate(topic_snippets):\n",
    "        snippet_polarity_score =  TextBlob(snippet).sentiment.polarity # Polarity, [1]= subjectivity\n",
    "        snippet_subjectivity_score = TextBlob(snippet).sentiment.subjectivity\n",
    "        \n",
    "        if(snippet_polarity_score>=0.5):\n",
    "            sentiment_polarity_data.append(1.0)\n",
    "        elif(snippet_polarity_score<=-0.5):\n",
    "            sentiment_polarity_data.append(-1.0)\n",
    "        else:\n",
    "            sentiment_polarity_data.append(0.0)\n",
    "            \n",
    "    sentiment_polarity_data = np.asarray(sentiment_polarity_data)\n",
    "    sentiment_subjectivity_data = np.asarray(sentiment_subjectivity_data)\n",
    "    \n",
    "    # Collect all results \n",
    "    pos = collections.Counter(sentiment_polarity_data)[1]/len(sentiment_polarity_data)*100.0\n",
    "    neg = collections.Counter(sentiment_polarity_data)[-1]/len(sentiment_polarity_data)*100.0\n",
    "    neut =  collections.Counter(sentiment_polarity_data)[0]/len(sentiment_polarity_data)*100.0\n",
    "    N.append(N_sentiment)\n",
    "    \n",
    "    percent_negative.append(neg)\n",
    "    percent_positive.append(pos)\n",
    "    percent_neutral.append(neut)\n",
    "    \n",
    "#=========================================================================================================\n",
    "\n",
    "\n",
    "print('\\n')\n",
    "print('Topic: ', topic)\n",
    "print('Total: ', N[-1])\n",
    "print(\"Percent Positive: \", percent_positive[-1] )\n",
    "print(\"Percent Negative: \", percent_negative[-1] )\n",
    "print(\"Percent Neutral: \", percent_neutral[-1] )\n",
    "\n",
    "\n",
    "plt.clf()\n",
    "plt.hist(sentiment_polarity_data,density=True)\n",
    "plt.show()\n",
    "\n",
    "\n",
    "plt.clf()\n",
    "plt.plot(N,percent_positive)\n",
    "plt.plot(N,percent_negative)\n",
    "plt.show()"
   ]
  },
  {
   "cell_type": "code",
   "execution_count": 65,
   "metadata": {},
   "outputs": [],
   "source": [
    "def calculate(topic):\n",
    "    \n",
    "    for N_sentiment in range(5,N_topic_samples[topic]+1,dN_sentiment):\n",
    "        sentiment_polarity_data= []\n",
    "        sentiment_subjectivity_data= []\n",
    "    \n",
    "    # Get the top N_sentiment snippets  \n",
    "    topic_snippets = get_top_snippets( snippets, W, topic, N_sentiment )\n",
    "    \n",
    "    # Calculate the sentiment of the top N_sentiment \n",
    "    for i, snippet in enumerate(topic_snippets):\n",
    "        snippet_polarity_score =  TextBlob(snippet).sentiment.polarity # Polarity, [1]= subjectivity\n",
    "        snippet_subjectivity_score = TextBlob(snippet).sentiment.subjectivity\n",
    "        \n",
    "        if(snippet_polarity_score>=0.5):\n",
    "            sentiment_polarity_data.append(1.0)\n",
    "        elif(snippet_polarity_score<=-0.5):\n",
    "            sentiment_polarity_data.append(-1.0)\n",
    "        else:\n",
    "            sentiment_polarity_data.append(0.0)\n",
    "            \n",
    "    sentiment_polarity_data = np.asarray(sentiment_polarity_data)\n",
    "    sentiment_subjectivity_data = np.asarray(sentiment_subjectivity_data)\n",
    "    \n",
    "    # Collect all results \n",
    "    pos = collections.Counter(sentiment_polarity_data)[1]/len(sentiment_polarity_data)*100.0\n",
    "    neg = collections.Counter(sentiment_polarity_data)[-1]/len(sentiment_polarity_data)*100.0\n",
    "    neut =  collections.Counter(sentiment_polarity_data)[0]/len(sentiment_polarity_data)*100.0\n",
    "    N.append(N_sentiment)\n",
    "    \n",
    "    percent_negative.append(neg)\n",
    "    percent_positive.append(pos)\n",
    "    percent_neutral.append(neut)\n",
    "    \n",
    "    return N,percent_negative, percent_positive, percent_neutral"
   ]
  },
  {
   "cell_type": "code",
   "execution_count": 76,
   "metadata": {},
   "outputs": [
    {
     "data": {
      "image/png": "[encoded data removed]",
      "text/plain": [
       "<Figure size 432x288 with 1 Axes>"
      ]
     },
     "metadata": {},
     "output_type": "display_data"
    }
   ],
   "source": [
    "# Calculate the sentiments for all topics\n",
    "\n",
    "topic_pos = np.zeros(k)\n",
    "topic_neg = np.zeros(k)\n",
    "topic_neutral = np.zeros(k)\n",
    "topic_N = np.zeros(k)\n",
    "\n",
    "for topic in range(k):\n",
    "    N,percent_negative, percent_positive, percent_neutral = calculate(topic)\n",
    "    topic_pos[topic] =  percent_positive[-1]\n",
    "    topic_neg[topic] =  percent_negative[-1]\n",
    "    topic_neutral[topic] = percent_neutral[-1]\n",
    "    topic_N[-1] = N[-1]\n",
    "\n",
    "x_axis_num = range(0,k)\n",
    "x_axis_label = ['Topic: '+str(i) for i in x_axis_num]\n",
    "    \n",
    "plt.clf()\n",
    "plt.xticks(range(0,k), ('Topic 1', 'Topic 2', 'Topic 2', 'G4', 'G5'))\n",
    "plt.bar(range(0,k), topic_pos, width)\n",
    "plt.bar(range(0,k), topic_neg, width,bottom=topic_pos)\n",
    "plt.show()"
   ]
  },
  {
   "cell_type": "code",
   "execution_count": null,
   "metadata": {},
   "outputs": [],
   "source": []
  }
 ],
 "metadata": {
  "kernelspec": {
   "display_name": "Python [conda env:py35]",
   "language": "python",
   "name": "conda-env-py35-py"
  },
  "language_info": {
   "codemirror_mode": {
    "name": "ipython",
    "version": 3
   },
   "file_extension": ".py",
   "mimetype": "text/x-python",
   "name": "python",
   "nbconvert_exporter": "python",
   "pygments_lexer": "ipython3",
   "version": "3.5.5"
  }
 },
 "nbformat": 4,
 "nbformat_minor": 2
}
